{
  "nbformat": 4,
  "nbformat_minor": 0,
  "metadata": {
    "kernelspec": {
      "display_name": "Python 3",
      "language": "python",
      "name": "python3"
    },
    "language_info": {
      "codemirror_mode": {
        "name": "ipython",
        "version": 3
      },
      "file_extension": ".py",
      "mimetype": "text/x-python",
      "name": "python",
      "nbconvert_exporter": "python",
      "pygments_lexer": "ipython3",
      "version": "3.7.3"
    },
    "colab": {
      "name": "QNN_Optimization.ipynb",
      "provenance": [],
      "include_colab_link": true
    }
  },
  "cells": [
    {
      "cell_type": "markdown",
      "metadata": {
        "id": "view-in-github",
        "colab_type": "text"
      },
      "source": [
        "<a href=\"https://colab.research.google.com/github/nargesalavi/Quantum-Open-Source-Foundation-Mentorship/blob/master/QNN_Optimization.ipynb\" target=\"_parent\"><img src=\"https://colab.research.google.com/assets/colab-badge.svg\" alt=\"Open In Colab\"/></a>"
      ]
    },
    {
      "cell_type": "code",
      "metadata": {
        "id": "i9yO54UPnnjA",
        "colab_type": "code",
        "colab": {}
      },
      "source": [
        "!pip install tensorflow==2.1.0"
      ],
      "execution_count": null,
      "outputs": []
    },
    {
      "cell_type": "code",
      "metadata": {
        "id": "CW0AfQmbnuln",
        "colab_type": "code",
        "colab": {}
      },
      "source": [
        "!pip install tensorflow-quantum"
      ],
      "execution_count": null,
      "outputs": []
    },
    {
      "cell_type": "code",
      "metadata": {
        "id": "tfFL0mSXnlaT",
        "colab_type": "code",
        "colab": {}
      },
      "source": [
        "import tensorflow as tf\n",
        "import tensorflow_quantum as tfq\n",
        "import cirq\n",
        "import sympy\n",
        "import numpy as np\n",
        "\n",
        "# visualization tools\n",
        "%matplotlib inline\n",
        "import matplotlib.pyplot as plt"
      ],
      "execution_count": null,
      "outputs": []
    },
    {
      "cell_type": "code",
      "metadata": {
        "id": "QK_gJw9Mnlac",
        "colab_type": "code",
        "colab": {}
      },
      "source": [
        "qubits = cirq.GridQubit.rect(1, 4)"
      ],
      "execution_count": 2,
      "outputs": []
    },
    {
      "cell_type": "code",
      "metadata": {
        "id": "nl8-yRRJnlak",
        "colab_type": "code",
        "colab": {}
      },
      "source": [
        "def generate_even_block(block_number):\n",
        "    \"\"\" Function for generating the even blocks\n",
        "        Arguments:\n",
        "          block_number: Block number, it has to be even.\n",
        "        return: ciq.Circuit \"\"\"\n",
        "    params = sympy.symbols(['theta_{}'.format(n) for n in range((block_number-1)*4,block_number*4)])\n",
        "\n",
        "    # create the parameterized circuit\n",
        "    circuit = cirq.Circuit(\n",
        "        cirq.rz(params[0])(qubits[0]),\n",
        "        cirq.rz(params[1])(qubits[1]),\n",
        "        cirq.rz(params[2])(qubits[2]),\n",
        "        cirq.rz(params[3])(qubits[3]),\n",
        "        cirq.CZ(qubits[0],qubits[1]),\n",
        "        cirq.CZ(qubits[0],qubits[2]),\n",
        "        cirq.CZ(qubits[0],qubits[3]),\n",
        "        cirq.CZ(qubits[1],qubits[2]),\n",
        "        cirq.CZ(qubits[1],qubits[3]),\n",
        "        cirq.CZ(qubits[2],qubits[3])\n",
        "    )\n",
        "    \n",
        "    return circuit"
      ],
      "execution_count": 3,
      "outputs": []
    },
    {
      "cell_type": "code",
      "metadata": {
        "id": "hvfGTPq-nlbk",
        "colab_type": "code",
        "colab": {}
      },
      "source": [
        "def generate_odd_block(block_number):\n",
        "    \"\"\" Function for generating the odd blocks\n",
        "        block_number: Block number, it has to be odd.\n",
        "        return: ciq.Circuit \"\"\"\n",
        "    params = sympy.symbols(['theta_{}'.format(n) for n in range((block_number-1)*4,block_number*4)])\n",
        "\n",
        "    # create the parameterized circuit\n",
        "    circuit = cirq.Circuit(\n",
        "        cirq.rx(params[0])(qubits[0]),\n",
        "        cirq.rx(params[1])(qubits[1]),\n",
        "        cirq.rx(params[2])(qubits[2]),\n",
        "        cirq.rx(params[3])(qubits[3])\n",
        "    )\n",
        "    \n",
        "    return circuit"
      ],
      "execution_count": 4,
      "outputs": []
    },
    {
      "cell_type": "code",
      "metadata": {
        "id": "o6oL_nZJnlb5",
        "colab_type": "code",
        "colab": {}
      },
      "source": [
        "def generate_qnn(l):\n",
        "    \"\"\" Function for generating qnn, containing l number of layers.\n",
        "        Arguments:\n",
        "          l: number of layers, each layer contains one odd and one even block.\n",
        "        return: ciq.Circuit \"\"\"\n",
        "    circuit = cirq.Circuit()\n",
        "    for i in range(1,2*l+1):\n",
        "        if i % 2 == 1:\n",
        "            circuit += generate_odd_block(i)\n",
        "        else:\n",
        "            circuit += generate_even_block(i)\n",
        "        \n",
        "    return circuit"
      ],
      "execution_count": 5,
      "outputs": []
    },
    {
      "cell_type": "code",
      "metadata": {
        "id": "PhEtWuC8nlb8",
        "colab_type": "code",
        "colab": {
          "base_uri": "https://localhost:8080/",
          "height": 170
        },
        "outputId": "8a09b8d0-1ac0-413c-f019-8ed14c68419d"
      },
      "source": [
        "l=1\n",
        "qnn = generate_qnn(l)\n",
        "print(qnn)"
      ],
      "execution_count": 6,
      "outputs": [
        {
          "output_type": "stream",
          "text": [
            "                                               ┌──┐\n",
            "(0, 0): ───Rx(theta_0)───Rz(theta_4)───@───@────@─────────────\n",
            "                                       │   │    │\n",
            "(0, 1): ───Rx(theta_1)───Rz(theta_5)───@───┼────┼@────@───────\n",
            "                                           │    ││    │\n",
            "(0, 2): ───Rx(theta_2)───Rz(theta_6)───────@────┼@────┼───@───\n",
            "                                                │     │   │\n",
            "(0, 3): ───Rx(theta_3)───Rz(theta_7)────────────@─────@───@───\n",
            "                                               └──┘\n"
          ],
          "name": "stdout"
        }
      ]
    },
    {
      "cell_type": "code",
      "metadata": {
        "id": "wVqt1tdrnlb-",
        "colab_type": "code",
        "colab": {
          "base_uri": "https://localhost:8080/",
          "height": 68
        },
        "outputId": "9c664ed4-587e-45eb-e374-5d447dcc618c"
      },
      "source": [
        "params = tf.random.uniform(shape = (1,8*l), minval=0, maxval=2*np.pi) #tf.zeros([1,8*l ], tf.float32)\n",
        "print(params)\n",
        "params_names = sympy.symbols(['theta_{}'.format(n) for n in range(8*l)])"
      ],
      "execution_count": 7,
      "outputs": [
        {
          "output_type": "stream",
          "text": [
            "tf.Tensor(\n",
            "[[3.464979   3.8585992  1.6413887  0.58070165 2.6259153  2.6640954\n",
            "  0.49289095 4.401776  ]], shape=(1, 8), dtype=float32)\n"
          ],
          "name": "stdout"
        }
      ]
    },
    {
      "cell_type": "code",
      "metadata": {
        "id": "_iYE0IgLnlcB",
        "colab_type": "code",
        "colab": {
          "base_uri": "https://localhost:8080/",
          "height": 258
        },
        "outputId": "8f9a1fac-d8eb-4116-80be-098bac68fd5a"
      },
      "source": [
        "state_layer = tfq.layers.State()\n",
        "state = state_layer(qnn, symbol_names=params_names, symbol_values=params)\n",
        "print(qnn)\n",
        "print(state)"
      ],
      "execution_count": 8,
      "outputs": [
        {
          "output_type": "stream",
          "text": [
            "WARNING:tensorflow:From /usr/local/lib/python3.6/dist-packages/tensorflow_core/python/util/deprecation.py:507: calling count_nonzero (from tensorflow.python.ops.math_ops) with axis is deprecated and will be removed in a future version.\n",
            "Instructions for updating:\n",
            "reduction_indices is deprecated, use axis instead\n",
            "                                               ┌──┐\n",
            "(0, 0): ───Rx(theta_0)───Rz(theta_4)───@───@────@─────────────\n",
            "                                       │   │    │\n",
            "(0, 1): ───Rx(theta_1)───Rz(theta_5)───@───┼────┼@────@───────\n",
            "                                           │    ││    │\n",
            "(0, 2): ───Rx(theta_2)───Rz(theta_6)───────@────┼@────┼───@───\n",
            "                                                │     │   │\n",
            "(0, 3): ───Rx(theta_3)───Rz(theta_7)────────────@─────@───@───\n",
            "                                               └──┘\n",
            "<tf.RaggedTensor [[(0.01368376798927784+0.03426474705338478j), (-0.007022196426987648-0.008498533628880978j), (0.03934480994939804+0.004462650045752525j), (0.011601006612181664-0.0023235385306179523j), (0.06443554162979126-0.07446013391017914j), (0.011531644500792027-0.027068188413977623j), (0.03767789155244827+0.09873323142528534j), (-0.019735993817448616-0.024648340418934822j), (0.14137765765190125-0.1765669286251068j), (0.024096544831991196-0.06314390897750854j), (0.09514361619949341+0.22333034873008728j), (-0.0474635548889637-0.05484774336218834j), (0.5919179916381836+0.11855390667915344j), (-0.17922544479370117+0.020328454673290253j), (0.41267266869544983-0.49943220615386963j), (0.07179351150989532-0.17977382242679596j)]]>\n"
          ],
          "name": "stdout"
        }
      ]
    },
    {
      "cell_type": "code",
      "metadata": {
        "id": "YdriDgEinlcD",
        "colab_type": "code",
        "colab": {
          "base_uri": "https://localhost:8080/",
          "height": 207
        },
        "outputId": "e8c7b556-3a2a-4551-e13c-ba5cfa0d32d5"
      },
      "source": [
        "random_circuit = cirq.testing.random_circuit(qubits = qubits,n_moments = np.random.randint(low=1,high=5),\\\n",
        "                                                                op_density = 0.99999999)\n",
        "print(random_circuit)\n",
        "target_state = tfq.layers.State()(random_circuit)\n",
        "print(target_state)"
      ],
      "execution_count": 9,
      "outputs": [
        {
          "output_type": "stream",
          "text": [
            "           ┌──┐           ┌──┐\n",
            "(0, 0): ──────────X────────@─────\n",
            "                           │\n",
            "(0, 1): ─────×────iSwap────┼─────\n",
            "             │    │        │\n",
            "(0, 2): ────Z┼────iSwap────┼Y────\n",
            "             │             │\n",
            "(0, 3): ─────×────Y────────@─────\n",
            "           └──┘           └──┘\n",
            "<tf.RaggedTensor [[8.351871720877864e-23j, (8.351871720877864e-23-1.910685465164705e-15j), (8.351871720877864e-23-1.910685465164705e-15j), (-3.82137093032941e-15+4.371138828673793e-08j), 0j, 0j, 0j, 0j, (-1.910685465164705e-15-8.351871720877864e-23j), (-4.371138828673793e-08-7.64274186065882e-15j), (4.371138828673793e-08+3.82137093032941e-15j), (1+2.1855693432826229e-07j), 0j, 0j, 0j, 0j]]>\n"
          ],
          "name": "stdout"
        }
      ]
    },
    {
      "cell_type": "code",
      "metadata": {
        "id": "scCdJfzMBfwo",
        "colab_type": "code",
        "colab": {}
      },
      "source": [
        "def states_distance(state,target):\n",
        "  diff = state[0] - target[0]\n",
        "  diff = tf.reshape(diff, [16, 1])\n",
        "  conjugate_transposed_state = tf.transpose(diff,conjugate=True)\n",
        "  distance = tf.tensordot(conjugate_transposed_state, diff, axes = 1)\n",
        "  #print('distance:' , distance, 'state:', state)\n",
        "  return tf.dtypes.cast(distance, tf.float32)"
      ],
      "execution_count": 10,
      "outputs": []
    },
    {
      "cell_type": "code",
      "metadata": {
        "id": "HcIf9kRVCv3z",
        "colab_type": "code",
        "colab": {}
      },
      "source": [
        "# gradient(theta[i]) = function(theta)\n",
        "def custom_gradient(params, target_state, parameter_shift = True, h = np.pi/2):\n",
        "  \"\"\" This function calculates the gradients of the quantum circuit's parameters \n",
        "      using two methods: Parameter shift rules or Numerical differentiation.\n",
        "      In numerical differentiation method, for Pauli gates the shift value is pi/2 and the ratio is 1/2. \n",
        "      Arguments:\n",
        "        params: circuit's parameters, of which the gradient is calculated.\n",
        "        target_state: The target state, which the quantum NN trys to approximate.\n",
        "        parameter_shift: Determine which method is used to calculate the gradients. \n",
        "                         When it is True, the function uses parameter shift otherwise it uses numerical differentiation.\n",
        "        h: The shift value for parameter. When parameter shift method is used, it is pi/2.\"\"\"\n",
        "  param_length = len(params[0])\n",
        "  grad = [None]*param_length\n",
        "  if parameter_shift : \n",
        "    r = 1/2\n",
        "    h = np.pi/2\n",
        "  else:\n",
        "    r = 1/(2*h)\n",
        "  for i in range(param_length):\n",
        "    \n",
        "    params_plus_h = tf.convert_to_tensor([np.concatenate((params[0][0:i],[params[0][i]+h],params[0][i+1:]))])\n",
        "    params_minus_h = tf.convert_to_tensor([np.concatenate((params[0][0:i],[params[0][i]-h],params[0][i+1:]))])\n",
        "    state_plus_h = state_layer(qnn, symbol_names=params_names, symbol_values=params_plus_h)\n",
        "    state_minus_h = state_layer(qnn, symbol_names=params_names, symbol_values=params_minus_h)\n",
        "    #print('i', i, 'state_plus_h:', state_plus_h, 'state_minus_h:', state_minus_h) \n",
        "    grad[i] = r*(states_distance(state_plus_h,target_state)-states_distance(state_minus_h,target_state))\n",
        "\n",
        "  return grad"
      ],
      "execution_count": 12,
      "outputs": []
    },
    {
      "cell_type": "code",
      "metadata": {
        "id": "AcJOL6VvMNa_",
        "colab_type": "code",
        "colab": {}
      },
      "source": [
        "def update_params(params, gradients, learning_rate):\n",
        "  gradients = tf.reshape(gradients,[1,len(params[0])])\n",
        "  params -= learning_rate*gradients\n",
        "  #params = params % (2*np.pi)\n",
        "  return params\n"
      ],
      "execution_count": 29,
      "outputs": []
    },
    {
      "cell_type": "code",
      "metadata": {
        "id": "H7jZuIBVWWdn",
        "colab_type": "code",
        "colab": {}
      },
      "source": [
        "L = 10\n",
        "learning_rate = 0.01\n",
        "number_of_iteration = 4000"
      ],
      "execution_count": 32,
      "outputs": []
    },
    {
      "cell_type": "code",
      "metadata": {
        "id": "YIguzyHM5Cc8",
        "colab_type": "code",
        "colab": {
          "base_uri": "https://localhost:8080/",
          "height": 1000
        },
        "outputId": "aba25f34-a5b4-4111-8c51-8414e2310ddd"
      },
      "source": [
        "#for i in range (1,10):\n",
        "list_of_e =[]\n",
        "for l in range(1,L+1):\n",
        "  print('***** l:', l)\n",
        "  qnn = generate_qnn(l)\n",
        "  params = tf.random.uniform(shape = (1,8*l), minval=0, maxval=2*np.pi) #tf.zeros([1,8*l ], tf.float32)\n",
        "  params_names = sympy.symbols(['theta_{}'.format(n) for n in range(8*l)])\n",
        "  eValues = []\n",
        "  for i in range(number_of_iteration):\n",
        "    params_grads = custom_gradient(params, target_state,parameter_shift = False, h = np.pi/320)\n",
        "    params = update_params(params, params_grads,learning_rate)\n",
        "\n",
        "    approximation = state_layer(qnn, symbol_names=params_names, symbol_values=params)\n",
        "    e = states_distance(approximation,target_state)\n",
        "    eValues.append(e[0][0])\n",
        "\n",
        "    if i % 80 == 0:\n",
        "      print('i:', i, 'e:', e)\n",
        "  list_of_e.append(eValues)\n",
        "print(e)"
      ],
      "execution_count": null,
      "outputs": [
        {
          "output_type": "stream",
          "text": [
            "***** l: 1\n",
            "i: 0 e: tf.Tensor([[1.9749848]], shape=(1, 1), dtype=float32)\n",
            "i: 80 e: tf.Tensor([[1.947661]], shape=(1, 1), dtype=float32)\n",
            "i: 160 e: tf.Tensor([[1.9106853]], shape=(1, 1), dtype=float32)\n",
            "i: 240 e: tf.Tensor([[1.8556464]], shape=(1, 1), dtype=float32)\n",
            "i: 320 e: tf.Tensor([[1.7685562]], shape=(1, 1), dtype=float32)\n",
            "i: 400 e: tf.Tensor([[1.6276143]], shape=(1, 1), dtype=float32)\n",
            "i: 480 e: tf.Tensor([[1.4073081]], shape=(1, 1), dtype=float32)\n",
            "i: 560 e: tf.Tensor([[1.1009603]], shape=(1, 1), dtype=float32)\n",
            "i: 640 e: tf.Tensor([[0.7530979]], shape=(1, 1), dtype=float32)\n",
            "i: 720 e: tf.Tensor([[0.4463128]], shape=(1, 1), dtype=float32)\n",
            "i: 800 e: tf.Tensor([[0.2348272]], shape=(1, 1), dtype=float32)\n",
            "i: 880 e: tf.Tensor([[0.11430595]], shape=(1, 1), dtype=float32)\n",
            "i: 960 e: tf.Tensor([[0.05331492]], shape=(1, 1), dtype=float32)\n",
            "i: 1040 e: tf.Tensor([[0.0243473]], shape=(1, 1), dtype=float32)\n",
            "i: 1120 e: tf.Tensor([[0.01100895]], shape=(1, 1), dtype=float32)\n",
            "i: 1200 e: tf.Tensor([[0.00495529]], shape=(1, 1), dtype=float32)\n",
            "i: 1280 e: tf.Tensor([[0.00222583]], shape=(1, 1), dtype=float32)\n",
            "i: 1360 e: tf.Tensor([[0.0009989]], shape=(1, 1), dtype=float32)\n",
            "i: 1440 e: tf.Tensor([[0.00044808]], shape=(1, 1), dtype=float32)\n",
            "i: 1520 e: tf.Tensor([[0.00020098]], shape=(1, 1), dtype=float32)\n",
            "i: 1600 e: tf.Tensor([[9.013109e-05]], shape=(1, 1), dtype=float32)\n",
            "i: 1680 e: tf.Tensor([[4.0414634e-05]], shape=(1, 1), dtype=float32)\n",
            "i: 1760 e: tf.Tensor([[1.8121824e-05]], shape=(1, 1), dtype=float32)\n",
            "i: 1840 e: tf.Tensor([[8.12768e-06]], shape=(1, 1), dtype=float32)\n",
            "i: 1920 e: tf.Tensor([[3.6443816e-06]], shape=(1, 1), dtype=float32)\n",
            "i: 2000 e: tf.Tensor([[1.633959e-06]], shape=(1, 1), dtype=float32)\n",
            "i: 2080 e: tf.Tensor([[7.325767e-07]], shape=(1, 1), dtype=float32)\n",
            "i: 2160 e: tf.Tensor([[3.2863838e-07]], shape=(1, 1), dtype=float32)\n",
            "i: 2240 e: tf.Tensor([[1.4750937e-07]], shape=(1, 1), dtype=float32)\n",
            "i: 2320 e: tf.Tensor([[6.613349e-08]], shape=(1, 1), dtype=float32)\n",
            "i: 2400 e: tf.Tensor([[2.9798198e-08]], shape=(1, 1), dtype=float32)\n",
            "i: 2480 e: tf.Tensor([[1.3471142e-08]], shape=(1, 1), dtype=float32)\n",
            "i: 2560 e: tf.Tensor([[6.1769136e-09]], shape=(1, 1), dtype=float32)\n",
            "i: 2640 e: tf.Tensor([[2.9006328e-09]], shape=(1, 1), dtype=float32)\n",
            "i: 2720 e: tf.Tensor([[1.311807e-09]], shape=(1, 1), dtype=float32)\n",
            "i: 2800 e: tf.Tensor([[5.9964333e-10]], shape=(1, 1), dtype=float32)\n",
            "i: 2880 e: tf.Tensor([[5.0637944e-10]], shape=(1, 1), dtype=float32)\n",
            "i: 2960 e: tf.Tensor([[4.7780996e-10]], shape=(1, 1), dtype=float32)\n",
            "i: 3040 e: tf.Tensor([[4.6499815e-10]], shape=(1, 1), dtype=float32)\n",
            "i: 3120 e: tf.Tensor([[4.5925366e-10]], shape=(1, 1), dtype=float32)\n",
            "i: 3200 e: tf.Tensor([[4.5667758e-10]], shape=(1, 1), dtype=float32)\n",
            "i: 3280 e: tf.Tensor([[4.5552223e-10]], shape=(1, 1), dtype=float32)\n",
            "i: 3360 e: tf.Tensor([[4.550041e-10]], shape=(1, 1), dtype=float32)\n",
            "i: 3440 e: tf.Tensor([[4.5477175e-10]], shape=(1, 1), dtype=float32)\n",
            "i: 3520 e: tf.Tensor([[4.5466755e-10]], shape=(1, 1), dtype=float32)\n",
            "i: 3600 e: tf.Tensor([[4.5462084e-10]], shape=(1, 1), dtype=float32)\n",
            "i: 3680 e: tf.Tensor([[4.5459989e-10]], shape=(1, 1), dtype=float32)\n",
            "i: 3760 e: tf.Tensor([[4.5459048e-10]], shape=(1, 1), dtype=float32)\n",
            "i: 3840 e: tf.Tensor([[4.5458626e-10]], shape=(1, 1), dtype=float32)\n",
            "i: 3920 e: tf.Tensor([[4.5458437e-10]], shape=(1, 1), dtype=float32)\n",
            "***** l: 2\n",
            "i: 0 e: tf.Tensor([[1.589163]], shape=(1, 1), dtype=float32)\n",
            "i: 80 e: tf.Tensor([[1.0091642]], shape=(1, 1), dtype=float32)\n",
            "i: 160 e: tf.Tensor([[0.7144548]], shape=(1, 1), dtype=float32)\n",
            "i: 240 e: tf.Tensor([[0.5466877]], shape=(1, 1), dtype=float32)\n",
            "i: 320 e: tf.Tensor([[0.4303459]], shape=(1, 1), dtype=float32)\n",
            "i: 400 e: tf.Tensor([[0.3345907]], shape=(1, 1), dtype=float32)\n",
            "i: 480 e: tf.Tensor([[0.25292453]], shape=(1, 1), dtype=float32)\n",
            "i: 560 e: tf.Tensor([[0.186683]], shape=(1, 1), dtype=float32)\n",
            "i: 640 e: tf.Tensor([[0.13625103]], shape=(1, 1), dtype=float32)\n",
            "i: 720 e: tf.Tensor([[0.09953514]], shape=(1, 1), dtype=float32)\n",
            "i: 800 e: tf.Tensor([[0.07337938]], shape=(1, 1), dtype=float32)\n",
            "i: 880 e: tf.Tensor([[0.05482472]], shape=(1, 1), dtype=float32)\n",
            "i: 960 e: tf.Tensor([[0.04157341]], shape=(1, 1), dtype=float32)\n",
            "i: 1040 e: tf.Tensor([[0.03198942]], shape=(1, 1), dtype=float32)\n",
            "i: 1120 e: tf.Tensor([[0.02495179]], shape=(1, 1), dtype=float32)\n",
            "i: 1200 e: tf.Tensor([[0.01970194]], shape=(1, 1), dtype=float32)\n",
            "i: 1280 e: tf.Tensor([[0.01572577]], shape=(1, 1), dtype=float32)\n",
            "i: 1360 e: tf.Tensor([[0.01267162]], shape=(1, 1), dtype=float32)\n",
            "i: 1440 e: tf.Tensor([[0.01029565]], shape=(1, 1), dtype=float32)\n",
            "i: 1520 e: tf.Tensor([[0.00842624]], shape=(1, 1), dtype=float32)\n",
            "i: 1600 e: tf.Tensor([[0.00694056]], shape=(1, 1), dtype=float32)\n",
            "i: 1680 e: tf.Tensor([[0.00574943]], shape=(1, 1), dtype=float32)\n",
            "i: 1760 e: tf.Tensor([[0.004787]], shape=(1, 1), dtype=float32)\n",
            "i: 1840 e: tf.Tensor([[0.00400398]], shape=(1, 1), dtype=float32)\n",
            "i: 1920 e: tf.Tensor([[0.00336306]], shape=(1, 1), dtype=float32)\n",
            "i: 2000 e: tf.Tensor([[0.00283561]], shape=(1, 1), dtype=float32)\n",
            "i: 2080 e: tf.Tensor([[0.00239943]], shape=(1, 1), dtype=float32)\n",
            "i: 2160 e: tf.Tensor([[0.00203711]], shape=(1, 1), dtype=float32)\n",
            "i: 2240 e: tf.Tensor([[0.00173494]], shape=(1, 1), dtype=float32)\n",
            "i: 2320 e: tf.Tensor([[0.00148196]], shape=(1, 1), dtype=float32)\n",
            "i: 2400 e: tf.Tensor([[0.00126941]], shape=(1, 1), dtype=float32)\n",
            "i: 2480 e: tf.Tensor([[0.00109026]], shape=(1, 1), dtype=float32)\n",
            "i: 2560 e: tf.Tensor([[0.00093878]], shape=(1, 1), dtype=float32)\n",
            "i: 2640 e: tf.Tensor([[0.00081031]], shape=(1, 1), dtype=float32)\n",
            "i: 2720 e: tf.Tensor([[0.00070102]], shape=(1, 1), dtype=float32)\n",
            "i: 2800 e: tf.Tensor([[0.0006078]], shape=(1, 1), dtype=float32)\n",
            "i: 2880 e: tf.Tensor([[0.00052808]], shape=(1, 1), dtype=float32)\n",
            "i: 2960 e: tf.Tensor([[0.00045972]], shape=(1, 1), dtype=float32)\n",
            "i: 3040 e: tf.Tensor([[0.00040095]], shape=(1, 1), dtype=float32)\n",
            "i: 3120 e: tf.Tensor([[0.00035031]], shape=(1, 1), dtype=float32)\n",
            "i: 3200 e: tf.Tensor([[0.00030657]], shape=(1, 1), dtype=float32)\n",
            "i: 3280 e: tf.Tensor([[0.00026871]], shape=(1, 1), dtype=float32)\n",
            "i: 3360 e: tf.Tensor([[0.00023587]], shape=(1, 1), dtype=float32)\n",
            "i: 3440 e: tf.Tensor([[0.00020732]], shape=(1, 1), dtype=float32)\n",
            "i: 3520 e: tf.Tensor([[0.00018246]], shape=(1, 1), dtype=float32)\n",
            "i: 3600 e: tf.Tensor([[0.00016077]], shape=(1, 1), dtype=float32)\n",
            "i: 3680 e: tf.Tensor([[0.0001418]], shape=(1, 1), dtype=float32)\n",
            "i: 3760 e: tf.Tensor([[0.00012521]], shape=(1, 1), dtype=float32)\n",
            "i: 3840 e: tf.Tensor([[0.00011065]], shape=(1, 1), dtype=float32)\n",
            "i: 3920 e: tf.Tensor([[9.787042e-05]], shape=(1, 1), dtype=float32)\n",
            "***** l: 3\n",
            "i: 0 e: tf.Tensor([[1.8547425]], shape=(1, 1), dtype=float32)\n",
            "i: 80 e: tf.Tensor([[1.6015373]], shape=(1, 1), dtype=float32)\n",
            "i: 160 e: tf.Tensor([[1.2444196]], shape=(1, 1), dtype=float32)\n",
            "i: 240 e: tf.Tensor([[0.81778556]], shape=(1, 1), dtype=float32)\n",
            "i: 320 e: tf.Tensor([[0.46623296]], shape=(1, 1), dtype=float32)\n",
            "i: 400 e: tf.Tensor([[0.26208642]], shape=(1, 1), dtype=float32)\n",
            "i: 480 e: tf.Tensor([[0.15883708]], shape=(1, 1), dtype=float32)\n",
            "i: 560 e: tf.Tensor([[0.10415582]], shape=(1, 1), dtype=float32)\n",
            "i: 640 e: tf.Tensor([[0.07204811]], shape=(1, 1), dtype=float32)\n",
            "i: 720 e: tf.Tensor([[0.05162308]], shape=(1, 1), dtype=float32)\n",
            "i: 800 e: tf.Tensor([[0.03799156]], shape=(1, 1), dtype=float32)\n",
            "i: 880 e: tf.Tensor([[0.02861627]], shape=(1, 1), dtype=float32)\n",
            "i: 960 e: tf.Tensor([[0.02201914]], shape=(1, 1), dtype=float32)\n",
            "i: 1040 e: tf.Tensor([[0.01728092]], shape=(1, 1), dtype=float32)\n",
            "i: 1120 e: tf.Tensor([[0.01381065]], shape=(1, 1), dtype=float32)\n",
            "i: 1200 e: tf.Tensor([[0.01122029]], shape=(1, 1), dtype=float32)\n",
            "i: 1280 e: tf.Tensor([[0.00925162]], shape=(1, 1), dtype=float32)\n",
            "i: 1360 e: tf.Tensor([[0.00773028]], shape=(1, 1), dtype=float32)\n",
            "i: 1440 e: tf.Tensor([[0.00653664]], shape=(1, 1), dtype=float32)\n",
            "i: 1520 e: tf.Tensor([[0.00558705]], shape=(1, 1), dtype=float32)\n",
            "i: 1600 e: tf.Tensor([[0.0048224]], shape=(1, 1), dtype=float32)\n",
            "i: 1680 e: tf.Tensor([[0.00419978]], shape=(1, 1), dtype=float32)\n",
            "i: 1760 e: tf.Tensor([[0.00368778]], shape=(1, 1), dtype=float32)\n",
            "i: 1840 e: tf.Tensor([[0.00326293]], shape=(1, 1), dtype=float32)\n",
            "i: 1920 e: tf.Tensor([[0.00290745]], shape=(1, 1), dtype=float32)\n",
            "i: 2000 e: tf.Tensor([[0.0026077]], shape=(1, 1), dtype=float32)\n",
            "i: 2080 e: tf.Tensor([[0.00235311]], shape=(1, 1), dtype=float32)\n",
            "i: 2160 e: tf.Tensor([[0.00213538]], shape=(1, 1), dtype=float32)\n",
            "i: 2240 e: tf.Tensor([[0.00194793]], shape=(1, 1), dtype=float32)\n",
            "i: 2320 e: tf.Tensor([[0.00178554]], shape=(1, 1), dtype=float32)\n",
            "i: 2400 e: tf.Tensor([[0.00164398]], shape=(1, 1), dtype=float32)\n",
            "i: 2480 e: tf.Tensor([[0.00151986]], shape=(1, 1), dtype=float32)\n",
            "i: 2560 e: tf.Tensor([[0.00141041]], shape=(1, 1), dtype=float32)\n",
            "i: 2640 e: tf.Tensor([[0.00131337]], shape=(1, 1), dtype=float32)\n",
            "i: 2720 e: tf.Tensor([[0.00122687]], shape=(1, 1), dtype=float32)\n",
            "i: 2800 e: tf.Tensor([[0.00114941]], shape=(1, 1), dtype=float32)\n",
            "i: 2880 e: tf.Tensor([[0.00107968]], shape=(1, 1), dtype=float32)\n",
            "i: 2960 e: tf.Tensor([[0.00101666]], shape=(1, 1), dtype=float32)\n",
            "i: 3040 e: tf.Tensor([[0.00095945]], shape=(1, 1), dtype=float32)\n",
            "i: 3120 e: tf.Tensor([[0.00090728]], shape=(1, 1), dtype=float32)\n",
            "i: 3200 e: tf.Tensor([[0.00085956]], shape=(1, 1), dtype=float32)\n",
            "i: 3280 e: tf.Tensor([[0.00081577]], shape=(1, 1), dtype=float32)\n",
            "i: 3360 e: tf.Tensor([[0.0007754]], shape=(1, 1), dtype=float32)\n",
            "i: 3440 e: tf.Tensor([[0.00073812]], shape=(1, 1), dtype=float32)\n",
            "i: 3520 e: tf.Tensor([[0.00070358]], shape=(1, 1), dtype=float32)\n",
            "i: 3600 e: tf.Tensor([[0.00067148]], shape=(1, 1), dtype=float32)\n",
            "i: 3680 e: tf.Tensor([[0.00064158]], shape=(1, 1), dtype=float32)\n",
            "i: 3760 e: tf.Tensor([[0.00061367]], shape=(1, 1), dtype=float32)\n",
            "i: 3840 e: tf.Tensor([[0.00058757]], shape=(1, 1), dtype=float32)\n",
            "i: 3920 e: tf.Tensor([[0.00056312]], shape=(1, 1), dtype=float32)\n",
            "***** l: 4\n",
            "i: 0 e: tf.Tensor([[1.811]], shape=(1, 1), dtype=float32)\n",
            "i: 80 e: tf.Tensor([[1.3487666]], shape=(1, 1), dtype=float32)\n",
            "i: 160 e: tf.Tensor([[1.0052108]], shape=(1, 1), dtype=float32)\n",
            "i: 240 e: tf.Tensor([[0.7581157]], shape=(1, 1), dtype=float32)\n",
            "i: 320 e: tf.Tensor([[0.5792736]], shape=(1, 1), dtype=float32)\n",
            "i: 400 e: tf.Tensor([[0.44761568]], shape=(1, 1), dtype=float32)\n",
            "i: 480 e: tf.Tensor([[0.34818012]], shape=(1, 1), dtype=float32)\n",
            "i: 560 e: tf.Tensor([[0.27249745]], shape=(1, 1), dtype=float32)\n",
            "i: 640 e: tf.Tensor([[0.21517658]], shape=(1, 1), dtype=float32)\n",
            "i: 720 e: tf.Tensor([[0.17149305]], shape=(1, 1), dtype=float32)\n",
            "i: 800 e: tf.Tensor([[0.13751945]], shape=(1, 1), dtype=float32)\n",
            "i: 880 e: tf.Tensor([[0.1105579]], shape=(1, 1), dtype=float32)\n",
            "i: 960 e: tf.Tensor([[0.08895468]], shape=(1, 1), dtype=float32)\n",
            "i: 1040 e: tf.Tensor([[0.07166338]], shape=(1, 1), dtype=float32)\n",
            "i: 1120 e: tf.Tensor([[0.05791381]], shape=(1, 1), dtype=float32)\n",
            "i: 1200 e: tf.Tensor([[0.04705811]], shape=(1, 1), dtype=float32)\n",
            "i: 1280 e: tf.Tensor([[0.03852785]], shape=(1, 1), dtype=float32)\n",
            "i: 1360 e: tf.Tensor([[0.03183341]], shape=(1, 1), dtype=float32)\n",
            "i: 1440 e: tf.Tensor([[0.02656787]], shape=(1, 1), dtype=float32)\n",
            "i: 1520 e: tf.Tensor([[0.02240392]], shape=(1, 1), dtype=float32)\n",
            "i: 1600 e: tf.Tensor([[0.01908553]], shape=(1, 1), dtype=float32)\n",
            "i: 1680 e: tf.Tensor([[0.01641572]], shape=(1, 1), dtype=float32)\n",
            "i: 1760 e: tf.Tensor([[0.01424485]], shape=(1, 1), dtype=float32)\n",
            "i: 1840 e: tf.Tensor([[0.01245995]], shape=(1, 1), dtype=float32)\n",
            "i: 1920 e: tf.Tensor([[0.01097604]], shape=(1, 1), dtype=float32)\n",
            "i: 2000 e: tf.Tensor([[0.00972886]], shape=(1, 1), dtype=float32)\n",
            "i: 2080 e: tf.Tensor([[0.00866989]], shape=(1, 1), dtype=float32)\n",
            "i: 2160 e: tf.Tensor([[0.00776213]], shape=(1, 1), dtype=float32)\n",
            "i: 2240 e: tf.Tensor([[0.00697729]], shape=(1, 1), dtype=float32)\n",
            "i: 2320 e: tf.Tensor([[0.00629346]], shape=(1, 1), dtype=float32)\n",
            "i: 2400 e: tf.Tensor([[0.00569357]], shape=(1, 1), dtype=float32)\n",
            "i: 2480 e: tf.Tensor([[0.00516413]], shape=(1, 1), dtype=float32)\n",
            "i: 2560 e: tf.Tensor([[0.00469447]], shape=(1, 1), dtype=float32)\n",
            "i: 2640 e: tf.Tensor([[0.0042759]], shape=(1, 1), dtype=float32)\n",
            "i: 2720 e: tf.Tensor([[0.00390139]], shape=(1, 1), dtype=float32)\n",
            "i: 2800 e: tf.Tensor([[0.00356517]], shape=(1, 1), dtype=float32)\n",
            "i: 2880 e: tf.Tensor([[0.00326243]], shape=(1, 1), dtype=float32)\n",
            "i: 2960 e: tf.Tensor([[0.00298914]], shape=(1, 1), dtype=float32)\n",
            "i: 3040 e: tf.Tensor([[0.00274189]], shape=(1, 1), dtype=float32)\n",
            "i: 3120 e: tf.Tensor([[0.00251775]], shape=(1, 1), dtype=float32)\n",
            "i: 3200 e: tf.Tensor([[0.00231425]], shape=(1, 1), dtype=float32)\n",
            "i: 3280 e: tf.Tensor([[0.0021292]], shape=(1, 1), dtype=float32)\n",
            "i: 3360 e: tf.Tensor([[0.00196072]], shape=(1, 1), dtype=float32)\n",
            "i: 3440 e: tf.Tensor([[0.00180714]], shape=(1, 1), dtype=float32)\n",
            "i: 3520 e: tf.Tensor([[0.001667]], shape=(1, 1), dtype=float32)\n",
            "i: 3600 e: tf.Tensor([[0.00153902]], shape=(1, 1), dtype=float32)\n",
            "i: 3680 e: tf.Tensor([[0.00142206]], shape=(1, 1), dtype=float32)\n",
            "i: 3760 e: tf.Tensor([[0.00131508]], shape=(1, 1), dtype=float32)\n",
            "i: 3840 e: tf.Tensor([[0.00121717]], shape=(1, 1), dtype=float32)\n",
            "i: 3920 e: tf.Tensor([[0.0011275]], shape=(1, 1), dtype=float32)\n",
            "***** l: 5\n",
            "i: 0 e: tf.Tensor([[1.9821154]], shape=(1, 1), dtype=float32)\n",
            "i: 80 e: tf.Tensor([[0.97551036]], shape=(1, 1), dtype=float32)\n",
            "i: 160 e: tf.Tensor([[0.45904383]], shape=(1, 1), dtype=float32)\n",
            "i: 240 e: tf.Tensor([[0.25228602]], shape=(1, 1), dtype=float32)\n",
            "i: 320 e: tf.Tensor([[0.15815465]], shape=(1, 1), dtype=float32)\n",
            "i: 400 e: tf.Tensor([[0.10679399]], shape=(1, 1), dtype=float32)\n",
            "i: 480 e: tf.Tensor([[0.07620457]], shape=(1, 1), dtype=float32)\n",
            "i: 560 e: tf.Tensor([[0.05698104]], shape=(1, 1), dtype=float32)\n",
            "i: 640 e: tf.Tensor([[0.04424366]], shape=(1, 1), dtype=float32)\n",
            "i: 720 e: tf.Tensor([[0.03537077]], shape=(1, 1), dtype=float32)\n",
            "i: 800 e: tf.Tensor([[0.0289345]], shape=(1, 1), dtype=float32)\n",
            "i: 880 e: tf.Tensor([[0.02412374]], shape=(1, 1), dtype=float32)\n",
            "i: 960 e: tf.Tensor([[0.02044713]], shape=(1, 1), dtype=float32)\n",
            "i: 1040 e: tf.Tensor([[0.01758657]], shape=(1, 1), dtype=float32)\n",
            "i: 1120 e: tf.Tensor([[0.01532547]], shape=(1, 1), dtype=float32)\n",
            "i: 1200 e: tf.Tensor([[0.01351127]], shape=(1, 1), dtype=float32)\n",
            "i: 1280 e: tf.Tensor([[0.01203453]], shape=(1, 1), dtype=float32)\n",
            "i: 1360 e: tf.Tensor([[0.01081576]], shape=(1, 1), dtype=float32)\n",
            "i: 1440 e: tf.Tensor([[0.00979668]], shape=(1, 1), dtype=float32)\n",
            "i: 1520 e: tf.Tensor([[0.00893433]], shape=(1, 1), dtype=float32)\n",
            "i: 1600 e: tf.Tensor([[0.0081965]], shape=(1, 1), dtype=float32)\n",
            "i: 1680 e: tf.Tensor([[0.00755896]], shape=(1, 1), dtype=float32)\n",
            "i: 1760 e: tf.Tensor([[0.00700326]], shape=(1, 1), dtype=float32)\n",
            "i: 1840 e: tf.Tensor([[0.00651511]], shape=(1, 1), dtype=float32)\n",
            "i: 1920 e: tf.Tensor([[0.00608337]], shape=(1, 1), dtype=float32)\n",
            "i: 2000 e: tf.Tensor([[0.00569912]], shape=(1, 1), dtype=float32)\n",
            "i: 2080 e: tf.Tensor([[0.00535529]], shape=(1, 1), dtype=float32)\n",
            "i: 2160 e: tf.Tensor([[0.00504608]], shape=(1, 1), dtype=float32)\n",
            "i: 2240 e: tf.Tensor([[0.00476679]], shape=(1, 1), dtype=float32)\n",
            "i: 2320 e: tf.Tensor([[0.00451349]], shape=(1, 1), dtype=float32)\n",
            "i: 2400 e: tf.Tensor([[0.00428288]], shape=(1, 1), dtype=float32)\n",
            "i: 2480 e: tf.Tensor([[0.00407222]], shape=(1, 1), dtype=float32)\n",
            "i: 2560 e: tf.Tensor([[0.00387914]], shape=(1, 1), dtype=float32)\n",
            "i: 2640 e: tf.Tensor([[0.00370166]], shape=(1, 1), dtype=float32)\n",
            "i: 2720 e: tf.Tensor([[0.00353806]], shape=(1, 1), dtype=float32)\n",
            "i: 2800 e: tf.Tensor([[0.00338677]], shape=(1, 1), dtype=float32)\n",
            "i: 2880 e: tf.Tensor([[0.00324656]], shape=(1, 1), dtype=float32)\n",
            "i: 2960 e: tf.Tensor([[0.00311625]], shape=(1, 1), dtype=float32)\n",
            "i: 3040 e: tf.Tensor([[0.00299488]], shape=(1, 1), dtype=float32)\n",
            "i: 3120 e: tf.Tensor([[0.00288161]], shape=(1, 1), dtype=float32)\n",
            "i: 3200 e: tf.Tensor([[0.00277565]], shape=(1, 1), dtype=float32)\n",
            "i: 3280 e: tf.Tensor([[0.00267631]], shape=(1, 1), dtype=float32)\n",
            "i: 3360 e: tf.Tensor([[0.00258296]], shape=(1, 1), dtype=float32)\n",
            "i: 3440 e: tf.Tensor([[0.00249513]], shape=(1, 1), dtype=float32)\n",
            "i: 3520 e: tf.Tensor([[0.00241238]], shape=(1, 1), dtype=float32)\n",
            "i: 3600 e: tf.Tensor([[0.00233422]], shape=(1, 1), dtype=float32)\n",
            "i: 3680 e: tf.Tensor([[0.0022603]], shape=(1, 1), dtype=float32)\n",
            "i: 3760 e: tf.Tensor([[0.00219026]], shape=(1, 1), dtype=float32)\n",
            "i: 3840 e: tf.Tensor([[0.00212383]], shape=(1, 1), dtype=float32)\n",
            "i: 3920 e: tf.Tensor([[0.00206068]], shape=(1, 1), dtype=float32)\n",
            "***** l: 6\n",
            "i: 0 e: tf.Tensor([[2.2980137]], shape=(1, 1), dtype=float32)\n",
            "i: 80 e: tf.Tensor([[1.4671739]], shape=(1, 1), dtype=float32)\n",
            "i: 160 e: tf.Tensor([[0.73236245]], shape=(1, 1), dtype=float32)\n",
            "i: 240 e: tf.Tensor([[0.36229485]], shape=(1, 1), dtype=float32)\n",
            "i: 320 e: tf.Tensor([[0.20992218]], shape=(1, 1), dtype=float32)\n",
            "i: 400 e: tf.Tensor([[0.13611767]], shape=(1, 1), dtype=float32)\n",
            "i: 480 e: tf.Tensor([[0.09444214]], shape=(1, 1), dtype=float32)\n",
            "i: 560 e: tf.Tensor([[0.06950369]], shape=(1, 1), dtype=float32)\n",
            "i: 640 e: tf.Tensor([[0.05413367]], shape=(1, 1), dtype=float32)\n",
            "i: 720 e: tf.Tensor([[0.04428395]], shape=(1, 1), dtype=float32)\n",
            "i: 800 e: tf.Tensor([[0.03763086]], shape=(1, 1), dtype=float32)\n",
            "i: 880 e: tf.Tensor([[0.0328708]], shape=(1, 1), dtype=float32)\n",
            "i: 960 e: tf.Tensor([[0.02927683]], shape=(1, 1), dtype=float32)\n",
            "i: 1040 e: tf.Tensor([[0.02643903]], shape=(1, 1), dtype=float32)\n",
            "i: 1120 e: tf.Tensor([[0.02411792]], shape=(1, 1), dtype=float32)\n",
            "i: 1200 e: tf.Tensor([[0.02216805]], shape=(1, 1), dtype=float32)\n",
            "i: 1280 e: tf.Tensor([[0.02049663]], shape=(1, 1), dtype=float32)\n",
            "i: 1360 e: tf.Tensor([[0.01904162]], shape=(1, 1), dtype=float32)\n",
            "i: 1440 e: tf.Tensor([[0.01775968]], shape=(1, 1), dtype=float32)\n",
            "i: 1520 e: tf.Tensor([[0.01661945]], shape=(1, 1), dtype=float32)\n",
            "i: 1600 e: tf.Tensor([[0.01559724]], shape=(1, 1), dtype=float32)\n",
            "i: 1680 e: tf.Tensor([[0.01467493]], shape=(1, 1), dtype=float32)\n",
            "i: 1760 e: tf.Tensor([[0.01383809]], shape=(1, 1), dtype=float32)\n",
            "i: 1840 e: tf.Tensor([[0.01307525]], shape=(1, 1), dtype=float32)\n",
            "i: 1920 e: tf.Tensor([[0.01237692]], shape=(1, 1), dtype=float32)\n",
            "i: 2000 e: tf.Tensor([[0.01173528]], shape=(1, 1), dtype=float32)\n",
            "i: 2080 e: tf.Tensor([[0.01114378]], shape=(1, 1), dtype=float32)\n",
            "i: 2160 e: tf.Tensor([[0.01059694]], shape=(1, 1), dtype=float32)\n",
            "i: 2240 e: tf.Tensor([[0.01008997]], shape=(1, 1), dtype=float32)\n",
            "i: 2320 e: tf.Tensor([[0.00961882]], shape=(1, 1), dtype=float32)\n",
            "i: 2400 e: tf.Tensor([[0.00918013]], shape=(1, 1), dtype=float32)\n",
            "i: 2480 e: tf.Tensor([[0.00877062]], shape=(1, 1), dtype=float32)\n",
            "i: 2560 e: tf.Tensor([[0.0083877]], shape=(1, 1), dtype=float32)\n",
            "i: 2640 e: tf.Tensor([[0.008029]], shape=(1, 1), dtype=float32)\n",
            "i: 2720 e: tf.Tensor([[0.00769245]], shape=(1, 1), dtype=float32)\n",
            "i: 2800 e: tf.Tensor([[0.00737622]], shape=(1, 1), dtype=float32)\n",
            "i: 2880 e: tf.Tensor([[0.00707859]], shape=(1, 1), dtype=float32)\n",
            "i: 2960 e: tf.Tensor([[0.00679814]], shape=(1, 1), dtype=float32)\n",
            "i: 3040 e: tf.Tensor([[0.00653353]], shape=(1, 1), dtype=float32)\n",
            "i: 3120 e: tf.Tensor([[0.00628353]], shape=(1, 1), dtype=float32)\n",
            "i: 3200 e: tf.Tensor([[0.00604719]], shape=(1, 1), dtype=float32)\n",
            "i: 3280 e: tf.Tensor([[0.0058234]], shape=(1, 1), dtype=float32)\n",
            "i: 3360 e: tf.Tensor([[0.0056113]], shape=(1, 1), dtype=float32)\n",
            "i: 3440 e: tf.Tensor([[0.00541011]], shape=(1, 1), dtype=float32)\n",
            "i: 3520 e: tf.Tensor([[0.0052191]], shape=(1, 1), dtype=float32)\n",
            "i: 3600 e: tf.Tensor([[0.00503756]], shape=(1, 1), dtype=float32)\n",
            "i: 3680 e: tf.Tensor([[0.00486492]], shape=(1, 1), dtype=float32)\n",
            "i: 3760 e: tf.Tensor([[0.00470058]], shape=(1, 1), dtype=float32)\n",
            "i: 3840 e: tf.Tensor([[0.00454402]], shape=(1, 1), dtype=float32)\n",
            "i: 3920 e: tf.Tensor([[0.00439474]], shape=(1, 1), dtype=float32)\n",
            "***** l: 7\n",
            "i: 0 e: tf.Tensor([[2.6194952]], shape=(1, 1), dtype=float32)\n",
            "i: 80 e: tf.Tensor([[0.79400855]], shape=(1, 1), dtype=float32)\n",
            "i: 160 e: tf.Tensor([[0.31739944]], shape=(1, 1), dtype=float32)\n",
            "i: 240 e: tf.Tensor([[0.16021961]], shape=(1, 1), dtype=float32)\n",
            "i: 320 e: tf.Tensor([[0.09737241]], shape=(1, 1), dtype=float32)\n",
            "i: 400 e: tf.Tensor([[0.06869514]], shape=(1, 1), dtype=float32)\n",
            "i: 480 e: tf.Tensor([[0.05362101]], shape=(1, 1), dtype=float32)\n",
            "i: 560 e: tf.Tensor([[0.04439091]], shape=(1, 1), dtype=float32)\n",
            "i: 640 e: tf.Tensor([[0.03792514]], shape=(1, 1), dtype=float32)\n",
            "i: 720 e: tf.Tensor([[0.03294022]], shape=(1, 1), dtype=float32)\n",
            "i: 800 e: tf.Tensor([[0.02885942]], shape=(1, 1), dtype=float32)\n",
            "i: 880 e: tf.Tensor([[0.02539692]], shape=(1, 1), dtype=float32)\n",
            "i: 960 e: tf.Tensor([[0.02239524]], shape=(1, 1), dtype=float32)\n",
            "i: 1040 e: tf.Tensor([[0.01975911]], shape=(1, 1), dtype=float32)\n",
            "i: 1120 e: tf.Tensor([[0.01742626]], shape=(1, 1), dtype=float32)\n",
            "i: 1200 e: tf.Tensor([[0.01535314]], shape=(1, 1), dtype=float32)\n",
            "i: 1280 e: tf.Tensor([[0.01350764]], shape=(1, 1), dtype=float32)\n",
            "i: 1360 e: tf.Tensor([[0.01186453]], shape=(1, 1), dtype=float32)\n",
            "i: 1440 e: tf.Tensor([[0.01040329]], shape=(1, 1), dtype=float32)\n",
            "i: 1520 e: tf.Tensor([[0.00910642]], shape=(1, 1), dtype=float32)\n",
            "i: 1600 e: tf.Tensor([[0.00795833]], shape=(1, 1), dtype=float32)\n",
            "i: 1680 e: tf.Tensor([[0.00694483]], shape=(1, 1), dtype=float32)\n",
            "i: 1760 e: tf.Tensor([[0.00605291]], shape=(1, 1), dtype=float32)\n",
            "i: 1840 e: tf.Tensor([[0.00527031]], shape=(1, 1), dtype=float32)\n",
            "i: 1920 e: tf.Tensor([[0.00458574]], shape=(1, 1), dtype=float32)\n",
            "i: 2000 e: tf.Tensor([[0.00398855]], shape=(1, 1), dtype=float32)\n",
            "i: 2080 e: tf.Tensor([[0.00346895]], shape=(1, 1), dtype=float32)\n",
            "i: 2160 e: tf.Tensor([[0.00301793]], shape=(1, 1), dtype=float32)\n",
            "i: 2240 e: tf.Tensor([[0.00262714]], shape=(1, 1), dtype=float32)\n",
            "i: 2320 e: tf.Tensor([[0.00228918]], shape=(1, 1), dtype=float32)\n",
            "i: 2400 e: tf.Tensor([[0.00199724]], shape=(1, 1), dtype=float32)\n",
            "i: 2480 e: tf.Tensor([[0.00174527]], shape=(1, 1), dtype=float32)\n",
            "i: 2560 e: tf.Tensor([[0.00152795]], shape=(1, 1), dtype=float32)\n",
            "i: 2640 e: tf.Tensor([[0.00134054]], shape=(1, 1), dtype=float32)\n",
            "i: 2720 e: tf.Tensor([[0.0011789]], shape=(1, 1), dtype=float32)\n",
            "i: 2800 e: tf.Tensor([[0.00103943]], shape=(1, 1), dtype=float32)\n",
            "i: 2880 e: tf.Tensor([[0.00091902]], shape=(1, 1), dtype=float32)\n",
            "i: 2960 e: tf.Tensor([[0.00081494]], shape=(1, 1), dtype=float32)\n",
            "i: 3040 e: tf.Tensor([[0.00072485]], shape=(1, 1), dtype=float32)\n",
            "i: 3120 e: tf.Tensor([[0.00064674]], shape=(1, 1), dtype=float32)\n",
            "i: 3200 e: tf.Tensor([[0.00057891]], shape=(1, 1), dtype=float32)\n",
            "i: 3280 e: tf.Tensor([[0.00051988]], shape=(1, 1), dtype=float32)\n",
            "i: 3360 e: tf.Tensor([[0.0004684]], shape=(1, 1), dtype=float32)\n",
            "i: 3440 e: tf.Tensor([[0.00042338]], shape=(1, 1), dtype=float32)\n",
            "i: 3520 e: tf.Tensor([[0.00038393]], shape=(1, 1), dtype=float32)\n",
            "i: 3600 e: tf.Tensor([[0.00034926]], shape=(1, 1), dtype=float32)\n",
            "i: 3680 e: tf.Tensor([[0.0003187]], shape=(1, 1), dtype=float32)\n",
            "i: 3760 e: tf.Tensor([[0.00029168]], shape=(1, 1), dtype=float32)\n",
            "i: 3840 e: tf.Tensor([[0.00026774]], shape=(1, 1), dtype=float32)\n",
            "i: 3920 e: tf.Tensor([[0.00024645]], shape=(1, 1), dtype=float32)\n",
            "***** l: 8\n",
            "i: 0 e: tf.Tensor([[1.8705888]], shape=(1, 1), dtype=float32)\n",
            "i: 80 e: tf.Tensor([[0.7706994]], shape=(1, 1), dtype=float32)\n",
            "i: 160 e: tf.Tensor([[0.40563354]], shape=(1, 1), dtype=float32)\n",
            "i: 240 e: tf.Tensor([[0.25955063]], shape=(1, 1), dtype=float32)\n",
            "i: 320 e: tf.Tensor([[0.18990892]], shape=(1, 1), dtype=float32)\n",
            "i: 400 e: tf.Tensor([[0.14951274]], shape=(1, 1), dtype=float32)\n",
            "i: 480 e: tf.Tensor([[0.12172942]], shape=(1, 1), dtype=float32)\n",
            "i: 560 e: tf.Tensor([[0.10056902]], shape=(1, 1), dtype=float32)\n",
            "i: 640 e: tf.Tensor([[0.08362627]], shape=(1, 1), dtype=float32)\n",
            "i: 720 e: tf.Tensor([[0.06973887]], shape=(1, 1), dtype=float32)\n",
            "i: 800 e: tf.Tensor([[0.05821962]], shape=(1, 1), dtype=float32)\n"
          ],
          "name": "stdout"
        }
      ]
    },
    {
      "cell_type": "code",
      "metadata": {
        "id": "s75F4WixVRV3",
        "colab_type": "code",
        "colab": {}
      },
      "source": [
        "eValues = tf.reshape(eValues,[1,1000])"
      ],
      "execution_count": null,
      "outputs": []
    },
    {
      "cell_type": "code",
      "metadata": {
        "id": "Efl8_DiPZivY",
        "colab_type": "code",
        "colab": {
          "base_uri": "https://localhost:8080/",
          "height": 34
        },
        "outputId": "3472fb8d-11c2-49f5-f035-8c418403f90d"
      },
      "source": [
        "print(len(params[0]))"
      ],
      "execution_count": 28,
      "outputs": [
        {
          "output_type": "stream",
          "text": [
            "16\n"
          ],
          "name": "stdout"
        }
      ]
    },
    {
      "cell_type": "code",
      "metadata": {
        "id": "rIpqv_RZMc8g",
        "colab_type": "code",
        "colab": {
          "base_uri": "https://localhost:8080/",
          "height": 500
        },
        "outputId": "35343358-3dd3-4cec-c0a1-a0fd46cd1ab3"
      },
      "source": [
        "plt.figure(figsize=(12, 8))\n",
        "for l in range(L):\n",
        "  label='L = {}'.format(l+1)\n",
        "  #plt.plot(aliceboblosses[:steps], label='Alice_Bob')\n",
        "  plt.plot(list_of_e[l],label = label)\n",
        "plt.xlabel(\"Iterations\", fontsize=13)\n",
        "plt.ylabel(\"E Values\", fontsize=13)\n",
        "plt.legend(fontsize=13)\n",
        "plt.show()"
      ],
      "execution_count": 26,
      "outputs": [
        {
          "output_type": "display_data",
          "data": {
            "image/png": "[encoded data removed]",
            "text/plain": [
              "<Figure size 864x576 with 1 Axes>"
            ]
          },
          "metadata": {
            "tags": [],
            "needs_background": "light"
          }
        }
      ]
    },
    {
      "cell_type": "code",
      "metadata": {
        "id": "o8k7G_0NMhc0",
        "colab_type": "code",
        "colab": {
          "base_uri": "https://localhost:8080/",
          "height": 102
        },
        "outputId": "eac740c5-e0a5-420c-b6ec-083369de6fca"
      },
      "source": [
        "  approximation = state_layer(qnn, symbol_names=params_names, symbol_values=params)\n",
        "  e = states_distance(approximation,target_state)\n",
        "  print('params:', params, params% 2*np.pi, 'e:', e)"
      ],
      "execution_count": null,
      "outputs": [
        {
          "output_type": "stream",
          "text": [
            "params: tf.Tensor(\n",
            "[[5.8125076 3.082775  5.554178  3.536392  8.038719  1.7454691 3.7011755\n",
            "  0.5023185]], shape=(1, 8), dtype=float32) tf.Tensor(\n",
            "[[5.694161   3.4016385  4.882595   4.826718   0.12163989 5.483553\n",
            "  5.3444004  1.5780802 ]], shape=(1, 8), dtype=float32) e: tf.Tensor([[0.6126985]], shape=(1, 1), dtype=float32)\n"
          ],
          "name": "stdout"
        }
      ]
    }
  ]
}