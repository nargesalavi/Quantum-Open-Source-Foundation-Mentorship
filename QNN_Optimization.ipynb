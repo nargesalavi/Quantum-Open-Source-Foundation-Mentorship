{
 "cells": [
  {
   "cell_type": "code",
   "execution_count": 1,
   "metadata": {},
   "outputs": [],
   "source": [
    "import tensorflow as tf\n",
    "import tensorflow_quantum as tfq\n",
    "import cirq\n",
    "import sympy\n",
    "import cmath\n",
    "import numpy as np\n",
    "from scipy import linalg\n",
    "import sys\n",
    "import time\n",
    "\n",
    "# visualization tools\n",
    "%matplotlib inline\n",
    "import matplotlib.pyplot as plt\n",
    "from cirq.contrib.svg import SVGCircuit\n",
    "from IPython import display"
   ]
  },
  {
   "cell_type": "code",
   "execution_count": 2,
   "metadata": {},
   "outputs": [],
   "source": [
    "qubits = cirq.GridQubit.rect(1, 4)"
   ]
  },
  {
   "cell_type": "code",
   "execution_count": 24,
   "metadata": {},
   "outputs": [],
   "source": [
    "def generate_even_block(block_number):\n",
    "    \"\"\" Function for generating the even blocks\n",
    "        block_number: Block number, it has to be even.\n",
    "        return: ciq.Circuit \"\"\"\n",
    "    params = sympy.symbols(['theta_{}'.format(n) for n in range((block_number-1)*4,block_number*4)])\n",
    "\n",
    "    # create the parameterized circuit\n",
    "    circuit = cirq.Circuit(\n",
    "        cirq.rz(params[0])(qubits[0]),\n",
    "        cirq.rz(params[1])(qubits[1]),\n",
    "        cirq.rz(params[2])(qubits[2]),\n",
    "        cirq.rz(params[3])(qubits[3]),\n",
    "        cirq.CZ(qubits[0],qubits[1]),\n",
    "        cirq.CZ(qubits[0],qubits[2]),\n",
    "        cirq.CZ(qubits[0],qubits[3]),\n",
    "        cirq.CZ(qubits[1],qubits[2]),\n",
    "        cirq.CZ(qubits[1],qubits[3]),\n",
    "        cirq.CZ(qubits[2],qubits[3])\n",
    "    )\n",
    "    \n",
    "    return circuit"
   ]
  },
  {
   "cell_type": "code",
   "execution_count": 25,
   "metadata": {},
   "outputs": [],
   "source": [
    "def generate_odd_block(block_number):\n",
    "    \"\"\" Function for generating the odd blocks\n",
    "        block_number: Block number, it has to be odd.\n",
    "        return: ciq.Circuit \"\"\"\n",
    "    params = sympy.symbols(['theta_{}'.format(n) for n in range((block_number-1)*4,block_number*4)])\n",
    "\n",
    "    # create the parameterized circuit\n",
    "    circuit = cirq.Circuit(\n",
    "        cirq.rx(params[0])(qubits[0]),\n",
    "        cirq.rx(params[1])(qubits[1]),\n",
    "        cirq.rx(params[2])(qubits[2]),\n",
    "        cirq.rx(params[3])(qubits[3])\n",
    "    )\n",
    "    \n",
    "    return circuit"
   ]
  },
  {
   "cell_type": "code",
   "execution_count": 28,
   "metadata": {},
   "outputs": [],
   "source": [
    "c2 = generate_odd_block(1)"
   ]
  },
  {
   "cell_type": "code",
   "execution_count": 29,
   "metadata": {},
   "outputs": [
    {
     "name": "stdout",
     "output_type": "stream",
     "text": [
      "(0, 0): ───Rx(theta_0)───\n",
      "\n",
      "(0, 1): ───Rx(theta_1)───\n",
      "\n",
      "(0, 2): ───Rx(theta_2)───\n",
      "\n",
      "(0, 3): ───Rx(theta_3)───\n"
     ]
    }
   ],
   "source": [
    "print(c2)"
   ]
  },
  {
   "cell_type": "code",
   "execution_count": 30,
   "metadata": {},
   "outputs": [],
   "source": [
    "c2 += generate_even_block(2)"
   ]
  },
  {
   "cell_type": "code",
   "execution_count": 31,
   "metadata": {},
   "outputs": [
    {
     "name": "stdout",
     "output_type": "stream",
     "text": [
      "                                               ┌──┐\n",
      "(0, 0): ───Rx(theta_0)───Rz(theta_4)───@───@────@─────────────\n",
      "                                       │   │    │\n",
      "(0, 1): ───Rx(theta_1)───Rz(theta_5)───@───┼────┼@────@───────\n",
      "                                           │    ││    │\n",
      "(0, 2): ───Rx(theta_2)───Rz(theta_6)───────@────┼@────┼───@───\n",
      "                                                │     │   │\n",
      "(0, 3): ───Rx(theta_3)───Rz(theta_7)────────────@─────@───@───\n",
      "                                               └──┘\n"
     ]
    }
   ],
   "source": [
    "print(c2)"
   ]
  },
  {
   "cell_type": "code",
   "execution_count": 32,
   "metadata": {},
   "outputs": [],
   "source": [
    "def generate_qnn(l):\n",
    "    \"\"\" Function for generating qnn, containing l number of layers.\n",
    "        l: number of layers, each layer contains one odd and one even block.\n",
    "        return: ciq.Circuit \"\"\"\n",
    "    circuit = cirq.Circuit()\n",
    "    for i in range(1,2*l+1):\n",
    "        if i % 2 == 1:\n",
    "            circuit += generate_odd_block(i)\n",
    "        else:\n",
    "            circuit += generate_even_block(i)\n",
    "        \n",
    "    return circuit"
   ]
  },
  {
   "cell_type": "code",
   "execution_count": 37,
   "metadata": {},
   "outputs": [
    {
     "name": "stdout",
     "output_type": "stream",
     "text": [
      "                                               ┌──┐\n",
      "(0, 0): ───Rx(theta_0)───Rz(theta_4)───@───@────@─────────────\n",
      "                                       │   │    │\n",
      "(0, 1): ───Rx(theta_1)───Rz(theta_5)───@───┼────┼@────@───────\n",
      "                                           │    ││    │\n",
      "(0, 2): ───Rx(theta_2)───Rz(theta_6)───────@────┼@────┼───@───\n",
      "                                                │     │   │\n",
      "(0, 3): ───Rx(theta_3)───Rz(theta_7)────────────@─────@───@───\n",
      "                                               └──┘\n"
     ]
    }
   ],
   "source": [
    "l=1\n",
    "c = generate_qnn(l)\n",
    "print(c)"
   ]
  },
  {
   "cell_type": "code",
   "execution_count": 96,
   "metadata": {},
   "outputs": [
    {
     "name": "stdout",
     "output_type": "stream",
     "text": [
      "tf.Tensor([[0. 0. 0. 0. 0. 0. 0. 0.]], shape=(1, 8), dtype=float32)\n",
      "[theta_0, theta_1, theta_2, theta_3, theta_4, theta_5, theta_6, theta_7]\n"
     ]
    }
   ],
   "source": [
    "params = tf.zeros([1,8*l ], tf.float32)\n",
    "print(params)\n",
    "params_names = sympy.symbols(['theta_{}'.format(n) for n in range(8*l)])\n",
    "print(params_name)"
   ]
  },
  {
   "cell_type": "code",
   "execution_count": 97,
   "metadata": {},
   "outputs": [
    {
     "name": "stdout",
     "output_type": "stream",
     "text": [
      "<tf.RaggedTensor [[(1+0j), 0j, 0j, 0j, 0j, 0j, 0j, 0j, 0j, 0j, 0j, 0j, 0j, 0j, 0j, 0j]]>\n"
     ]
    }
   ],
   "source": [
    "state_layer = tfq.layers.State()\n",
    "state = state_layer(c, symbol_names=params_names, symbol_values=params)\n",
    "print(state)"
   ]
  },
  {
   "cell_type": "code",
   "execution_count": 104,
   "metadata": {},
   "outputs": [
    {
     "name": "stdout",
     "output_type": "stream",
     "text": [
      "(0, 0): ───×───T───Y───iSwap───\n",
      "           │           │\n",
      "(0, 1): ───×───────@───iSwap───\n",
      "                   │\n",
      "(0, 2): ───Y───Y───X───×───────\n",
      "                       │\n",
      "(0, 3): ───────Z───────×───────\n",
      "<tf.RaggedTensor [[(3.82137093032941e-15-4.371138828673793e-08j), (3.3407486883511458e-22-3.82137093032941e-15j), (-1.6703743441755729e-22-7.301438151149521e-30j), 0j, (-1-1.3113415775478643e-07j), (-8.742277657347586e-08-1.1464113214504704e-14j), (-3.3407486883511458e-22+3.82137093032941e-15j), 0j, (5.732056183735878e-15-4.371138828673793e-08j), (5.011123158744463e-22-3.82137093032941e-15j), (-1.6703743441755729e-22-1.4602876302299043e-29j), 0j, 0j, 0j, 0j, 0j]]>\n"
     ]
    }
   ],
   "source": [
    "random_circuit = cirq.testing.random_circuit(qubits = qubits,n_moments = np.random.randint(low=1,high=5),\\\n",
    "                                                                op_density = 0.99999999)\n",
    "print(random_circuit)\n",
    "random_circuit = tfq.layers.State()(random_circuit)\n",
    "print(random_circuit)"
   ]
  },
  {
   "cell_type": "code",
   "execution_count": null,
   "metadata": {},
   "outputs": [],
   "source": [
    "diff = state[0] - random_circuit[0]\n",
    "conjugate_traspose_state = tf.transpose(diff,conjugate = True)\n",
    "print()"
   ]
  },
  {
   "cell_type": "code",
   "execution_count": null,
   "metadata": {},
   "outputs": [],
   "source": []
  }
 ],
 "metadata": {
  "kernelspec": {
   "display_name": "Python 3",
   "language": "python",
   "name": "python3"
  },
  "language_info": {
   "codemirror_mode": {
    "name": "ipython",
    "version": 3
   },
   "file_extension": ".py",
   "mimetype": "text/x-python",
   "name": "python",
   "nbconvert_exporter": "python",
   "pygments_lexer": "ipython3",
   "version": "3.7.3"
  }
 },
 "nbformat": 4,
 "nbformat_minor": 2
}
