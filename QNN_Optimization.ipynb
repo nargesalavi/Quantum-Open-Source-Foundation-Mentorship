{
  "nbformat": 4,
  "nbformat_minor": 0,
  "metadata": {
    "colab": {
      "name": "QNN_Optimization.ipynb",
      "provenance": [],
      "include_colab_link": true
    },
    "kernelspec": {
      "display_name": "Python 3",
      "language": "python",
      "name": "python3"
    },
    "language_info": {
      "codemirror_mode": {
        "name": "ipython",
        "version": 3
      },
      "file_extension": ".py",
      "mimetype": "text/x-python",
      "name": "python",
      "nbconvert_exporter": "python",
      "pygments_lexer": "ipython3",
      "version": "3.7.3"
    }
  },
  "cells": [
    {
      "cell_type": "markdown",
      "metadata": {
        "id": "view-in-github",
        "colab_type": "text"
      },
      "source": [
        "<a href=\"https://colab.research.google.com/github/nargesalavi/Quantum-Open-Source-Foundation-Mentorship/blob/master/QNN_Optimization.ipynb\" target=\"_parent\"><img src=\"https://colab.research.google.com/assets/colab-badge.svg\" alt=\"Open In Colab\"/></a>"
      ]
    },
    {
      "cell_type": "markdown",
      "metadata": {
        "id": "3VSjr7MpzwFP",
        "colab_type": "text"
      },
      "source": [
        "### Task 1: Quantum Neural Network for State Approximation\n",
        "\n",
        "In this task, the below neural network is trained to approximate a random quantum state. The aim is to investigate the effect of number of layers in the accuracy of the approximation."
      ]
    },
    {
      "cell_type": "markdown",
      "metadata": {
        "id": "woPMYm8tzwFR",
        "colab_type": "text"
      },
      "source": [
        "<img src = \"Figures/qnn.png\" style = \"width:400px\"/>"
      ]
    },
    {
      "cell_type": "markdown",
      "metadata": {
        "id": "HnqAWJSlzwFS",
        "colab_type": "text"
      },
      "source": [
        "<img src = \"Figures/layers.png\" style = \"width:400px\"/>"
      ]
    },
    {
      "cell_type": "markdown",
      "metadata": {
        "id": "L6m5JShbzwFT",
        "colab_type": "text"
      },
      "source": [
        "In this project, I use Cirq and Tensorflow Quantum to implement the models."
      ]
    },
    {
      "cell_type": "code",
      "metadata": {
        "colab_type": "code",
        "id": "i9yO54UPnnjA",
        "colab": {}
      },
      "source": [
        "!pip install tensorflow==2.1.0"
      ],
      "execution_count": null,
      "outputs": []
    },
    {
      "cell_type": "code",
      "metadata": {
        "colab_type": "code",
        "id": "CW0AfQmbnuln",
        "colab": {}
      },
      "source": [
        "!pip install tensorflow-quantum"
      ],
      "execution_count": null,
      "outputs": []
    },
    {
      "cell_type": "code",
      "metadata": {
        "id": "edeRGWO21QRS",
        "colab_type": "code",
        "colab": {
          "base_uri": "https://localhost:8080/",
          "height": 34
        },
        "outputId": "96e9e483-4b9f-47af-dede-6109d386e902"
      },
      "source": [
        "from google.colab import drive\n",
        "drive.mount('/content/gdrive')"
      ],
      "execution_count": 3,
      "outputs": [
        {
          "output_type": "stream",
          "text": [
            "Mounted at /content/gdrive\n"
          ],
          "name": "stdout"
        }
      ]
    },
    {
      "cell_type": "code",
      "metadata": {
        "id": "RthtsscB1exZ",
        "colab_type": "code",
        "colab": {}
      },
      "source": [
        "!ln -s \"/content/gdrive/My Drive\" \"/content/mydrive\""
      ],
      "execution_count": 4,
      "outputs": []
    },
    {
      "cell_type": "code",
      "metadata": {
        "colab_type": "code",
        "id": "tfFL0mSXnlaT",
        "colab": {}
      },
      "source": [
        "import tensorflow as tf\n",
        "import tensorflow_quantum as tfq\n",
        "import cirq\n",
        "import sympy\n",
        "import numpy as np\n",
        "\n",
        "# visualization tools\n",
        "%matplotlib inline\n",
        "import matplotlib.pyplot as plt"
      ],
      "execution_count": 2,
      "outputs": []
    },
    {
      "cell_type": "code",
      "metadata": {
        "colab_type": "code",
        "id": "QK_gJw9Mnlac",
        "colab": {}
      },
      "source": [
        "qubits = cirq.GridQubit.rect(1, 4)"
      ],
      "execution_count": 7,
      "outputs": []
    },
    {
      "cell_type": "markdown",
      "metadata": {
        "id": "TgKeQs6HzwFt",
        "colab_type": "text"
      },
      "source": [
        "The two following function builds the even and odd layers using parameterized gates."
      ]
    },
    {
      "cell_type": "code",
      "metadata": {
        "colab_type": "code",
        "id": "nl8-yRRJnlak",
        "colab": {}
      },
      "source": [
        "def generate_even_block(block_number):\n",
        "    \"\"\" Function for generating the even blocks\n",
        "        Arguments:\n",
        "          block_number: Block number, it has to be even.\n",
        "        return: ciq.Circuit \"\"\"\n",
        "    params = sympy.symbols(['theta_{}'.format(n) for n in range((block_number-1)*4,block_number*4)])\n",
        "\n",
        "    # create the parameterized circuit\n",
        "    circuit = cirq.Circuit(\n",
        "        cirq.rz(params[0])(qubits[0]),\n",
        "        cirq.rz(params[1])(qubits[1]),\n",
        "        cirq.rz(params[2])(qubits[2]),\n",
        "        cirq.rz(params[3])(qubits[3]),\n",
        "        cirq.CZ(qubits[0],qubits[1]),\n",
        "        cirq.CZ(qubits[0],qubits[2]),\n",
        "        cirq.CZ(qubits[0],qubits[3]),\n",
        "        cirq.CZ(qubits[1],qubits[2]),\n",
        "        cirq.CZ(qubits[1],qubits[3]),\n",
        "        cirq.CZ(qubits[2],qubits[3])\n",
        "    )\n",
        "    \n",
        "    return circuit"
      ],
      "execution_count": 8,
      "outputs": []
    },
    {
      "cell_type": "code",
      "metadata": {
        "colab_type": "code",
        "id": "hvfGTPq-nlbk",
        "colab": {}
      },
      "source": [
        "def generate_odd_block(block_number):\n",
        "    \"\"\" Function for generating the odd blocks\n",
        "        block_number: Block number, it has to be odd.\n",
        "        return: ciq.Circuit \"\"\"\n",
        "    params = sympy.symbols(['theta_{}'.format(n) for n in range((block_number-1)*4,block_number*4)])\n",
        "\n",
        "    # create the parameterized circuit\n",
        "    circuit = cirq.Circuit(\n",
        "        cirq.rx(params[0])(qubits[0]),\n",
        "        cirq.rx(params[1])(qubits[1]),\n",
        "        cirq.rx(params[2])(qubits[2]),\n",
        "        cirq.rx(params[3])(qubits[3])\n",
        "    )\n",
        "    \n",
        "    return circuit"
      ],
      "execution_count": null,
      "outputs": []
    },
    {
      "cell_type": "markdown",
      "metadata": {
        "id": "ZVUxR0pGzwF1",
        "colab_type": "text"
      },
      "source": [
        "This function builds the quantum neural network by using the previous generating block functions."
      ]
    },
    {
      "cell_type": "code",
      "metadata": {
        "colab_type": "code",
        "id": "o6oL_nZJnlb5",
        "colab": {}
      },
      "source": [
        "def generate_qnn(l):\n",
        "    \"\"\" Function for generating qnn, containing l number of layers.\n",
        "        Arguments:\n",
        "          l: number of layers, each layer contains one odd and one even block.\n",
        "        return: ciq.Circuit \"\"\"\n",
        "    circuit = cirq.Circuit()\n",
        "    for i in range(1,2*l+1):\n",
        "        if i % 2 == 1:\n",
        "            circuit += generate_odd_block(i)\n",
        "        else:\n",
        "            circuit += generate_even_block(i)\n",
        "        \n",
        "    return circuit"
      ],
      "execution_count": null,
      "outputs": []
    },
    {
      "cell_type": "markdown",
      "metadata": {
        "id": "YuDelPbmzwF4",
        "colab_type": "text"
      },
      "source": [
        "You can see the QNN, which has one layer, below. Additionally, you can find how the parameters are defined and initialized. For calculating the state of the qnn circuit, I use tfq.layers.State() from TensorFlow Quantum (TFQ)."
      ]
    },
    {
      "cell_type": "code",
      "metadata": {
        "colab_type": "code",
        "id": "PhEtWuC8nlb8",
        "colab": {
          "base_uri": "https://localhost:8080/",
          "height": 170
        },
        "outputId": "8a09b8d0-1ac0-413c-f019-8ed14c68419d"
      },
      "source": [
        "l=1\n",
        "qnn = generate_qnn(l)\n",
        "print(qnn)\n",
        "\n",
        "# Defining and Initializing the parameters:\n",
        "params = tf.random.uniform(shape = (1,8*l), minval=0, maxval=2*np.pi) #tf.zeros([1,8*l ], tf.float32)\n",
        "print('Parameters:\\n', params)\n",
        "params_names = sympy.symbols(['theta_{}'.format(n) for n in range(8*l)])\n",
        "\n",
        "# Calculating the state vector:\n",
        "state_layer = tfq.layers.State()\n",
        "state = state_layer(qnn, symbol_names=params_names, symbol_values=params)\n",
        "print('\\nState Vector:\\n', state)"
      ],
      "execution_count": null,
      "outputs": [
        {
          "output_type": "stream",
          "text": [
            "                                               ┌──┐\n",
            "(0, 0): ───Rx(theta_0)───Rz(theta_4)───@───@────@─────────────\n",
            "                                       │   │    │\n",
            "(0, 1): ───Rx(theta_1)───Rz(theta_5)───@───┼────┼@────@───────\n",
            "                                           │    ││    │\n",
            "(0, 2): ───Rx(theta_2)───Rz(theta_6)───────@────┼@────┼───@───\n",
            "                                                │     │   │\n",
            "(0, 3): ───Rx(theta_3)───Rz(theta_7)────────────@─────@───@───\n",
            "                                               └──┘\n",
            "Parameters:\n",
            " tf.Tensor(\n",
            "[[2.5443769 6.1479607 3.1814964 5.953483  5.5278993 4.94873   5.0682817\n",
            "  5.509855 ]], shape=(1, 8), dtype=float32)\n",
            "\n",
            "State Vector:\n",
            " <tf.RaggedTensor [[(0.0026067534927278757-0.00515482435002923j), (0.0009165829396806657-0.0002887023729272187j), (0.2124575525522232-0.19662398099899292j), (-0.04809628054499626-0.0024431594647467136j), (0.00025334247038699687-0.00029802718199789524j), (-6.491901149274781e-05+4.473395165405236e-06j), (-0.017104296013712883+0.009575773030519485j), (-0.00312759168446064-0.0009234265889972448j), (-0.017998097464442253+0.0053139738738536835j), (0.0027241073548793793+0.0015250795986503363j), (0.938223659992218+0.06465014815330505j), (0.10133159160614014+0.11920445412397385j), (0.0012691263109445572-6.446873885579407e-05j), (0.0001551557652419433+0.0001435925514670089j), (0.06074114516377449+0.01913202740252018j), (-0.004780941177159548-0.009454253129661083j)]]>\n"
          ],
          "name": "stdout"
        }
      ]
    },
    {
      "cell_type": "markdown",
      "metadata": {
        "id": "tuOuWLP3zwF9",
        "colab_type": "text"
      },
      "source": [
        "Now, the target state, which the qnn will be trained to approximate, is randomly chosen."
      ]
    },
    {
      "cell_type": "code",
      "metadata": {
        "colab_type": "code",
        "id": "YdriDgEinlcD",
        "colab": {
          "base_uri": "https://localhost:8080/",
          "height": 173
        },
        "outputId": "4113c938-252e-42a3-fb92-8e7b3648e905"
      },
      "source": [
        "\"\"\" cirq.testing.random_circuit is used to generate a random state. The loop is for making sure that all\n",
        "    the four qubits are involved in random generation.\"\"\"\n",
        "while True:\n",
        "    random_circuit = cirq.testing.random_circuit(qubits = qubits,n_moments = np.random.randint(low=1,high=5),\\\n",
        "                                                                op_density = 0.99999999)\n",
        "    target_state = tfq.layers.State()(random_circuit)\n",
        "    \n",
        "    if target_state[0].shape == 16:\n",
        "        break\n",
        "\n",
        "print(random_circuit)\n",
        "print(target_state)"
      ],
      "execution_count": 22,
      "outputs": [
        {
          "output_type": "stream",
          "text": [
            "(0, 0): ───────@───────@───\n",
            "               │       │\n",
            "(0, 1): ───X───@───X───@───\n",
            "                   │\n",
            "(0, 2): ───X───X───@───T───\n",
            "\n",
            "(0, 3): ───H───────X───────\n",
            "<tf.RaggedTensor [[(4.053175895905653e-15-3.0908619663705394e-08j), (2.1424904307409476e-15-3.0908619663705394e-08j), (4.3711395392165286e-08-4.371138118131057e-08j), (4.371139183945161e-08-4.371138473402425e-08j), (0.7071067690849304+1.2363446444396686e-07j), (0.7071067690849304+7.992308326265629e-08j), (-3.821370506812936e-15-3.821371353845884e-15j), (-3.821370506812936e-15-3.821371353845884e-15j), 0j, 0j, 0j, 0j, 0j, 0j, 0j, 0j]]>\n"
          ],
          "name": "stdout"
        }
      ]
    },
    {
      "cell_type": "markdown",
      "metadata": {
        "id": "5RLUHb9qzwGA",
        "colab_type": "text"
      },
      "source": [
        "The following function, calculate the distance between the state vector of the qnn model $|\\psi(\\theta)>$  and the target state $|\\varphi>$:\n",
        "\n",
        "$\\epsilon = min_\\theta ||\\quad|\\psi(\\theta)> - |\\varphi> ||$.\n",
        "\n"
      ]
    },
    {
      "cell_type": "code",
      "metadata": {
        "colab_type": "code",
        "id": "scCdJfzMBfwo",
        "colab": {}
      },
      "source": [
        "def states_distance(state,target):\n",
        "  \"\"\" This function calculates the distatnce between state and target by multipltying their differences to\n",
        "    their conjugates. It is calculated by tf.tensordot with axes = 1, which does the same function as sum\n",
        "    over all elements of the result of the muliplication of state and target.\n",
        "    state:  The state vector of the model.\n",
        "    target: The target state that the aim is to approximate it.\n",
        "    return: Tensor of float of distance value.\"\"\"\n",
        "\n",
        "  diff = state[0] - target[0]\n",
        "  diff = tf.reshape(diff, [16, 1])\n",
        "  conjugate_transposed_state = tf.transpose(diff,conjugate=True)\n",
        "  distance = tf.tensordot(conjugate_transposed_state, diff, axes = 1)\n",
        "\n",
        "  return tf.dtypes.cast(distance, tf.float32)"
      ],
      "execution_count": 9,
      "outputs": []
    },
    {
      "cell_type": "code",
      "metadata": {
        "colab_type": "code",
        "id": "HcIf9kRVCv3z",
        "colab": {}
      },
      "source": [
        "def custom_gradient(params, target_state, parameter_shift = True, h = np.pi/2):\n",
        "  \"\"\" This function calculates the gradients of the quantum circuit's parameters \n",
        "      using two methods: Parameter shift rules or Numerical differentiation.\n",
        "      In numerical differentiation method, for Pauli gates the shift value is pi/2 and the ratio is 1/2. \n",
        "      Arguments:\n",
        "        params: circuit's parameters, of which the gradient is calculated.\n",
        "        target_state: The target state, which the quantum NN trys to approximate.\n",
        "        parameter_shift: Determine which method is used to calculate the gradients. \n",
        "                         When it is True, the function uses parameter shift otherwise it uses numerical differentiation.\n",
        "        h: The shift value for parameter. When parameter shift method is used, it is pi/2.\n",
        "        return: list of gradients of distance function, defined above. \"\"\"\n",
        "  param_length = len(params[0])\n",
        "  grad = [None]*param_length\n",
        "  if parameter_shift : \n",
        "    r = 1/2\n",
        "    h = np.pi/2\n",
        "  else:\n",
        "    r = 1/(2*h)\n",
        "  for i in range(param_length):\n",
        "    \n",
        "    params_plus_h = tf.convert_to_tensor([np.concatenate((params[0][0:i],[params[0][i]+h],params[0][i+1:]))])\n",
        "    params_minus_h = tf.convert_to_tensor([np.concatenate((params[0][0:i],[params[0][i]-h],params[0][i+1:]))])\n",
        "    state_plus_h = state_layer(qnn, symbol_names=params_names, symbol_values=params_plus_h)\n",
        "    state_minus_h = state_layer(qnn, symbol_names=params_names, symbol_values=params_minus_h)\n",
        "    #print('i', i, 'state_plus_h:', state_plus_h, 'state_minus_h:', state_minus_h) \n",
        "    grad[i] = r*(states_distance(state_plus_h,target_state)-states_distance(state_minus_h,target_state))\n",
        "\n",
        "  return grad"
      ],
      "execution_count": 10,
      "outputs": []
    },
    {
      "cell_type": "code",
      "metadata": {
        "colab_type": "code",
        "id": "AcJOL6VvMNa_",
        "colab": {}
      },
      "source": [
        "def update_params(params, gradients, learning_rate):\n",
        "  \"\"\" This function update parameters for stachastic gradient descent.\n",
        "    params: Tensor of parameters that will be updated.\n",
        "    gradients: Tensor of gradients of distance function.\n",
        "    learning rate: The rate that parameters are updated.\n",
        "    return: Tensor of updated paramters.\"\"\"\n",
        "\n",
        "  gradients = tf.reshape(gradients,[1,len(params[0])])\n",
        "  params -= learning_rate*gradients\n",
        "  #params = params % (2*np.pi)\n",
        "  return params\n"
      ],
      "execution_count": 11,
      "outputs": []
    },
    {
      "cell_type": "code",
      "metadata": {
        "colab_type": "code",
        "id": "H7jZuIBVWWdn",
        "colab": {}
      },
      "source": [
        "L = 10\n",
        "learning_rate = 0.01\n",
        "number_of_iteration = 1000\n",
        "print_step = 100"
      ],
      "execution_count": null,
      "outputs": []
    },
    {
      "cell_type": "code",
      "metadata": {
        "colab_type": "code",
        "id": "YIguzyHM5Cc8",
        "colab": {}
      },
      "source": [
        "list_of_e =[]\n",
        "types = 1\n",
        "for l in range(1,L+1):\n",
        "  print('***** Number of Layers:', l, '*****')\n",
        "  qnn = generate_qnn(l, types)\n",
        "  params = tf.random.uniform(shape = (1,8*l), minval=0, maxval=2*np.pi) \n",
        "  params_names = sympy.symbols(['theta_{}'.format(n) for n in range(8*l)])\n",
        "  eValues = []\n",
        "  for i in range(number_of_iteration):\n",
        "    params_grads = custom_gradient(params, target_state,parameter_shift = False, h = np.pi/320)\n",
        "    params = update_params(params, params_grads,learning_rate)\n",
        "\n",
        "    approximation = state_layer(qnn, symbol_names=params_names, symbol_values=params)\n",
        "    e = states_distance(approximation,target_state)\n",
        "    eValues.append(e[0][0].numpy())\n",
        "\n",
        "    if i % print_step == 0:\n",
        "      print('Iteration Number:', i, ', Distance:', e[0][0].numpy())\n",
        "  print('---Training qnn with ', l, ' layers finished.','Final distance =', e[0][0].numpy(),'.')\n",
        "  np.savetxt('/content/mydrive/model1_layer_{}'.format(l), eValues, delimiter='\\n')\n",
        "  np.savetxt('/content/mydrive/model1_params_{}'.format(l), params, delimiter='\\n ')\n",
        "  list_of_e.append(eValues)\n",
        "print('Training finished.')"
      ],
      "execution_count": null,
      "outputs": []
    },
    {
      "cell_type": "code",
      "metadata": {
        "colab_type": "code",
        "id": "rIpqv_RZMc8g",
        "colab": {
          "base_uri": "https://localhost:8080/",
          "height": 765
        },
        "outputId": "1c72c941-d61d-4348-cb7a-3b0c8140cf2f"
      },
      "source": [
        "plt.figure(figsize=(9, 6))\n",
        "min_e = []\n",
        "number_of_L = []\n",
        "for l in range(1,10):\n",
        "  with open('/content/mydrive/layer_{}'.format(l)) as f:\n",
        "      evalues  = f.read().splitlines()\n",
        "  evalues = [float(i) for i in evalues]\n",
        "  min_e .append(evalues[len(evalues)-1])\n",
        "  number_of_L.append(l)\n",
        "  label='L = {}'.format(l)\n",
        "  #plt.plot(aliceboblosses[:steps], label='Alice_Bob')\n",
        "  plt.plot(evalues,label = label)\n",
        "plt.xlabel(\"Iterations\", fontsize=13)\n",
        "plt.ylabel(\"Distance Values\", fontsize=13)\n",
        "plt.legend(fontsize=13)\n",
        "plt.show()\n",
        "plt.figure(figsize=(9, 6))\n",
        "plt.plot(number_of_L,min_e)\n",
        "for i in range(len(min_e)): plt.annotate(np.around(min_e[i], 3), (number_of_L[i], min_e[i]))\n",
        "plt.xlabel(\"Number of Layers\", fontsize=13)\n",
        "plt.ylabel(\"Minimum Distance\", fontsize=13)\n",
        "plt.show()"
      ],
      "execution_count": 26,
      "outputs": [
        {
          "output_type": "display_data",
          "data": {
            "image/png": "[encoded data removed]",
            "text/plain": [
              "<Figure size 648x432 with 1 Axes>"
            ]
          },
          "metadata": {
            "tags": [],
            "needs_background": "light"
          }
        },
        {
          "output_type": "display_data",
          "data": {
            "image/png": "[encoded data removed]",
            "text/plain": [
              "<Figure size 648x432 with 1 Axes>"
            ]
          },
          "metadata": {
            "tags": [],
            "needs_background": "light"
          }
        }
      ]
    },
    {
      "cell_type": "code",
      "metadata": {
        "id": "Bu6CUpBKHBX-",
        "colab_type": "code",
        "colab": {}
      },
      "source": [
        "np.loadtxt(c, delimiter=',')"
      ],
      "execution_count": null,
      "outputs": []
    },
    {
      "cell_type": "markdown",
      "metadata": {
        "id": "W_L7q4RbzwGU",
        "colab_type": "text"
      },
      "source": [
        "#### Bonus part\n",
        "Now let's see what happens if other kinds of circuits used for implementing the QNN. The following circuit is replaced with the previous design for implementing each layer of the QNN, based on [Expressibility and entangling capability of parameterized quantum circuits for hybrid quantum-classical algorithms](https://arxiv.org/pdf/1905.10876.pdf)."
      ]
    },
    {
      "cell_type": "markdown",
      "metadata": {
        "id": "TpYeBvTqzwGV",
        "colab_type": "text"
      },
      "source": [
        "<img src = \"Figures/c2.png\" style = \"width:400px\"/>"
      ]
    },
    {
      "cell_type": "markdown",
      "metadata": {
        "id": "oyD9ESlyzwGV",
        "colab_type": "text"
      },
      "source": [
        "So I change *generate_even_block* and *generate_odd_block* functions by adding one extra arguments *types* that determine which type of circuits is generated. Also, the default value 1  is assigned for *types*. "
      ]
    },
    {
      "cell_type": "code",
      "metadata": {
        "id": "4XujgWfxzwGW",
        "colab_type": "code",
        "colab": {}
      },
      "source": [
        "def generate_even_block(block_number,types = 1):\n",
        "    \"\"\" Function for generating the even blocks\n",
        "        Arguments:\n",
        "          block_number: Block number, it has to be even.\n",
        "        return: ciq.Circuit \"\"\"\n",
        "    if (types == 1):\n",
        "        params = sympy.symbols(['theta_{}'.format(n) for n in range((block_number-1)*4,block_number*4)])\n",
        "\n",
        "        # create the parameterized circuit\n",
        "        circuit = cirq.Circuit(\n",
        "            cirq.rz(params[0])(qubits[0]),\n",
        "            cirq.rz(params[1])(qubits[1]),\n",
        "            cirq.rz(params[2])(qubits[2]),\n",
        "            cirq.rz(params[3])(qubits[3]),\n",
        "            cirq.CZ(qubits[0],qubits[1]),\n",
        "            cirq.CZ(qubits[0],qubits[2]),\n",
        "            cirq.CZ(qubits[0],qubits[3]),\n",
        "            cirq.CZ(qubits[1],qubits[2]),\n",
        "            cirq.CZ(qubits[1],qubits[3]),\n",
        "            cirq.CZ(qubits[2],qubits[3])\n",
        "        )\n",
        "    elif(types == 2):\n",
        "        params = sympy.symbols(['theta_{}'.format(n) for n in range((block_number-1)*8,block_number*8)])\n",
        "        \n",
        "        circuit = cirq.Circuit(\n",
        "            cirq.ry(params[0])(qubits[0]),\n",
        "            cirq.ry(params[1])(qubits[1]),\n",
        "            cirq.ry(params[2])(qubits[2]),\n",
        "            cirq.ry(params[3])(qubits[3]),\n",
        "            cirq.CNOT(qubits[3], qubits[2]) ** params[4],\n",
        "            cirq.CNOT(qubits[0], qubits[3]) ** params[5],\n",
        "            cirq.CNOT(qubits[1], qubits[0]) ** params[6],\n",
        "            cirq.CNOT(qubits[2], qubits[1]) ** params[7]\n",
        "        )\n",
        "    else:\n",
        "        print(\"Only types 1 and 2 are supported!\")\n",
        "        return cirq.Circuit()\n",
        "    return circuit"
      ],
      "execution_count": 12,
      "outputs": []
    },
    {
      "cell_type": "code",
      "metadata": {
        "id": "P7Y6K2-7zwGX",
        "colab_type": "code",
        "colab": {}
      },
      "source": [
        "def generate_odd_block(block_number, types = 1):\n",
        "    \"\"\" Function for generating the odd blocks\n",
        "        block_number: Block number, it has to be odd.\n",
        "        return: ciq.Circuit \"\"\"\n",
        "    if (types == 1):\n",
        "        params = sympy.symbols(['theta_{}'.format(n) for n in range((block_number-1)*4,block_number*4)])\n",
        "\n",
        "        # create the parameterized circuit\n",
        "        circuit = cirq.Circuit(\n",
        "            cirq.rx(params[0])(qubits[0]),\n",
        "            cirq.rx(params[1])(qubits[1]),\n",
        "            cirq.rx(params[2])(qubits[2]),\n",
        "            cirq.rx(params[3])(qubits[3])\n",
        "        )\n",
        "    elif(types == 2):\n",
        "        params = sympy.symbols(['theta_{}'.format(n) for n in range((block_number-1)*8,block_number*8)])\n",
        "        \n",
        "        circuit = cirq.Circuit(\n",
        "            cirq.ry(params[0])(qubits[0]),\n",
        "            cirq.ry(params[1])(qubits[1]),\n",
        "            cirq.ry(params[2])(qubits[2]),\n",
        "            cirq.ry(params[3])(qubits[3]),\n",
        "            cirq.CNOT(qubits[3], qubits[0]) ** params[4],\n",
        "            cirq.CNOT(qubits[2], qubits[3]) ** params[5],\n",
        "            cirq.CNOT(qubits[1], qubits[2]) ** params[6],\n",
        "            cirq.CNOT(qubits[0], qubits[1]) ** params[7]\n",
        "        )\n",
        "    else:\n",
        "        print(\"Only types 1 and 2 are supported!\")\n",
        "        return cirq.Circuit()\n",
        "    \n",
        "    return circuit"
      ],
      "execution_count": 13,
      "outputs": []
    },
    {
      "cell_type": "code",
      "metadata": {
        "id": "YlXtbxZpzwGZ",
        "colab_type": "code",
        "colab": {}
      },
      "source": [
        "def generate_qnn(l,types = 1 ):\n",
        "    \"\"\" Function for generating qnn, containing l number of layers.\n",
        "        Arguments:\n",
        "          l: number of layers, each layer contains one odd and one even block.\n",
        "        return: ciq.Circuit \"\"\"\n",
        "    circuit = cirq.Circuit()\n",
        "    for i in range(1,2*l+1):\n",
        "        if i % 2 == 1:\n",
        "            circuit += generate_odd_block(i,types = types)\n",
        "        else:\n",
        "            circuit += generate_even_block(i,types = types)\n",
        "        \n",
        "    return circuit"
      ],
      "execution_count": 14,
      "outputs": []
    },
    {
      "cell_type": "markdown",
      "metadata": {
        "id": "JxGlmPubzwGb",
        "colab_type": "text"
      },
      "source": [
        "Let's see the new model:"
      ]
    },
    {
      "cell_type": "code",
      "metadata": {
        "id": "711i0p3fzwGc",
        "colab_type": "code",
        "colab": {
          "base_uri": "https://localhost:8080/",
          "height": 292
        },
        "outputId": "74837a2a-1640-4792-c8ac-c075bef3f490"
      },
      "source": [
        "l=1\n",
        "types = 2 \n",
        "qnn = generate_qnn(l,types = types)\n",
        "print(qnn)\n",
        "\n",
        "# Defining and Initializing the parameters:\n",
        "params = tf.random.uniform(shape = (1,16*l), minval=0, maxval=2*np.pi) #tf.zeros([1,8*l ], tf.float32)\n",
        "print('Parameters:\\n', params)\n",
        "params_names = sympy.symbols(['theta_{}'.format(n) for n in range(16*l)])\n",
        "\n",
        "# Calculating the state vector:\n",
        "state_layer = tfq.layers.State()\n",
        "state = state_layer(qnn, symbol_names=params_names, symbol_values=params)\n",
        "print('\\nState Vector:\\n', state)"
      ],
      "execution_count": 35,
      "outputs": [
        {
          "output_type": "stream",
          "text": [
            "(0, 0): ───Ry(theta_0)───X───────────────────────────────────@───────────Ry(theta_8)─────────────────@────────────X─────────────────────────\n",
            "                         │                                   │                                       │            │\n",
            "(0, 1): ───Ry(theta_1)───┼───────────────────────@───────────X^theta_7───Ry(theta_9)─────────────────┼────────────@^theta_14───X────────────\n",
            "                         │                       │                                                   │                         │\n",
            "(0, 2): ───Ry(theta_2)───┼───────────@───────────X^theta_6───────────────Ry(theta_10)───X────────────┼─────────────────────────@^theta_15───\n",
            "                         │           │                                                  │            │\n",
            "(0, 3): ───Ry(theta_3)───@^theta_4───X^theta_5───────────────────────────Ry(theta_11)───@^theta_12───X^theta_13─────────────────────────────\n",
            "Parameters:\n",
            " tf.Tensor(\n",
            "[[0.99786425 2.5893648  3.3475327  1.3628671  2.7544236  2.2981079\n",
            "  1.0651549  3.9509902  2.2626562  0.29274017 0.11785661 4.473987\n",
            "  3.5218768  4.2176533  0.36019337 0.31507277]], shape=(1, 16), dtype=float32)\n",
            "\n",
            "State Vector:\n",
            " <tf.RaggedTensor [[(-0.04997922107577324+0.05900656059384346j), (-0.021122800186276436+0.04123668745160103j), (0.08569052070379257-0.008986619301140308j), (0.09806175529956818+0.015265997499227524j), (-0.16337038576602936+0.2684600353240967j), (0.24053387343883514+0.1265345811843872j), (0.039839062839746475-0.020032057538628578j), (-0.04481071978807449+0.0982118546962738j), (0.16037343442440033+0.059443265199661255j), (-0.02135925181210041-0.00939997285604477j), (-0.10710935294628143-0.14513471722602844j), (0.05330321192741394+0.09121241420507431j), (-0.2637127935886383-0.7516419887542725j), (-0.05098450183868408+0.17335465550422668j), (-0.14761905372142792+0.1081387996673584j), (-0.050662003457546234+0.10780620574951172j)]]>\n"
          ],
          "name": "stdout"
        }
      ]
    },
    {
      "cell_type": "code",
      "metadata": {
        "id": "kbl7AU0Z3wDX",
        "colab_type": "code",
        "colab": {}
      },
      "source": [
        "np.savetxt('/content/mydrive/model2_params_{}'.format(l), params, delimiter='\\n ')"
      ],
      "execution_count": 16,
      "outputs": []
    },
    {
      "cell_type": "code",
      "metadata": {
        "id": "uL67_3NZ36LK",
        "colab_type": "code",
        "colab": {}
      },
      "source": [
        " with open('/content/mydrive/model2_params_1') as f:\n",
        "    x  = f.read().splitlines()\n",
        "x = [[float(i) for i in x]]"
      ],
      "execution_count": 33,
      "outputs": []
    },
    {
      "cell_type": "code",
      "metadata": {
        "id": "vvbLdCAo5UIb",
        "colab_type": "code",
        "colab": {
          "base_uri": "https://localhost:8080/",
          "height": 34
        },
        "outputId": "27821154-e0b3-435e-9740-b0b91cbfa78e"
      },
      "source": [
        "state = state_layer(qnn, symbol_names=params_names, symbol_values=x)\n",
        "e = states_distance(state,target_state)\n",
        "print(e)"
      ],
      "execution_count": 37,
      "outputs": [
        {
          "output_type": "stream",
          "text": [
            "tf.Tensor([[2.228401]], shape=(1, 1), dtype=float32)\n"
          ],
          "name": "stdout"
        }
      ]
    },
    {
      "cell_type": "markdown",
      "metadata": {
        "id": "7WwSKGVNzwGe",
        "colab_type": "text"
      },
      "source": [
        "Now, let's see how this new layers get trained. This model has twice more paramterized gate, and more parameters to train, consequently. Therefore, it is more time consuming than the previous model. Hence, instead of checking QNN with at most 10 layers, I check QNN with at most 6 layers."
      ]
    },
    {
      "cell_type": "code",
      "metadata": {
        "id": "VQFq9bHo5_vD",
        "colab_type": "code",
        "colab": {}
      },
      "source": [
        "L = 6\n",
        "learning_rate = 0.01\n",
        "number_of_iteration = 1000\n",
        "print_step = 100"
      ],
      "execution_count": 4,
      "outputs": []
    },
    {
      "cell_type": "code",
      "metadata": {
        "id": "9A7fVnVv1Fcx",
        "colab_type": "code",
        "colab": {
          "base_uri": "https://localhost:8080/",
          "height": 1000
        },
        "outputId": "0aed204f-fed7-4026-a9c9-30b423d26467"
      },
      "source": [
        "list_of_e =[]\n",
        "types = 2\n",
        "for l in range(1,L+1):\n",
        "  print('***** Number of Layers:', l, '*****')\n",
        "  qnn = generate_qnn(l, types)\n",
        "  params = tf.random.uniform(shape = (1,16*l), minval=0, maxval=2*np.pi) #tf.zeros([1,8*l ], tf.float32)\n",
        "  params_names = sympy.symbols(['theta_{}'.format(n) for n in range(16*l)])\n",
        "  eValues = []\n",
        "  for i in range(number_of_iteration):\n",
        "    params_grads = custom_gradient(params, target_state,parameter_shift = False, h = np.pi/320)\n",
        "    params = update_params(params, params_grads,learning_rate)\n",
        "\n",
        "    approximation = state_layer(qnn, symbol_names=params_names, symbol_values=params)\n",
        "    e = states_distance(approximation,target_state)\n",
        "    eValues.append(e[0][0].numpy())\n",
        "\n",
        "    if i % print_step == 0:\n",
        "      print('Iteration Number:', i, ', Distance:', e[0][0].numpy())\n",
        "  print('---Training qnn with ', l, ' layers finished.','Final distance =', e[0][0].numpy(),'.')\n",
        "  np.savetxt('/content/mydrive/model2_layer_{}'.format(l), eValues, delimiter='\\n')\n",
        "  np.savetxt('/content/mydrive/model2_params_{}'.format(l), params, delimiter='\\n ')\n",
        "  list_of_e.append(eValues)\n",
        "print('Training finished.')"
      ],
      "execution_count": 39,
      "outputs": [
        {
          "output_type": "stream",
          "text": [
            "***** Number of Layers: 1 *****\n",
            "Iteration Number: 0 , Distance: 2.2417047\n",
            "Iteration Number: 100 , Distance: 1.2201717\n",
            "Iteration Number: 200 , Distance: 0.8017386\n",
            "Iteration Number: 300 , Distance: 0.59037983\n",
            "Iteration Number: 400 , Distance: 0.43708014\n",
            "Iteration Number: 500 , Distance: 0.28918684\n",
            "Iteration Number: 600 , Distance: 0.15915452\n",
            "Iteration Number: 700 , Distance: 0.07263423\n",
            "Iteration Number: 800 , Distance: 0.028994339\n",
            "Iteration Number: 900 , Distance: 0.010807085\n",
            "---Training qnn with  1  layers finished. Final distance = 0.0039653415 .\n",
            "***** Number of Layers: 2 *****\n",
            "Iteration Number: 0 , Distance: 2.0078611\n",
            "Iteration Number: 100 , Distance: 0.28152537\n",
            "Iteration Number: 200 , Distance: 0.1718893\n",
            "Iteration Number: 300 , Distance: 0.120091274\n",
            "Iteration Number: 400 , Distance: 0.08401838\n",
            "Iteration Number: 500 , Distance: 0.058970433\n",
            "Iteration Number: 600 , Distance: 0.041928664\n",
            "Iteration Number: 700 , Distance: 0.03062285\n",
            "Iteration Number: 800 , Distance: 0.023262916\n",
            "Iteration Number: 900 , Distance: 0.018464677\n",
            "---Training qnn with  2  layers finished. Final distance = 0.01528478 .\n",
            "***** Number of Layers: 3 *****\n",
            "Iteration Number: 0 , Distance: 1.3594034\n",
            "Iteration Number: 100 , Distance: 0.26814872\n",
            "Iteration Number: 200 , Distance: 0.13708435\n",
            "Iteration Number: 300 , Distance: 0.07051495\n",
            "Iteration Number: 400 , Distance: 0.04047774\n",
            "Iteration Number: 500 , Distance: 0.026934396\n",
            "Iteration Number: 600 , Distance: 0.019837484\n",
            "Iteration Number: 700 , Distance: 0.015635943\n",
            "Iteration Number: 800 , Distance: 0.012917088\n",
            "Iteration Number: 900 , Distance: 0.011010486\n",
            "---Training qnn with  3  layers finished. Final distance = 0.009587107 .\n",
            "***** Number of Layers: 4 *****\n",
            "Iteration Number: 0 , Distance: 2.1957505\n",
            "Iteration Number: 100 , Distance: 0.18241094\n",
            "Iteration Number: 200 , Distance: 0.06199035\n",
            "Iteration Number: 300 , Distance: 0.03517063\n",
            "Iteration Number: 400 , Distance: 0.020570243\n",
            "Iteration Number: 500 , Distance: 0.011545361\n",
            "Iteration Number: 600 , Distance: 0.0063311197\n",
            "Iteration Number: 700 , Distance: 0.0034998576\n",
            "Iteration Number: 800 , Distance: 0.0019879355\n",
            "Iteration Number: 900 , Distance: 0.0011694182\n",
            "---Training qnn with  4  layers finished. Final distance = 0.00071635575 .\n",
            "***** Number of Layers: 5 *****\n",
            "Iteration Number: 0 , Distance: 1.7244644\n",
            "Iteration Number: 100 , Distance: 0.056715537\n",
            "Iteration Number: 200 , Distance: 0.018496059\n",
            "Iteration Number: 300 , Distance: 0.0075595025\n",
            "Iteration Number: 400 , Distance: 0.0033691546\n",
            "Iteration Number: 500 , Distance: 0.0015650584\n",
            "Iteration Number: 600 , Distance: 0.0007431337\n",
            "Iteration Number: 700 , Distance: 0.00035773782\n",
            "Iteration Number: 800 , Distance: 0.00017385723\n",
            "Iteration Number: 900 , Distance: 8.5087224e-05\n",
            "---Training qnn with  5  layers finished. Final distance = 4.2153944e-05 .\n",
            "***** Number of Layers: 6 *****\n",
            "Iteration Number: 0 , Distance: 1.8331834\n",
            "Iteration Number: 100 , Distance: 0.032397963\n",
            "Iteration Number: 200 , Distance: 0.004187106\n",
            "Iteration Number: 300 , Distance: 0.0010231513\n",
            "Iteration Number: 400 , Distance: 0.0003119107\n",
            "Iteration Number: 500 , Distance: 0.00010232149\n",
            "Iteration Number: 600 , Distance: 3.4675435e-05\n",
            "Iteration Number: 700 , Distance: 1.1968048e-05\n",
            "Iteration Number: 800 , Distance: 4.17741e-06\n",
            "Iteration Number: 900 , Distance: 1.4723311e-06\n",
            "---Training qnn with  6  layers finished. Final distance = 5.272452e-07 .\n",
            "Training finished.\n"
          ],
          "name": "stdout"
        }
      ]
    },
    {
      "cell_type": "code",
      "metadata": {
        "colab_type": "code",
        "id": "o8k7G_0NMhc0",
        "colab": {
          "base_uri": "https://localhost:8080/",
          "height": 768
        },
        "outputId": "a8ef9486-08c2-40a2-ff35-b6d4e072f2c0"
      },
      "source": [
        "plt.figure(figsize=(9, 6))\n",
        "min_e = []\n",
        "number_of_L = []\n",
        "for l in range(1,L+1):\n",
        "  with open('/content/mydrive/model2_layer_{}'.format(l)) as f:\n",
        "      evalues  = f.read().splitlines()\n",
        "  evalues = [float(i) for i in evalues]\n",
        "  min_e .append(evalues[len(evalues)-1])\n",
        "  number_of_L.append(l)\n",
        "  label='L = {}'.format(l)\n",
        "  #plt.plot(aliceboblosses[:steps], label='Alice_Bob')\n",
        "  plt.plot(evalues,label = label)\n",
        "plt.xlabel(\"Iterations\", fontsize=13)\n",
        "plt.ylabel(\"Distance Values\", fontsize=13)\n",
        "plt.legend(fontsize=13)\n",
        "plt.show()\n",
        "plt.figure(figsize=(9, 6))\n",
        "plt.plot(number_of_L,min_e)\n",
        "for i in range(len(min_e)): plt.annotate(np.around(min_e[i], 3), (number_of_L[i], min_e[i]))\n",
        "plt.xlabel(\"Number of Layers\", fontsize=13)\n",
        "plt.ylabel(\"Minimum Distance\", fontsize=13)\n",
        "plt.show()"
      ],
      "execution_count": 28,
      "outputs": [
        {
          "output_type": "display_data",
          "data": {
            "image/png": "[encoded data removed]",
            "text/plain": [
              "<Figure size 648x432 with 1 Axes>"
            ]
          },
          "metadata": {
            "tags": [],
            "needs_background": "light"
          }
        },
        {
          "output_type": "display_data",
          "data": {
            "image/png": "[encoded data removed]",
            "text/plain": [
              "<Figure size 648x432 with 1 Axes>"
            ]
          },
          "metadata": {
            "tags": [],
            "needs_background": "light"
          }
        }
      ]
    }
  ]
}