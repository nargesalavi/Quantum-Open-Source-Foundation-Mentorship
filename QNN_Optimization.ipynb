{
  "nbformat": 4,
  "nbformat_minor": 0,
  "metadata": {
    "kernelspec": {
      "display_name": "Python 3",
      "language": "python",
      "name": "python3"
    },
    "language_info": {
      "codemirror_mode": {
        "name": "ipython",
        "version": 3
      },
      "file_extension": ".py",
      "mimetype": "text/x-python",
      "name": "python",
      "nbconvert_exporter": "python",
      "pygments_lexer": "ipython3",
      "version": "3.7.3"
    },
    "colab": {
      "name": "QNN_Optimization.ipynb",
      "provenance": [],
      "include_colab_link": true
    }
  },
  "cells": [
    {
      "cell_type": "markdown",
      "metadata": {
        "id": "view-in-github",
        "colab_type": "text"
      },
      "source": [
        "<a href=\"https://colab.research.google.com/github/nargesalavi/Quantum-Open-Source-Foundation-Mentorship/blob/master/QNN_Optimization.ipynb\" target=\"_parent\"><img src=\"https://colab.research.google.com/assets/colab-badge.svg\" alt=\"Open In Colab\"/></a>"
      ]
    },
    {
      "cell_type": "code",
      "metadata": {
        "id": "i9yO54UPnnjA",
        "colab_type": "code",
        "colab": {}
      },
      "source": [
        "!pip install tensorflow==2.1.0"
      ],
      "execution_count": null,
      "outputs": []
    },
    {
      "cell_type": "code",
      "metadata": {
        "id": "CW0AfQmbnuln",
        "colab_type": "code",
        "colab": {}
      },
      "source": [
        "!pip install tensorflow-quantum"
      ],
      "execution_count": null,
      "outputs": []
    },
    {
      "cell_type": "code",
      "metadata": {
        "id": "tfFL0mSXnlaT",
        "colab_type": "code",
        "colab": {}
      },
      "source": [
        "import tensorflow as tf\n",
        "import tensorflow_quantum as tfq\n",
        "import cirq\n",
        "import sympy\n",
        "import numpy as np\n",
        "\n",
        "# visualization tools\n",
        "%matplotlib inline\n",
        "import matplotlib.pyplot as plt"
      ],
      "execution_count": 18,
      "outputs": []
    },
    {
      "cell_type": "code",
      "metadata": {
        "id": "QK_gJw9Mnlac",
        "colab_type": "code",
        "colab": {}
      },
      "source": [
        "qubits = cirq.GridQubit.rect(1, 4)"
      ],
      "execution_count": null,
      "outputs": []
    },
    {
      "cell_type": "code",
      "metadata": {
        "id": "nl8-yRRJnlak",
        "colab_type": "code",
        "colab": {}
      },
      "source": [
        "def generate_even_block(block_number):\n",
        "    \"\"\" Function for generating the even blocks\n",
        "        block_number: Block number, it has to be even.\n",
        "        return: ciq.Circuit \"\"\"\n",
        "    params = sympy.symbols(['theta_{}'.format(n) for n in range((block_number-1)*4,block_number*4)])\n",
        "\n",
        "    # create the parameterized circuit\n",
        "    circuit = cirq.Circuit(\n",
        "        cirq.rz(params[0])(qubits[0]),\n",
        "        cirq.rz(params[1])(qubits[1]),\n",
        "        cirq.rz(params[2])(qubits[2]),\n",
        "        cirq.rz(params[3])(qubits[3]),\n",
        "        cirq.CZ(qubits[0],qubits[1]),\n",
        "        cirq.CZ(qubits[0],qubits[2]),\n",
        "        cirq.CZ(qubits[0],qubits[3]),\n",
        "        cirq.CZ(qubits[1],qubits[2]),\n",
        "        cirq.CZ(qubits[1],qubits[3]),\n",
        "        cirq.CZ(qubits[2],qubits[3])\n",
        "    )\n",
        "    \n",
        "    return circuit"
      ],
      "execution_count": null,
      "outputs": []
    },
    {
      "cell_type": "code",
      "metadata": {
        "id": "hvfGTPq-nlbk",
        "colab_type": "code",
        "colab": {}
      },
      "source": [
        "def generate_odd_block(block_number):\n",
        "    \"\"\" Function for generating the odd blocks\n",
        "        block_number: Block number, it has to be odd.\n",
        "        return: ciq.Circuit \"\"\"\n",
        "    params = sympy.symbols(['theta_{}'.format(n) for n in range((block_number-1)*4,block_number*4)])\n",
        "\n",
        "    # create the parameterized circuit\n",
        "    circuit = cirq.Circuit(\n",
        "        cirq.rx(params[0])(qubits[0]),\n",
        "        cirq.rx(params[1])(qubits[1]),\n",
        "        cirq.rx(params[2])(qubits[2]),\n",
        "        cirq.rx(params[3])(qubits[3])\n",
        "    )\n",
        "    \n",
        "    return circuit"
      ],
      "execution_count": null,
      "outputs": []
    },
    {
      "cell_type": "code",
      "metadata": {
        "id": "o6oL_nZJnlb5",
        "colab_type": "code",
        "colab": {}
      },
      "source": [
        "def generate_qnn(l):\n",
        "    \"\"\" Function for generating qnn, containing l number of layers.\n",
        "        l: number of layers, each layer contains one odd and one even block.\n",
        "        return: ciq.Circuit \"\"\"\n",
        "    circuit = cirq.Circuit()\n",
        "    for i in range(1,2*l+1):\n",
        "        if i % 2 == 1:\n",
        "            circuit += generate_odd_block(i)\n",
        "        else:\n",
        "            circuit += generate_even_block(i)\n",
        "        \n",
        "    return circuit"
      ],
      "execution_count": null,
      "outputs": []
    },
    {
      "cell_type": "code",
      "metadata": {
        "id": "PhEtWuC8nlb8",
        "colab_type": "code",
        "colab": {
          "base_uri": "https://localhost:8080/",
          "height": 170
        },
        "outputId": "282cfb34-4ce4-4ff3-929b-e179ec345c3a"
      },
      "source": [
        "l=1\n",
        "qnn = generate_qnn(l)\n",
        "print(qnn)"
      ],
      "execution_count": null,
      "outputs": [
        {
          "output_type": "stream",
          "text": [
            "                                               ┌──┐\n",
            "(0, 0): ───Rx(theta_0)───Rz(theta_4)───@───@────@─────────────\n",
            "                                       │   │    │\n",
            "(0, 1): ───Rx(theta_1)───Rz(theta_5)───@───┼────┼@────@───────\n",
            "                                           │    ││    │\n",
            "(0, 2): ───Rx(theta_2)───Rz(theta_6)───────@────┼@────┼───@───\n",
            "                                                │     │   │\n",
            "(0, 3): ───Rx(theta_3)───Rz(theta_7)────────────@─────@───@───\n",
            "                                               └──┘\n"
          ],
          "name": "stdout"
        }
      ]
    },
    {
      "cell_type": "code",
      "metadata": {
        "id": "wVqt1tdrnlb-",
        "colab_type": "code",
        "colab": {
          "base_uri": "https://localhost:8080/",
          "height": 34
        },
        "outputId": "6b9fa02a-25cf-4661-aa1e-0d552076c9bf"
      },
      "source": [
        "params = tf.zeros([1,8*l ], tf.float32)\n",
        "print(params)\n",
        "params_names = sympy.symbols(['theta_{}'.format(n) for n in range(8*l)])"
      ],
      "execution_count": 30,
      "outputs": [
        {
          "output_type": "stream",
          "text": [
            "tf.Tensor([[0. 0. 0. 0. 0. 0. 0. 0.]], shape=(1, 8), dtype=float32)\n"
          ],
          "name": "stdout"
        }
      ]
    },
    {
      "cell_type": "code",
      "metadata": {
        "id": "_iYE0IgLnlcB",
        "colab_type": "code",
        "colab": {
          "base_uri": "https://localhost:8080/",
          "height": 105
        },
        "outputId": "994145b2-169f-47f0-8ba3-f8e49401d517"
      },
      "source": [
        "state_layer = tfq.layers.State()\n",
        "state = state_layer(qnn, symbol_names=params_names, symbol_values=params)\n",
        "print(state)"
      ],
      "execution_count": 31,
      "outputs": [
        {
          "output_type": "stream",
          "text": [
            "WARNING:tensorflow:From /usr/local/lib/python3.6/dist-packages/tensorflow_core/python/util/deprecation.py:507: calling count_nonzero (from tensorflow.python.ops.math_ops) with axis is deprecated and will be removed in a future version.\n",
            "Instructions for updating:\n",
            "reduction_indices is deprecated, use axis instead\n",
            "<tf.RaggedTensor [[(1+0j), 0j, 0j, 0j, 0j, 0j, 0j, 0j, 0j, 0j, 0j, 0j, 0j, 0j, 0j, 0j]]>\n"
          ],
          "name": "stdout"
        }
      ]
    },
    {
      "cell_type": "code",
      "metadata": {
        "id": "YdriDgEinlcD",
        "colab_type": "code",
        "colab": {
          "base_uri": "https://localhost:8080/",
          "height": 207
        },
        "outputId": "979a8a6d-2e22-48cc-a70e-fa38ea56fc8a"
      },
      "source": [
        "random_circuit = cirq.testing.random_circuit(qubits = qubits,n_moments = np.random.randint(low=1,high=5),\\\n",
        "                                                                op_density = 0.99999999)\n",
        "print(random_circuit)\n",
        "target_state = tfq.layers.State()(random_circuit)\n",
        "print(target_state)"
      ],
      "execution_count": 33,
      "outputs": [
        {
          "output_type": "stream",
          "text": [
            "                   ┌──┐   ┌──────┐\n",
            "(0, 0): ───iSwap────X───────iSwap────\n",
            "           │        │       │\n",
            "(0, 1): ───iSwap────┼──────Y┼────────\n",
            "                    │       │\n",
            "(0, 2): ───@────────┼H──────┼────────\n",
            "           │        │       │\n",
            "(0, 3): ───@────────@───────iSwap────\n",
            "                   └──┘   └──────┘\n",
            "<tf.RaggedTensor [[(-5.596267802565949e-16-3.0908619663705394e-08j), 0j, (1.3510586319685509e-15-3.0908619663705394e-08j), 0j, (-1.810585104067286e-08+0.7071067690849304j), 0j, (-6.181723932741079e-08+0.7071067690849304j), 0j, 0j, 0j, 0j, 0j, 0j, 0j, 0j, 0j]]>\n"
          ],
          "name": "stdout"
        }
      ]
    },
    {
      "cell_type": "code",
      "metadata": {
        "id": "scCdJfzMBfwo",
        "colab_type": "code",
        "colab": {}
      },
      "source": [
        "def states_distance(state,target):\n",
        "  diff = state[0] - target[0]\n",
        "  diff = tf.reshape(diff, [16, 1])\n",
        "  conjugate_transposed_state = tf.transpose(diff,conjugate=True)\n",
        "  return tf.tensordot(conjugate_transposed_state, diff, axes = 1)"
      ],
      "execution_count": 34,
      "outputs": []
    },
    {
      "cell_type": "code",
      "metadata": {
        "id": "L-AfQW-ICZOc",
        "colab_type": "code",
        "colab": {
          "base_uri": "https://localhost:8080/",
          "height": 34
        },
        "outputId": "150416e0-091a-4677-ddfc-87e1012b44cb"
      },
      "source": [
        "a = states_distance(state,target_state)\n",
        "print(a)"
      ],
      "execution_count": 35,
      "outputs": [
        {
          "output_type": "stream",
          "text": [
            "tf.Tensor([[2.+0.j]], shape=(1, 1), dtype=complex64)\n"
          ],
          "name": "stdout"
        }
      ]
    },
    {
      "cell_type": "code",
      "metadata": {
        "id": "apIGV8_LGWG0",
        "colab_type": "code",
        "colab": {}
      },
      "source": [
        "adam_optimizer = tf.keras.optimizers.Adam(learning_rate=0.005)"
      ],
      "execution_count": 36,
      "outputs": []
    },
    {
      "cell_type": "code",
      "metadata": {
        "id": "HcIf9kRVCv3z",
        "colab_type": "code",
        "colab": {}
      },
      "source": [
        "# gradient(theta[i]) = function(theta)\n",
        "def custom_gradient(params, target_state):\n",
        "  param_length = len(params[0])\n",
        "  grad = [None]*param_length\n",
        "    \n",
        "  for i in range(param_length):\n",
        "      \n",
        "    params_plus_h = tf.convert_to_tensor([np.concatenate((params[0][0:i],[params[0][i]+h],params[0][i+1:]))])\n",
        "    params_minus_h = tf.convert_to_tensor([np.concatenate((params[0][0:i],[params[0][i]-h],params[0][i+1:]))])\n",
        "    state_plus_h = state_layer(qnn, symbol_names=params_names, symbol_values=params_plus_h)\n",
        "    state_minus_h = state_layer(qnn, symbol_names=params_names, symbol_values=params_minus_h)\n",
        "    grad[i] = tf.convert_to_tensor((states_distance(state_plus_h,target_state)-states_distance(state_minus_h,target_state))/(2*h))\n",
        "\n",
        "  return grad"
      ],
      "execution_count": 43,
      "outputs": []
    },
    {
      "cell_type": "code",
      "metadata": {
        "id": "AcJOL6VvMNa_",
        "colab_type": "code",
        "colab": {
          "base_uri": "https://localhost:8080/",
          "height": 51
        },
        "outputId": "a06c88a4-7fda-41a9-b44b-7eb120fb498c"
      },
      "source": [
        "with tf.GradientTape() as g:\n",
        "  x  = tf.constant([1.0])\n",
        "  z  = tf.constant([2.0])\n",
        "  g.watch(x)\n",
        "  g.watch(z)\n",
        "  y = x * x + z*z + x*z\n",
        "gr = g.gradient(y, (x,z))\n",
        "print(type(gr))\n",
        "print(gr)"
      ],
      "execution_count": 40,
      "outputs": [
        {
          "output_type": "stream",
          "text": [
            "<class 'tuple'>\n",
            "(<tf.Tensor: shape=(1,), dtype=float32, numpy=array([4.], dtype=float32)>, <tf.Tensor: shape=(1,), dtype=float32, numpy=array([5.], dtype=float32)>)\n"
          ],
          "name": "stdout"
        }
      ]
    },
    {
      "cell_type": "code",
      "metadata": {
        "id": "a7o1WnqMeUMq",
        "colab_type": "code",
        "colab": {
          "base_uri": "https://localhost:8080/",
          "height": 71
        },
        "outputId": "6653f7a6-9082-4916-b503-6d0a74ca8568"
      },
      "source": [
        "circuit_grad = custom_gradient(params, target_state)\n",
        "print(circuit_grad)\n",
        "print(type(circuit_grad))"
      ],
      "execution_count": 44,
      "outputs": [
        {
          "output_type": "stream",
          "text": [
            "[<tf.Tensor: shape=(1, 1), dtype=complex64, numpy=array([[0.+0.j]], dtype=complex64)>, <tf.Tensor: shape=(1, 1), dtype=complex64, numpy=array([[0.69976425+0.j]], dtype=complex64)>, <tf.Tensor: shape=(1, 1), dtype=complex64, numpy=array([[0.+0.j]], dtype=complex64)>, <tf.Tensor: shape=(1, 1), dtype=complex64, numpy=array([[0.+0.j]], dtype=complex64)>, <tf.Tensor: shape=(1, 1), dtype=complex64, numpy=array([[0.+0.j]], dtype=complex64)>, <tf.Tensor: shape=(1, 1), dtype=complex64, numpy=array([[0.+0.j]], dtype=complex64)>, <tf.Tensor: shape=(1, 1), dtype=complex64, numpy=array([[0.+0.j]], dtype=complex64)>, <tf.Tensor: shape=(1, 1), dtype=complex64, numpy=array([[0.+0.j]], dtype=complex64)>]\n",
            "<class 'list'>\n"
          ],
          "name": "stdout"
        }
      ]
    },
    {
      "cell_type": "code",
      "metadata": {
        "id": "rIpqv_RZMc8g",
        "colab_type": "code",
        "colab": {
          "base_uri": "https://localhost:8080/",
          "height": 664
        },
        "outputId": "f97757ca-6893-4ff6-c6ad-246294135518"
      },
      "source": [
        " adam_optimizer.apply_gradients(zip(circuit_grad, params))"
      ],
      "execution_count": 45,
      "outputs": [
        {
          "output_type": "error",
          "ename": "AttributeError",
          "evalue": "ignored",
          "traceback": [
            "\u001b[0;31m---------------------------------------------------------------------------\u001b[0m",
            "\u001b[0;31mAttributeError\u001b[0m                            Traceback (most recent call last)",
            "\u001b[0;32m<ipython-input-45-f9259e41ce47>\u001b[0m in \u001b[0;36m<module>\u001b[0;34m()\u001b[0m\n\u001b[0;32m----> 1\u001b[0;31m \u001b[0madam_optimizer\u001b[0m\u001b[0;34m.\u001b[0m\u001b[0mapply_gradients\u001b[0m\u001b[0;34m(\u001b[0m\u001b[0mzip\u001b[0m\u001b[0;34m(\u001b[0m\u001b[0mcircuit_grad\u001b[0m\u001b[0;34m,\u001b[0m \u001b[0mparams\u001b[0m\u001b[0;34m)\u001b[0m\u001b[0;34m)\u001b[0m\u001b[0;34m\u001b[0m\u001b[0;34m\u001b[0m\u001b[0m\n\u001b[0m",
            "\u001b[0;32m/usr/local/lib/python3.6/dist-packages/tensorflow_core/python/keras/optimizer_v2/optimizer_v2.py\u001b[0m in \u001b[0;36mapply_gradients\u001b[0;34m(self, grads_and_vars, name)\u001b[0m\n\u001b[1;32m    432\u001b[0m         \u001b[0m_\u001b[0m \u001b[0;34m=\u001b[0m \u001b[0mself\u001b[0m\u001b[0;34m.\u001b[0m\u001b[0miterations\u001b[0m\u001b[0;34m\u001b[0m\u001b[0;34m\u001b[0m\u001b[0m\n\u001b[1;32m    433\u001b[0m         \u001b[0mself\u001b[0m\u001b[0;34m.\u001b[0m\u001b[0m_create_hypers\u001b[0m\u001b[0;34m(\u001b[0m\u001b[0;34m)\u001b[0m\u001b[0;34m\u001b[0m\u001b[0;34m\u001b[0m\u001b[0m\n\u001b[0;32m--> 434\u001b[0;31m         \u001b[0mself\u001b[0m\u001b[0;34m.\u001b[0m\u001b[0m_create_slots\u001b[0m\u001b[0;34m(\u001b[0m\u001b[0mvar_list\u001b[0m\u001b[0;34m)\u001b[0m\u001b[0;34m\u001b[0m\u001b[0;34m\u001b[0m\u001b[0m\n\u001b[0m\u001b[1;32m    435\u001b[0m \u001b[0;34m\u001b[0m\u001b[0m\n\u001b[1;32m    436\u001b[0m       \u001b[0;32mif\u001b[0m \u001b[0;32mnot\u001b[0m \u001b[0mgrads_and_vars\u001b[0m\u001b[0;34m:\u001b[0m\u001b[0;34m\u001b[0m\u001b[0;34m\u001b[0m\u001b[0m\n",
            "\u001b[0;32m/usr/local/lib/python3.6/dist-packages/tensorflow_core/python/keras/optimizer_v2/adam.py\u001b[0m in \u001b[0;36m_create_slots\u001b[0;34m(self, var_list)\u001b[0m\n\u001b[1;32m    147\u001b[0m     \u001b[0;31m# Separate for-loops to respect the ordering of slot variables from v1.\u001b[0m\u001b[0;34m\u001b[0m\u001b[0;34m\u001b[0m\u001b[0;34m\u001b[0m\u001b[0m\n\u001b[1;32m    148\u001b[0m     \u001b[0;32mfor\u001b[0m \u001b[0mvar\u001b[0m \u001b[0;32min\u001b[0m \u001b[0mvar_list\u001b[0m\u001b[0;34m:\u001b[0m\u001b[0;34m\u001b[0m\u001b[0;34m\u001b[0m\u001b[0m\n\u001b[0;32m--> 149\u001b[0;31m       \u001b[0mself\u001b[0m\u001b[0;34m.\u001b[0m\u001b[0madd_slot\u001b[0m\u001b[0;34m(\u001b[0m\u001b[0mvar\u001b[0m\u001b[0;34m,\u001b[0m \u001b[0;34m'm'\u001b[0m\u001b[0;34m)\u001b[0m\u001b[0;34m\u001b[0m\u001b[0;34m\u001b[0m\u001b[0m\n\u001b[0m\u001b[1;32m    150\u001b[0m     \u001b[0;32mfor\u001b[0m \u001b[0mvar\u001b[0m \u001b[0;32min\u001b[0m \u001b[0mvar_list\u001b[0m\u001b[0;34m:\u001b[0m\u001b[0;34m\u001b[0m\u001b[0;34m\u001b[0m\u001b[0m\n\u001b[1;32m    151\u001b[0m       \u001b[0mself\u001b[0m\u001b[0;34m.\u001b[0m\u001b[0madd_slot\u001b[0m\u001b[0;34m(\u001b[0m\u001b[0mvar\u001b[0m\u001b[0;34m,\u001b[0m \u001b[0;34m'v'\u001b[0m\u001b[0;34m)\u001b[0m\u001b[0;34m\u001b[0m\u001b[0;34m\u001b[0m\u001b[0m\n",
            "\u001b[0;32m/usr/local/lib/python3.6/dist-packages/tensorflow_core/python/keras/optimizer_v2/optimizer_v2.py\u001b[0m in \u001b[0;36madd_slot\u001b[0;34m(self, var, slot_name, initializer)\u001b[0m\n\u001b[1;32m    572\u001b[0m     \u001b[0;32mif\u001b[0m \u001b[0mslot_name\u001b[0m \u001b[0;32mnot\u001b[0m \u001b[0;32min\u001b[0m \u001b[0mself\u001b[0m\u001b[0;34m.\u001b[0m\u001b[0m_slot_names\u001b[0m\u001b[0;34m:\u001b[0m\u001b[0;34m\u001b[0m\u001b[0;34m\u001b[0m\u001b[0m\n\u001b[1;32m    573\u001b[0m       \u001b[0mself\u001b[0m\u001b[0;34m.\u001b[0m\u001b[0m_slot_names\u001b[0m\u001b[0;34m.\u001b[0m\u001b[0mappend\u001b[0m\u001b[0;34m(\u001b[0m\u001b[0mslot_name\u001b[0m\u001b[0;34m)\u001b[0m\u001b[0;34m\u001b[0m\u001b[0;34m\u001b[0m\u001b[0m\n\u001b[0;32m--> 574\u001b[0;31m     \u001b[0mvar_key\u001b[0m \u001b[0;34m=\u001b[0m \u001b[0m_var_key\u001b[0m\u001b[0;34m(\u001b[0m\u001b[0mvar\u001b[0m\u001b[0;34m)\u001b[0m\u001b[0;34m\u001b[0m\u001b[0;34m\u001b[0m\u001b[0m\n\u001b[0m\u001b[1;32m    575\u001b[0m     \u001b[0mslot_dict\u001b[0m \u001b[0;34m=\u001b[0m \u001b[0mself\u001b[0m\u001b[0;34m.\u001b[0m\u001b[0m_slots\u001b[0m\u001b[0;34m.\u001b[0m\u001b[0msetdefault\u001b[0m\u001b[0;34m(\u001b[0m\u001b[0mvar_key\u001b[0m\u001b[0;34m,\u001b[0m \u001b[0;34m{\u001b[0m\u001b[0;34m}\u001b[0m\u001b[0;34m)\u001b[0m\u001b[0;34m\u001b[0m\u001b[0;34m\u001b[0m\u001b[0m\n\u001b[1;32m    576\u001b[0m     \u001b[0mweight\u001b[0m \u001b[0;34m=\u001b[0m \u001b[0mslot_dict\u001b[0m\u001b[0;34m.\u001b[0m\u001b[0mget\u001b[0m\u001b[0;34m(\u001b[0m\u001b[0mslot_name\u001b[0m\u001b[0;34m,\u001b[0m \u001b[0;32mNone\u001b[0m\u001b[0;34m)\u001b[0m\u001b[0;34m\u001b[0m\u001b[0;34m\u001b[0m\u001b[0m\n",
            "\u001b[0;32m/usr/local/lib/python3.6/dist-packages/tensorflow_core/python/keras/optimizer_v2/optimizer_v2.py\u001b[0m in \u001b[0;36m_var_key\u001b[0;34m(var)\u001b[0m\n\u001b[1;32m   1063\u001b[0m   \u001b[0;32mif\u001b[0m \u001b[0mhasattr\u001b[0m\u001b[0;34m(\u001b[0m\u001b[0mvar\u001b[0m\u001b[0;34m,\u001b[0m \u001b[0;34m\"_distributed_container\"\u001b[0m\u001b[0;34m)\u001b[0m\u001b[0;34m:\u001b[0m\u001b[0;34m\u001b[0m\u001b[0;34m\u001b[0m\u001b[0m\n\u001b[1;32m   1064\u001b[0m     \u001b[0mvar\u001b[0m \u001b[0;34m=\u001b[0m \u001b[0mvar\u001b[0m\u001b[0;34m.\u001b[0m\u001b[0m_distributed_container\u001b[0m\u001b[0;34m(\u001b[0m\u001b[0;34m)\u001b[0m\u001b[0;34m\u001b[0m\u001b[0;34m\u001b[0m\u001b[0m\n\u001b[0;32m-> 1065\u001b[0;31m   \u001b[0;32mif\u001b[0m \u001b[0mvar\u001b[0m\u001b[0;34m.\u001b[0m\u001b[0m_in_graph_mode\u001b[0m\u001b[0;34m:\u001b[0m\u001b[0;34m\u001b[0m\u001b[0;34m\u001b[0m\u001b[0m\n\u001b[0m\u001b[1;32m   1066\u001b[0m     \u001b[0;32mreturn\u001b[0m \u001b[0mvar\u001b[0m\u001b[0;34m.\u001b[0m\u001b[0m_shared_name\u001b[0m\u001b[0;34m\u001b[0m\u001b[0;34m\u001b[0m\u001b[0m\n\u001b[1;32m   1067\u001b[0m   \u001b[0;32mreturn\u001b[0m \u001b[0mvar\u001b[0m\u001b[0;34m.\u001b[0m\u001b[0m_unique_id\u001b[0m\u001b[0;34m\u001b[0m\u001b[0;34m\u001b[0m\u001b[0m\n",
            "\u001b[0;31mAttributeError\u001b[0m: 'tensorflow.python.framework.ops.EagerTensor' object has no attribute '_in_graph_mode'"
          ]
        }
      ]
    },
    {
      "cell_type": "code",
      "metadata": {
        "id": "o8k7G_0NMhc0",
        "colab_type": "code",
        "colab": {
          "base_uri": "https://localhost:8080/",
          "height": 34
        },
        "outputId": "c7bf7603-c047-45e2-d19f-41e5844f6bbc"
      },
      "source": [
        "tf.tensordot(y, x, axes = 1)"
      ],
      "execution_count": null,
      "outputs": [
        {
          "output_type": "execute_result",
          "data": {
            "text/plain": [
              "<tf.Tensor: shape=(1, 1), dtype=int64, numpy=array([[14]])>"
            ]
          },
          "metadata": {
            "tags": []
          },
          "execution_count": 37
        }
      ]
    }
  ]
}