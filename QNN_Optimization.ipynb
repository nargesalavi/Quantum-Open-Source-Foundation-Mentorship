{
  "nbformat": 4,
  "nbformat_minor": 0,
  "metadata": {
    "kernelspec": {
      "display_name": "Python 3",
      "language": "python",
      "name": "python3"
    },
    "language_info": {
      "codemirror_mode": {
        "name": "ipython",
        "version": 3
      },
      "file_extension": ".py",
      "mimetype": "text/x-python",
      "name": "python",
      "nbconvert_exporter": "python",
      "pygments_lexer": "ipython3",
      "version": "3.7.3"
    },
    "colab": {
      "name": "QNN_Optimization.ipynb",
      "provenance": [],
      "include_colab_link": true
    }
  },
  "cells": [
    {
      "cell_type": "markdown",
      "metadata": {
        "id": "view-in-github",
        "colab_type": "text"
      },
      "source": [
        "<a href=\"https://colab.research.google.com/github/nargesalavi/Quantum-Open-Source-Foundation-Mentorship/blob/master/QNN_Optimization.ipynb\" target=\"_parent\"><img src=\"https://colab.research.google.com/assets/colab-badge.svg\" alt=\"Open In Colab\"/></a>"
      ]
    },
    {
      "cell_type": "code",
      "metadata": {
        "id": "i9yO54UPnnjA",
        "colab_type": "code",
        "colab": {}
      },
      "source": [
        "!pip install tensorflow==2.1.0"
      ],
      "execution_count": null,
      "outputs": []
    },
    {
      "cell_type": "code",
      "metadata": {
        "id": "CW0AfQmbnuln",
        "colab_type": "code",
        "colab": {}
      },
      "source": [
        "!pip install tensorflow-quantum"
      ],
      "execution_count": null,
      "outputs": []
    },
    {
      "cell_type": "code",
      "metadata": {
        "id": "tfFL0mSXnlaT",
        "colab_type": "code",
        "colab": {}
      },
      "source": [
        "import tensorflow as tf\n",
        "import tensorflow_quantum as tfq\n",
        "import cirq\n",
        "import sympy\n",
        "import numpy as np\n",
        "\n",
        "# visualization tools\n",
        "%matplotlib inline\n",
        "import matplotlib.pyplot as plt"
      ],
      "execution_count": 1,
      "outputs": []
    },
    {
      "cell_type": "code",
      "metadata": {
        "id": "QK_gJw9Mnlac",
        "colab_type": "code",
        "colab": {}
      },
      "source": [
        "qubits = cirq.GridQubit.rect(1, 4)"
      ],
      "execution_count": 2,
      "outputs": []
    },
    {
      "cell_type": "code",
      "metadata": {
        "id": "nl8-yRRJnlak",
        "colab_type": "code",
        "colab": {}
      },
      "source": [
        "def generate_even_block(block_number):\n",
        "    \"\"\" Function for generating the even blocks\n",
        "        Arguments:\n",
        "          block_number: Block number, it has to be even.\n",
        "        return: ciq.Circuit \"\"\"\n",
        "    params = sympy.symbols(['theta_{}'.format(n) for n in range((block_number-1)*4,block_number*4)])\n",
        "\n",
        "    # create the parameterized circuit\n",
        "    circuit = cirq.Circuit(\n",
        "        cirq.rz(params[0])(qubits[0]),\n",
        "        cirq.rz(params[1])(qubits[1]),\n",
        "        cirq.rz(params[2])(qubits[2]),\n",
        "        cirq.rz(params[3])(qubits[3]),\n",
        "        cirq.CZ(qubits[0],qubits[1]),\n",
        "        cirq.CZ(qubits[0],qubits[2]),\n",
        "        cirq.CZ(qubits[0],qubits[3]),\n",
        "        cirq.CZ(qubits[1],qubits[2]),\n",
        "        cirq.CZ(qubits[1],qubits[3]),\n",
        "        cirq.CZ(qubits[2],qubits[3])\n",
        "    )\n",
        "    \n",
        "    return circuit"
      ],
      "execution_count": 3,
      "outputs": []
    },
    {
      "cell_type": "code",
      "metadata": {
        "id": "hvfGTPq-nlbk",
        "colab_type": "code",
        "colab": {}
      },
      "source": [
        "def generate_odd_block(block_number):\n",
        "    \"\"\" Function for generating the odd blocks\n",
        "        block_number: Block number, it has to be odd.\n",
        "        return: ciq.Circuit \"\"\"\n",
        "    params = sympy.symbols(['theta_{}'.format(n) for n in range((block_number-1)*4,block_number*4)])\n",
        "\n",
        "    # create the parameterized circuit\n",
        "    circuit = cirq.Circuit(\n",
        "        cirq.rx(params[0])(qubits[0]),\n",
        "        cirq.rx(params[1])(qubits[1]),\n",
        "        cirq.rx(params[2])(qubits[2]),\n",
        "        cirq.rx(params[3])(qubits[3])\n",
        "    )\n",
        "    \n",
        "    return circuit"
      ],
      "execution_count": 4,
      "outputs": []
    },
    {
      "cell_type": "code",
      "metadata": {
        "id": "o6oL_nZJnlb5",
        "colab_type": "code",
        "colab": {}
      },
      "source": [
        "def generate_qnn(l):\n",
        "    \"\"\" Function for generating qnn, containing l number of layers.\n",
        "        Arguments:\n",
        "          l: number of layers, each layer contains one odd and one even block.\n",
        "        return: ciq.Circuit \"\"\"\n",
        "    circuit = cirq.Circuit()\n",
        "    for i in range(1,2*l+1):\n",
        "        if i % 2 == 1:\n",
        "            circuit += generate_odd_block(i)\n",
        "        else:\n",
        "            circuit += generate_even_block(i)\n",
        "        \n",
        "    return circuit"
      ],
      "execution_count": 5,
      "outputs": []
    },
    {
      "cell_type": "code",
      "metadata": {
        "id": "PhEtWuC8nlb8",
        "colab_type": "code",
        "colab": {
          "base_uri": "https://localhost:8080/",
          "height": 170
        },
        "outputId": "ab278598-ba98-4256-c91c-51245e188229"
      },
      "source": [
        "l=1\n",
        "qnn = generate_qnn(l)\n",
        "print(qnn)"
      ],
      "execution_count": 6,
      "outputs": [
        {
          "output_type": "stream",
          "text": [
            "                                               ┌──┐\n",
            "(0, 0): ───Rx(theta_0)───Rz(theta_4)───@───@────@─────────────\n",
            "                                       │   │    │\n",
            "(0, 1): ───Rx(theta_1)───Rz(theta_5)───@───┼────┼@────@───────\n",
            "                                           │    ││    │\n",
            "(0, 2): ───Rx(theta_2)───Rz(theta_6)───────@────┼@────┼───@───\n",
            "                                                │     │   │\n",
            "(0, 3): ───Rx(theta_3)───Rz(theta_7)────────────@─────@───@───\n",
            "                                               └──┘\n"
          ],
          "name": "stdout"
        }
      ]
    },
    {
      "cell_type": "code",
      "metadata": {
        "id": "wVqt1tdrnlb-",
        "colab_type": "code",
        "colab": {
          "base_uri": "https://localhost:8080/",
          "height": 68
        },
        "outputId": "ae8cc930-29a5-4dfc-a264-936d7f7879e2"
      },
      "source": [
        "params = tf.random.uniform(shape = (1,8*l), minval=0, maxval=2*np.pi) #tf.zeros([1,8*l ], tf.float32)\n",
        "print(params)\n",
        "params_names = sympy.symbols(['theta_{}'.format(n) for n in range(8*l)])"
      ],
      "execution_count": 7,
      "outputs": [
        {
          "output_type": "stream",
          "text": [
            "tf.Tensor(\n",
            "[[5.1357327  3.0047426  4.318575   3.52695    0.76603466 2.7349186\n",
            "  2.7117014  1.1259756 ]], shape=(1, 8), dtype=float32)\n"
          ],
          "name": "stdout"
        }
      ]
    },
    {
      "cell_type": "code",
      "metadata": {
        "id": "_iYE0IgLnlcB",
        "colab_type": "code",
        "colab": {
          "base_uri": "https://localhost:8080/",
          "height": 258
        },
        "outputId": "bfaf46dd-b592-4735-aef8-b015db23538e"
      },
      "source": [
        "state_layer = tfq.layers.State()\n",
        "state = state_layer(qnn, symbol_names=params_names, symbol_values=params)\n",
        "print(qnn)\n",
        "print(state)"
      ],
      "execution_count": 8,
      "outputs": [
        {
          "output_type": "stream",
          "text": [
            "WARNING:tensorflow:From /usr/local/lib/python3.6/dist-packages/tensorflow_core/python/util/deprecation.py:507: calling count_nonzero (from tensorflow.python.ops.math_ops) with axis is deprecated and will be removed in a future version.\n",
            "Instructions for updating:\n",
            "reduction_indices is deprecated, use axis instead\n",
            "                                               ┌──┐\n",
            "(0, 0): ───Rx(theta_0)───Rz(theta_4)───@───@────@─────────────\n",
            "                                       │   │    │\n",
            "(0, 1): ───Rx(theta_1)───Rz(theta_5)───@───┼────┼@────@───────\n",
            "                                           │    ││    │\n",
            "(0, 2): ───Rx(theta_2)───Rz(theta_6)───────@────┼@────┼───@───\n",
            "                                                │     │   │\n",
            "(0, 3): ───Rx(theta_3)───Rz(theta_7)────────────@─────@───@───\n",
            "                                               └──┘\n",
            "<tf.RaggedTensor [[(0.005273591727018356-0.00307377427816391j), (-0.017620671540498734+0.025852849707007408j), (-0.007480049505829811-0.005263462662696838j), (-0.046217553317546844-0.00785564910620451j), (0.07163204997777939+0.05293341353535652j), (0.44817468523979187+0.08692703396081924j), (-0.027365293353796005+0.130624920129776j), (-0.1614823341369629-0.664732813835144j), (-0.0009311834583058953+0.0038331574760377407j), (0.004145712126046419+0.019789081066846848j), (-0.005802566185593605+0.001125452108681202j), (0.024365220218896866-0.018004974350333214j), (0.05674527585506439-0.009645046666264534j), (-0.2412777990102768+0.16977907717227936j), (-0.04857448861002922-0.0712679922580719j), (-0.38192880153656006-0.2226119339466095j)]]>\n"
          ],
          "name": "stdout"
        }
      ]
    },
    {
      "cell_type": "code",
      "metadata": {
        "id": "YdriDgEinlcD",
        "colab_type": "code",
        "colab": {
          "base_uri": "https://localhost:8080/",
          "height": 173
        },
        "outputId": "63aa61be-fbaa-4b30-c0fd-852a2c6ddb90"
      },
      "source": [
        "random_circuit = cirq.testing.random_circuit(qubits = qubits,n_moments = np.random.randint(low=1,high=5),\\\n",
        "                                                                op_density = 0.99999999)\n",
        "print(random_circuit)\n",
        "target_state = tfq.layers.State()(random_circuit)\n",
        "print(target_state)"
      ],
      "execution_count": 10,
      "outputs": [
        {
          "output_type": "stream",
          "text": [
            "(0, 0): ───────Z───\n",
            "\n",
            "(0, 1): ───Z───×───\n",
            "               │\n",
            "(0, 2): ───Y───×───\n",
            "\n",
            "(0, 3): ───H───────\n",
            "<tf.RaggedTensor [[(-5.596267802565949e-16-3.0908619663705394e-08j), (1.3510586319685509e-15-3.0908619663705394e-08j), (3.0908619663705394e-08+7.914318517119559e-16j), (3.0908619663705394e-08+2.7021172639371017e-15j), (-4.9014470704378255e-08+0.7071067690849304j), (-9.27258554384025e-08+0.7071067690849304j), 0j, 0j, 0j, 0j, 0j, 0j, 0j, 0j, 0j, 0j]]>\n"
          ],
          "name": "stdout"
        }
      ]
    },
    {
      "cell_type": "code",
      "metadata": {
        "id": "scCdJfzMBfwo",
        "colab_type": "code",
        "colab": {}
      },
      "source": [
        "def states_distance(state,target):\n",
        "  diff = state[0] - target[0]\n",
        "  diff = tf.reshape(diff, [16, 1])\n",
        "  conjugate_transposed_state = tf.transpose(diff,conjugate=True)\n",
        "  distance = tf.tensordot(conjugate_transposed_state, diff, axes = 1)\n",
        "  #print('distance:' , distance, 'state:', state)\n",
        "  return tf.dtypes.cast(distance, tf.float32)"
      ],
      "execution_count": 11,
      "outputs": []
    },
    {
      "cell_type": "code",
      "metadata": {
        "id": "L-AfQW-ICZOc",
        "colab_type": "code",
        "colab": {
          "base_uri": "https://localhost:8080/",
          "height": 34
        },
        "outputId": "011e7260-1bbd-427e-ea1a-557379dd82d9"
      },
      "source": [
        "a = states_distance(state,target_state)\n",
        "print(a[0][0])"
      ],
      "execution_count": 12,
      "outputs": [
        {
          "output_type": "stream",
          "text": [
            "tf.Tensor(1.8022075, shape=(), dtype=float32)\n"
          ],
          "name": "stdout"
        }
      ]
    },
    {
      "cell_type": "code",
      "metadata": {
        "id": "HcIf9kRVCv3z",
        "colab_type": "code",
        "colab": {}
      },
      "source": [
        "# gradient(theta[i]) = function(theta)\n",
        "def custom_gradient(params, target_state, parameter_shift = True, h = np.pi/2):\n",
        "  \"\"\" This function calculates the gradients of the quantum circuit's parameters \n",
        "      using two methods: Parameter shift rules or Numerical differentiation.\n",
        "      In numerical differentiation method, for Pauli gates the shift value is pi/2 and the ratio is 1/2. \n",
        "      Arguments:\n",
        "        params: circuit's parameters, of which the gradient is calculated.\n",
        "        target_state: The target state, which the quantum NN trys to approximate.\n",
        "        parameter_shift: Determine which method is used to calculate the gradients. \n",
        "                         When it is True, the function uses parameter shift otherwise it uses numerical differentiation.\n",
        "        h: The shift value for parameter. When parameter shift method is used, it is pi/2.\"\"\"\n",
        "  param_length = len(params[0])\n",
        "  grad = [None]*param_length\n",
        "  if parameter_shift : \n",
        "    r = 1/2\n",
        "    h = np.pi/2\n",
        "  else:\n",
        "    r = 1/(2*h)\n",
        "  for i in range(param_length):\n",
        "    \n",
        "    params_plus_h = tf.convert_to_tensor([np.concatenate((params[0][0:i],[params[0][i]+h],params[0][i+1:]))])\n",
        "    params_minus_h = tf.convert_to_tensor([np.concatenate((params[0][0:i],[params[0][i]-h],params[0][i+1:]))])\n",
        "    state_plus_h = state_layer(qnn, symbol_names=params_names, symbol_values=params_plus_h)\n",
        "    state_minus_h = state_layer(qnn, symbol_names=params_names, symbol_values=params_minus_h)\n",
        "    #print('i', i, 'state_plus_h:', state_plus_h, 'state_minus_h:', state_minus_h) \n",
        "    grad[i] = r*(states_distance(state_plus_h,target_state)-states_distance(state_minus_h,target_state))\n",
        "\n",
        "  return grad"
      ],
      "execution_count": 13,
      "outputs": []
    },
    {
      "cell_type": "code",
      "metadata": {
        "id": "AcJOL6VvMNa_",
        "colab_type": "code",
        "colab": {}
      },
      "source": [
        "def update_params(params, gradients, learning_rate):\n",
        "  gradients = tf.reshape(gradients,[1,8])\n",
        "  params -= learning_rate*gradients\n",
        "  #params = params % (2*np.pi)\n",
        "  return params\n"
      ],
      "execution_count": 19,
      "outputs": []
    },
    {
      "cell_type": "code",
      "metadata": {
        "id": "YIguzyHM5Cc8",
        "colab_type": "code",
        "colab": {
          "base_uri": "https://localhost:8080/",
          "height": 1000
        },
        "outputId": "b69da711-8ef8-45ff-f296-6b73fcf83d90"
      },
      "source": [
        ",#for i in range (1,10):\n",
        "eValues = []\n",
        "for i in range(1000):\n",
        "  params_grads = custom_gradient(params, target_state,parameter_shift = False, h = np.pi/320)\n",
        "  params = update_params(params, params_grads,0.01)\n",
        "\n",
        "  approximation = state_layer(qnn, symbol_names=params_names, symbol_values=params)\n",
        "  e = states_distance(approximation,target_state)\n",
        "  eValues.append(e[0][0])\n",
        "\n",
        "  if i % 10 == 0:\n",
        "    print('i:', i, 'e:', e)\n",
        "\n",
        "print(e)"
      ],
      "execution_count": 24,
      "outputs": [
        {
          "output_type": "stream",
          "text": [
            "i: 0 e: tf.Tensor([[0.61093915]], shape=(1, 1), dtype=float32)\n",
            "i: 10 e: tf.Tensor([[0.5933649]], shape=(1, 1), dtype=float32)\n",
            "i: 20 e: tf.Tensor([[0.5757996]], shape=(1, 1), dtype=float32)\n",
            "i: 30 e: tf.Tensor([[0.55821174]], shape=(1, 1), dtype=float32)\n",
            "i: 40 e: tf.Tensor([[0.5405758]], shape=(1, 1), dtype=float32)\n",
            "i: 50 e: tf.Tensor([[0.52287245]], shape=(1, 1), dtype=float32)\n",
            "i: 60 e: tf.Tensor([[0.5050893]], shape=(1, 1), dtype=float32)\n",
            "i: 70 e: tf.Tensor([[0.48722073]], shape=(1, 1), dtype=float32)\n",
            "i: 80 e: tf.Tensor([[0.46926913]], shape=(1, 1), dtype=float32)\n",
            "i: 90 e: tf.Tensor([[0.45124483]], shape=(1, 1), dtype=float32)\n",
            "i: 100 e: tf.Tensor([[0.4331654]], shape=(1, 1), dtype=float32)\n",
            "i: 110 e: tf.Tensor([[0.4150557]], shape=(1, 1), dtype=float32)\n",
            "i: 120 e: tf.Tensor([[0.39694837]], shape=(1, 1), dtype=float32)\n",
            "i: 130 e: tf.Tensor([[0.3788822]], shape=(1, 1), dtype=float32)\n",
            "i: 140 e: tf.Tensor([[0.36090145]], shape=(1, 1), dtype=float32)\n",
            "i: 150 e: tf.Tensor([[0.3430547]], shape=(1, 1), dtype=float32)\n",
            "i: 160 e: tf.Tensor([[0.32539475]], shape=(1, 1), dtype=float32)\n",
            "i: 170 e: tf.Tensor([[0.3079756]], shape=(1, 1), dtype=float32)\n",
            "i: 180 e: tf.Tensor([[0.29085258]], shape=(1, 1), dtype=float32)\n",
            "i: 190 e: tf.Tensor([[0.27408063]], shape=(1, 1), dtype=float32)\n",
            "i: 200 e: tf.Tensor([[0.2577123]], shape=(1, 1), dtype=float32)\n",
            "i: 210 e: tf.Tensor([[0.24179737]], shape=(1, 1), dtype=float32)\n",
            "i: 220 e: tf.Tensor([[0.22638153]], shape=(1, 1), dtype=float32)\n",
            "i: 230 e: tf.Tensor([[0.21150485]], shape=(1, 1), dtype=float32)\n",
            "i: 240 e: tf.Tensor([[0.19720304]], shape=(1, 1), dtype=float32)\n",
            "i: 250 e: tf.Tensor([[0.18350376]], shape=(1, 1), dtype=float32)\n",
            "i: 260 e: tf.Tensor([[0.17042863]], shape=(1, 1), dtype=float32)\n",
            "i: 270 e: tf.Tensor([[0.15799332]], shape=(1, 1), dtype=float32)\n",
            "i: 280 e: tf.Tensor([[0.1462069]], shape=(1, 1), dtype=float32)\n",
            "i: 290 e: tf.Tensor([[0.13507217]], shape=(1, 1), dtype=float32)\n",
            "i: 300 e: tf.Tensor([[0.12458592]], shape=(1, 1), dtype=float32)\n",
            "i: 310 e: tf.Tensor([[0.11474039]], shape=(1, 1), dtype=float32)\n",
            "i: 320 e: tf.Tensor([[0.10552206]], shape=(1, 1), dtype=float32)\n",
            "i: 330 e: tf.Tensor([[0.09691427]], shape=(1, 1), dtype=float32)\n",
            "i: 340 e: tf.Tensor([[0.08889706]], shape=(1, 1), dtype=float32)\n",
            "i: 350 e: tf.Tensor([[0.08144774]], shape=(1, 1), dtype=float32)\n",
            "i: 360 e: tf.Tensor([[0.07454122]], shape=(1, 1), dtype=float32)\n",
            "i: 370 e: tf.Tensor([[0.06815133]], shape=(1, 1), dtype=float32)\n",
            "i: 380 e: tf.Tensor([[0.06225105]], shape=(1, 1), dtype=float32)\n",
            "i: 390 e: tf.Tensor([[0.05681244]], shape=(1, 1), dtype=float32)\n",
            "i: 400 e: tf.Tensor([[0.05180755]], shape=(1, 1), dtype=float32)\n",
            "i: 410 e: tf.Tensor([[0.04720902]], shape=(1, 1), dtype=float32)\n",
            "i: 420 e: tf.Tensor([[0.04298992]], shape=(1, 1), dtype=float32)\n",
            "i: 430 e: tf.Tensor([[0.03912374]], shape=(1, 1), dtype=float32)\n",
            "i: 440 e: tf.Tensor([[0.03558527]], shape=(1, 1), dtype=float32)\n",
            "i: 450 e: tf.Tensor([[0.03235017]], shape=(1, 1), dtype=float32)\n",
            "i: 460 e: tf.Tensor([[0.02939536]], shape=(1, 1), dtype=float32)\n",
            "i: 470 e: tf.Tensor([[0.02669904]], shape=(1, 1), dtype=float32)\n",
            "i: 480 e: tf.Tensor([[0.02424067]], shape=(1, 1), dtype=float32)\n",
            "i: 490 e: tf.Tensor([[0.02200089]], shape=(1, 1), dtype=float32)\n",
            "i: 500 e: tf.Tensor([[0.01996174]], shape=(1, 1), dtype=float32)\n",
            "i: 510 e: tf.Tensor([[0.01810629]], shape=(1, 1), dtype=float32)\n",
            "i: 520 e: tf.Tensor([[0.01641899]], shape=(1, 1), dtype=float32)\n",
            "i: 530 e: tf.Tensor([[0.01488548]], shape=(1, 1), dtype=float32)\n",
            "i: 540 e: tf.Tensor([[0.01349222]], shape=(1, 1), dtype=float32)\n",
            "i: 550 e: tf.Tensor([[0.012227]], shape=(1, 1), dtype=float32)\n",
            "i: 560 e: tf.Tensor([[0.01107845]], shape=(1, 1), dtype=float32)\n",
            "i: 570 e: tf.Tensor([[0.01003621]], shape=(1, 1), dtype=float32)\n",
            "i: 580 e: tf.Tensor([[0.00909072]], shape=(1, 1), dtype=float32)\n",
            "i: 590 e: tf.Tensor([[0.00823325]], shape=(1, 1), dtype=float32)\n",
            "i: 600 e: tf.Tensor([[0.00745576]], shape=(1, 1), dtype=float32)\n",
            "i: 610 e: tf.Tensor([[0.00675104]], shape=(1, 1), dtype=float32)\n",
            "i: 620 e: tf.Tensor([[0.00611236]], shape=(1, 1), dtype=float32)\n",
            "i: 630 e: tf.Tensor([[0.00553359]], shape=(1, 1), dtype=float32)\n",
            "i: 640 e: tf.Tensor([[0.0050092]], shape=(1, 1), dtype=float32)\n",
            "i: 650 e: tf.Tensor([[0.00453422]], shape=(1, 1), dtype=float32)\n",
            "i: 660 e: tf.Tensor([[0.00410404]], shape=(1, 1), dtype=float32)\n",
            "i: 670 e: tf.Tensor([[0.00371443]], shape=(1, 1), dtype=float32)\n",
            "i: 680 e: tf.Tensor([[0.00336165]], shape=(1, 1), dtype=float32)\n",
            "i: 690 e: tf.Tensor([[0.0030422]], shape=(1, 1), dtype=float32)\n",
            "i: 700 e: tf.Tensor([[0.00275305]], shape=(1, 1), dtype=float32)\n",
            "i: 710 e: tf.Tensor([[0.00249129]], shape=(1, 1), dtype=float32)\n",
            "i: 720 e: tf.Tensor([[0.00225433]], shape=(1, 1), dtype=float32)\n",
            "i: 730 e: tf.Tensor([[0.00203984]], shape=(1, 1), dtype=float32)\n",
            "i: 740 e: tf.Tensor([[0.00184572]], shape=(1, 1), dtype=float32)\n",
            "i: 750 e: tf.Tensor([[0.00166997]], shape=(1, 1), dtype=float32)\n",
            "i: 760 e: tf.Tensor([[0.00151098]], shape=(1, 1), dtype=float32)\n",
            "i: 770 e: tf.Tensor([[0.00136708]], shape=(1, 1), dtype=float32)\n",
            "i: 780 e: tf.Tensor([[0.00123689]], shape=(1, 1), dtype=float32)\n",
            "i: 790 e: tf.Tensor([[0.00111908]], shape=(1, 1), dtype=float32)\n",
            "i: 800 e: tf.Tensor([[0.00101246]], shape=(1, 1), dtype=float32)\n",
            "i: 810 e: tf.Tensor([[0.00091599]], shape=(1, 1), dtype=float32)\n",
            "i: 820 e: tf.Tensor([[0.00082871]], shape=(1, 1), dtype=float32)\n",
            "i: 830 e: tf.Tensor([[0.00074974]], shape=(1, 1), dtype=float32)\n",
            "i: 840 e: tf.Tensor([[0.00067829]], shape=(1, 1), dtype=float32)\n",
            "i: 850 e: tf.Tensor([[0.00061363]], shape=(1, 1), dtype=float32)\n",
            "i: 860 e: tf.Tensor([[0.00055513]], shape=(1, 1), dtype=float32)\n",
            "i: 870 e: tf.Tensor([[0.00050221]], shape=(1, 1), dtype=float32)\n",
            "i: 880 e: tf.Tensor([[0.00045432]], shape=(1, 1), dtype=float32)\n",
            "i: 890 e: tf.Tensor([[0.000411]], shape=(1, 1), dtype=float32)\n",
            "i: 900 e: tf.Tensor([[0.00037182]], shape=(1, 1), dtype=float32)\n",
            "i: 910 e: tf.Tensor([[0.00033637]], shape=(1, 1), dtype=float32)\n",
            "i: 920 e: tf.Tensor([[0.0003043]], shape=(1, 1), dtype=float32)\n",
            "i: 930 e: tf.Tensor([[0.00027529]], shape=(1, 1), dtype=float32)\n",
            "i: 940 e: tf.Tensor([[0.00024903]], shape=(1, 1), dtype=float32)\n",
            "i: 950 e: tf.Tensor([[0.00022528]], shape=(1, 1), dtype=float32)\n",
            "i: 960 e: tf.Tensor([[0.0002038]], shape=(1, 1), dtype=float32)\n",
            "i: 970 e: tf.Tensor([[0.00018437]], shape=(1, 1), dtype=float32)\n",
            "i: 980 e: tf.Tensor([[0.00016679]], shape=(1, 1), dtype=float32)\n",
            "i: 990 e: tf.Tensor([[0.00015088]], shape=(1, 1), dtype=float32)\n",
            "tf.Tensor([[0.00013787]], shape=(1, 1), dtype=float32)\n"
          ],
          "name": "stdout"
        }
      ]
    },
    {
      "cell_type": "code",
      "metadata": {
        "id": "s75F4WixVRV3",
        "colab_type": "code",
        "colab": {}
      },
      "source": [
        "eValues = tf.reshape(eValues,[1,1000])"
      ],
      "execution_count": 40,
      "outputs": []
    },
    {
      "cell_type": "code",
      "metadata": {
        "id": "Efl8_DiPZivY",
        "colab_type": "code",
        "colab": {}
      },
      "source": [
        "print()"
      ],
      "execution_count": null,
      "outputs": []
    },
    {
      "cell_type": "code",
      "metadata": {
        "id": "rIpqv_RZMc8g",
        "colab_type": "code",
        "colab": {
          "base_uri": "https://localhost:8080/",
          "height": 299
        },
        "outputId": "5828ed3b-8a3a-4006-a125-8d9b0a18dcd7"
      },
      "source": [
        "steps = -1\n",
        "plt.figure(figsize=(7, 4))\n",
        "plt.plot(eValues[:steps])\n",
        "plt.xlabel(\"Iterations\", fontsize=13)\n",
        "plt.ylabel(\"E Values\", fontsize=13)\n",
        "plt.legend(fontsize=13)\n",
        "plt.show()"
      ],
      "execution_count": 25,
      "outputs": [
        {
          "output_type": "stream",
          "text": [
            "No handles with labels found to put in legend.\n"
          ],
          "name": "stderr"
        },
        {
          "output_type": "display_data",
          "data": {
            "image/png": "[encoded data removed]",
            "text/plain": [
              "<Figure size 504x288 with 1 Axes>"
            ]
          },
          "metadata": {
            "tags": [],
            "needs_background": "light"
          }
        }
      ]
    },
    {
      "cell_type": "code",
      "metadata": {
        "id": "o8k7G_0NMhc0",
        "colab_type": "code",
        "colab": {
          "base_uri": "https://localhost:8080/",
          "height": 102
        },
        "outputId": "eac740c5-e0a5-420c-b6ec-083369de6fca"
      },
      "source": [
        "  approximation = state_layer(qnn, symbol_names=params_names, symbol_values=params)\n",
        "  e = states_distance(approximation,target_state)\n",
        "  print('params:', params, params% 2*np.pi, 'e:', e)"
      ],
      "execution_count": 23,
      "outputs": [
        {
          "output_type": "stream",
          "text": [
            "params: tf.Tensor(\n",
            "[[5.8125076 3.082775  5.554178  3.536392  8.038719  1.7454691 3.7011755\n",
            "  0.5023185]], shape=(1, 8), dtype=float32) tf.Tensor(\n",
            "[[5.694161   3.4016385  4.882595   4.826718   0.12163989 5.483553\n",
            "  5.3444004  1.5780802 ]], shape=(1, 8), dtype=float32) e: tf.Tensor([[0.6126985]], shape=(1, 1), dtype=float32)\n"
          ],
          "name": "stdout"
        }
      ]
    }
  ]
}