{
  "nbformat": 4,
  "nbformat_minor": 0,
  "metadata": {
    "kernelspec": {
      "display_name": "Python 3",
      "language": "python",
      "name": "python3"
    },
    "language_info": {
      "codemirror_mode": {
        "name": "ipython",
        "version": 3
      },
      "file_extension": ".py",
      "mimetype": "text/x-python",
      "name": "python",
      "nbconvert_exporter": "python",
      "pygments_lexer": "ipython3",
      "version": "3.7.3"
    },
    "colab": {
      "name": "QNN_Optimization.ipynb",
      "provenance": [],
      "include_colab_link": true
    }
  },
  "cells": [
    {
      "cell_type": "markdown",
      "metadata": {
        "id": "view-in-github",
        "colab_type": "text"
      },
      "source": [
        "<a href=\"https://colab.research.google.com/github/nargesalavi/Quantum-Open-Source-Foundation-Mentorship/blob/master/QNN_Optimization.ipynb\" target=\"_parent\"><img src=\"https://colab.research.google.com/assets/colab-badge.svg\" alt=\"Open In Colab\"/></a>"
      ]
    },
    {
      "cell_type": "code",
      "metadata": {
        "id": "i9yO54UPnnjA",
        "colab_type": "code",
        "colab": {}
      },
      "source": [
        "!pip install tensorflow==2.1.0"
      ],
      "execution_count": null,
      "outputs": []
    },
    {
      "cell_type": "code",
      "metadata": {
        "id": "CW0AfQmbnuln",
        "colab_type": "code",
        "colab": {}
      },
      "source": [
        "!pip install tensorflow-quantum"
      ],
      "execution_count": null,
      "outputs": []
    },
    {
      "cell_type": "code",
      "metadata": {
        "id": "tfFL0mSXnlaT",
        "colab_type": "code",
        "colab": {}
      },
      "source": [
        "import tensorflow as tf\n",
        "import tensorflow_quantum as tfq\n",
        "import cirq\n",
        "import sympy\n",
        "import numpy as np\n",
        "\n",
        "# visualization tools\n",
        "%matplotlib inline\n",
        "import matplotlib.pyplot as plt"
      ],
      "execution_count": 1,
      "outputs": []
    },
    {
      "cell_type": "code",
      "metadata": {
        "id": "QK_gJw9Mnlac",
        "colab_type": "code",
        "colab": {}
      },
      "source": [
        "qubits = cirq.GridQubit.rect(1, 4)"
      ],
      "execution_count": 2,
      "outputs": []
    },
    {
      "cell_type": "code",
      "metadata": {
        "id": "nl8-yRRJnlak",
        "colab_type": "code",
        "colab": {}
      },
      "source": [
        "def generate_even_block(block_number):\n",
        "    \"\"\" Function for generating the even blocks\n",
        "        Arguments:\n",
        "          block_number: Block number, it has to be even.\n",
        "        return: ciq.Circuit \"\"\"\n",
        "    params = sympy.symbols(['theta_{}'.format(n) for n in range((block_number-1)*4,block_number*4)])\n",
        "\n",
        "    # create the parameterized circuit\n",
        "    circuit = cirq.Circuit(\n",
        "        cirq.rz(params[0])(qubits[0]),\n",
        "        cirq.rz(params[1])(qubits[1]),\n",
        "        cirq.rz(params[2])(qubits[2]),\n",
        "        cirq.rz(params[3])(qubits[3]),\n",
        "        cirq.CZ(qubits[0],qubits[1]),\n",
        "        cirq.CZ(qubits[0],qubits[2]),\n",
        "        cirq.CZ(qubits[0],qubits[3]),\n",
        "        cirq.CZ(qubits[1],qubits[2]),\n",
        "        cirq.CZ(qubits[1],qubits[3]),\n",
        "        cirq.CZ(qubits[2],qubits[3])\n",
        "    )\n",
        "    \n",
        "    return circuit"
      ],
      "execution_count": 3,
      "outputs": []
    },
    {
      "cell_type": "code",
      "metadata": {
        "id": "hvfGTPq-nlbk",
        "colab_type": "code",
        "colab": {}
      },
      "source": [
        "def generate_odd_block(block_number):\n",
        "    \"\"\" Function for generating the odd blocks\n",
        "        block_number: Block number, it has to be odd.\n",
        "        return: ciq.Circuit \"\"\"\n",
        "    params = sympy.symbols(['theta_{}'.format(n) for n in range((block_number-1)*4,block_number*4)])\n",
        "\n",
        "    # create the parameterized circuit\n",
        "    circuit = cirq.Circuit(\n",
        "        cirq.rx(params[0])(qubits[0]),\n",
        "        cirq.rx(params[1])(qubits[1]),\n",
        "        cirq.rx(params[2])(qubits[2]),\n",
        "        cirq.rx(params[3])(qubits[3])\n",
        "    )\n",
        "    \n",
        "    return circuit"
      ],
      "execution_count": 4,
      "outputs": []
    },
    {
      "cell_type": "code",
      "metadata": {
        "id": "o6oL_nZJnlb5",
        "colab_type": "code",
        "colab": {}
      },
      "source": [
        "def generate_qnn(l):\n",
        "    \"\"\" Function for generating qnn, containing l number of layers.\n",
        "        Arguments:\n",
        "          l: number of layers, each layer contains one odd and one even block.\n",
        "        return: ciq.Circuit \"\"\"\n",
        "    circuit = cirq.Circuit()\n",
        "    for i in range(1,2*l+1):\n",
        "        if i % 2 == 1:\n",
        "            circuit += generate_odd_block(i)\n",
        "        else:\n",
        "            circuit += generate_even_block(i)\n",
        "        \n",
        "    return circuit"
      ],
      "execution_count": 5,
      "outputs": []
    },
    {
      "cell_type": "code",
      "metadata": {
        "id": "PhEtWuC8nlb8",
        "colab_type": "code",
        "colab": {
          "base_uri": "https://localhost:8080/",
          "height": 170
        },
        "outputId": "865f7edd-78c9-49b5-cfb6-de8cef5c5098"
      },
      "source": [
        "l=1\n",
        "qnn = generate_qnn(l)\n",
        "print(qnn)"
      ],
      "execution_count": 6,
      "outputs": [
        {
          "output_type": "stream",
          "text": [
            "                                               ┌──┐\n",
            "(0, 0): ───Rx(theta_0)───Rz(theta_4)───@───@────@─────────────\n",
            "                                       │   │    │\n",
            "(0, 1): ───Rx(theta_1)───Rz(theta_5)───@───┼────┼@────@───────\n",
            "                                           │    ││    │\n",
            "(0, 2): ───Rx(theta_2)───Rz(theta_6)───────@────┼@────┼───@───\n",
            "                                                │     │   │\n",
            "(0, 3): ───Rx(theta_3)───Rz(theta_7)────────────@─────@───@───\n",
            "                                               └──┘\n"
          ],
          "name": "stdout"
        }
      ]
    },
    {
      "cell_type": "code",
      "metadata": {
        "id": "wVqt1tdrnlb-",
        "colab_type": "code",
        "colab": {
          "base_uri": "https://localhost:8080/",
          "height": 68
        },
        "outputId": "eb8eb72f-6ed3-4fcd-ee99-334631b12966"
      },
      "source": [
        "params = tf.random.uniform(shape = (1,8*l), minval=0, maxval=2*np.pi) #tf.zeros([1,8*l ], tf.float32)\n",
        "print(params)\n",
        "params_names = sympy.symbols(['theta_{}'.format(n) for n in range(8*l)])"
      ],
      "execution_count": 8,
      "outputs": [
        {
          "output_type": "stream",
          "text": [
            "tf.Tensor(\n",
            "[[5.5629334  1.2697976  2.3679862  2.277476   4.2595606  3.5060966\n",
            "  3.0854158  0.30500978]], shape=(1, 8), dtype=float32)\n"
          ],
          "name": "stdout"
        }
      ]
    },
    {
      "cell_type": "code",
      "metadata": {
        "id": "_iYE0IgLnlcB",
        "colab_type": "code",
        "colab": {
          "base_uri": "https://localhost:8080/",
          "height": 258
        },
        "outputId": "7c4e4dca-682f-4f0c-88dd-7a3b7e453b39"
      },
      "source": [
        "state_layer = tfq.layers.State()\n",
        "state = state_layer(qnn, symbol_names=params_names, symbol_values=params)\n",
        "print(qnn)\n",
        "print(state)"
      ],
      "execution_count": 9,
      "outputs": [
        {
          "output_type": "stream",
          "text": [
            "WARNING:tensorflow:From /usr/local/lib/python3.6/dist-packages/tensorflow_core/python/util/deprecation.py:507: calling count_nonzero (from tensorflow.python.ops.math_ops) with axis is deprecated and will be removed in a future version.\n",
            "Instructions for updating:\n",
            "reduction_indices is deprecated, use axis instead\n",
            "                                               ┌──┐\n",
            "(0, 0): ───Rx(theta_0)───Rz(theta_4)───@───@────@─────────────\n",
            "                                       │   │    │\n",
            "(0, 1): ───Rx(theta_1)───Rz(theta_5)───@───┼────┼@────@───────\n",
            "                                           │    ││    │\n",
            "(0, 2): ───Rx(theta_2)───Rz(theta_6)───────@────┼@────┼───@───\n",
            "                                                │     │   │\n",
            "(0, 3): ───Rx(theta_3)───Rz(theta_7)────────────@─────@───@───\n",
            "                                               └──┘\n",
            "<tf.RaggedTensor [[(-0.09063707292079926-0.07714303582906723j), (-0.21860286593437195+0.13724873960018158j), (0.17659775912761688-0.23280172049999237j), (0.3665548264980316+0.5169164538383484j), (0.07689511030912399-0.0421227291226387j), (0.037055253982543945+0.1864948719739914j), (-0.11385004222393036-0.18267755210399628j), (-0.45202505588531494+0.11653640121221542j), (-0.04339810460805893-0.01118846982717514j), (0.05140721797943115-0.0824851393699646j), (-0.021442780271172523+0.10791892558336258j), (0.20927229523658752+0.11463834345340729j), (-0.01909692957997322+0.026930512860417366j), (0.04327048361301422+0.05704178661108017j), (-0.06864399462938309-0.0430978387594223j), (0.13385523855686188-0.1139267086982727j)]]>\n"
          ],
          "name": "stdout"
        }
      ]
    },
    {
      "cell_type": "code",
      "metadata": {
        "id": "YdriDgEinlcD",
        "colab_type": "code",
        "colab": {
          "base_uri": "https://localhost:8080/",
          "height": 207
        },
        "outputId": "e5dc8152-b32a-4663-a220-e815ddfcd2b9"
      },
      "source": [
        "random_circuit = cirq.testing.random_circuit(qubits = qubits,n_moments = np.random.randint(low=1,high=5),\\\n",
        "                                                                op_density = 0.99999999)\n",
        "print(random_circuit)\n",
        "target_state = tfq.layers.State()(random_circuit)\n",
        "print(target_state)"
      ],
      "execution_count": 10,
      "outputs": [
        {
          "output_type": "stream",
          "text": [
            "           ┌──────┐   ┌──┐\n",
            "(0, 0): ────iSwap──────@─────H───\n",
            "            │          │\n",
            "(0, 1): ────┼────@─────┼─────S───\n",
            "            │    │     │\n",
            "(0, 2): ────┼────X─────┼Z────S───\n",
            "            │          │\n",
            "(0, 3): ────iSwap──────@─────────\n",
            "           └──────┘   └──┘\n",
            "<tf.RaggedTensor [[(0.7071067690849304-1.2802768623032534e-08j), 0j, 0j, 0j, 0j, 0j, 0j, 0j, (0.7071067690849304+3.0908619663705394e-08j), 0j, 0j, 0j, 0j, 0j, 0j, 0j]]>\n"
          ],
          "name": "stdout"
        }
      ]
    },
    {
      "cell_type": "code",
      "metadata": {
        "id": "scCdJfzMBfwo",
        "colab_type": "code",
        "colab": {}
      },
      "source": [
        "def states_distance(state,target):\n",
        "  diff = state[0] - target[0]\n",
        "  diff = tf.reshape(diff, [16, 1])\n",
        "  conjugate_transposed_state = tf.transpose(diff,conjugate=True)\n",
        "  distance = tf.tensordot(conjugate_transposed_state, diff, axes = 1)\n",
        "  #print('distance:' , distance, 'state:', state)\n",
        "  return tf.dtypes.cast(distance, tf.float32)"
      ],
      "execution_count": 11,
      "outputs": []
    },
    {
      "cell_type": "code",
      "metadata": {
        "id": "L-AfQW-ICZOc",
        "colab_type": "code",
        "colab": {
          "base_uri": "https://localhost:8080/",
          "height": 34
        },
        "outputId": "821bab32-5985-4bb4-9975-770b5521a91c"
      },
      "source": [
        "a = states_distance(state,target_state)\n",
        "print(a)"
      ],
      "execution_count": 12,
      "outputs": [
        {
          "output_type": "stream",
          "text": [
            "tf.Tensor([[2.1895542]], shape=(1, 1), dtype=float32)\n"
          ],
          "name": "stdout"
        }
      ]
    },
    {
      "cell_type": "code",
      "metadata": {
        "id": "HcIf9kRVCv3z",
        "colab_type": "code",
        "colab": {}
      },
      "source": [
        "# gradient(theta[i]) = function(theta)\n",
        "def custom_gradient(params, target_state, parameter_shift = True, h = np.pi/2):\n",
        "  \"\"\" This function calculates the gradients of the quantum circuit's parameters \n",
        "      using two methods: Parameter shift rules or Numerical differentiation.\n",
        "      In numerical differentiation method, for Pauli gates the shift value is pi/2 and the ratio is 1/2. \n",
        "      Arguments:\n",
        "        params: circuit's parameters, of which the gradient is calculated.\n",
        "        target_state: The target state, which the quantum NN trys to approximate.\n",
        "        parameter_shift: Determine which method is used to calculate the gradients. \n",
        "                         When it is True, the function uses parameter shift otherwise it uses numerical differentiation.\n",
        "        h: The shift value for parameter. When parameter shift method is used, it is pi/2.\"\"\"\n",
        "  param_length = len(params[0])\n",
        "  grad = [None]*param_length\n",
        "  if parameter_shift : \n",
        "    r = 1/2\n",
        "    h = np.pi/2\n",
        "  else:\n",
        "    r = 1/(2*h)\n",
        "  for i in range(param_length):\n",
        "    \n",
        "    params_plus_h = tf.convert_to_tensor([np.concatenate((params[0][0:i],[params[0][i]+h],params[0][i+1:]))])\n",
        "    params_minus_h = tf.convert_to_tensor([np.concatenate((params[0][0:i],[params[0][i]-h],params[0][i+1:]))])\n",
        "    state_plus_h = state_layer(qnn, symbol_names=params_names, symbol_values=params_plus_h)\n",
        "    state_minus_h = state_layer(qnn, symbol_names=params_names, symbol_values=params_minus_h)\n",
        "    #print('i', i, 'state_plus_h:', state_plus_h, 'state_minus_h:', state_minus_h) \n",
        "    grad[i] = r*(states_distance(state_plus_h,target_state)-states_distance(state_minus_h,target_state))\n",
        "\n",
        "  return grad"
      ],
      "execution_count": 13,
      "outputs": []
    },
    {
      "cell_type": "code",
      "metadata": {
        "id": "AcJOL6VvMNa_",
        "colab_type": "code",
        "colab": {}
      },
      "source": [
        "def update_params(params, gradients, learning_rate):\n",
        "  gradients = tf.reshape(gradients,[1,8])\n",
        "  params -= learning_rate*gradients\n",
        "  params = params % (2*np.pi)\n",
        "  return params\n"
      ],
      "execution_count": 75,
      "outputs": []
    },
    {
      "cell_type": "code",
      "metadata": {
        "id": "a7o1WnqMeUMq",
        "colab_type": "code",
        "colab": {
          "base_uri": "https://localhost:8080/",
          "height": 68
        },
        "outputId": "57b8c3b6-1785-4c19-f80f-94bf4ad0cfb9"
      },
      "source": [
        "print(params)\n",
        "params_grads = custom_gradient(params, target_state)"
      ],
      "execution_count": 71,
      "outputs": [
        {
          "output_type": "stream",
          "text": [
            "tf.Tensor(\n",
            "[[3.486247   6.187014   4.490873   4.0299993  5.8754673  2.493145\n",
            "  5.2590923  0.25225595]], shape=(1, 8), dtype=float32)\n"
          ],
          "name": "stdout"
        }
      ]
    },
    {
      "cell_type": "code",
      "metadata": {
        "id": "PsFtpyjUQXhy",
        "colab_type": "code",
        "colab": {
          "base_uri": "https://localhost:8080/",
          "height": 258
        },
        "outputId": "e54c73fa-ea4f-4a44-c296-b69d0ef43f5b"
      },
      "source": [
        "update_params(params, params_grads,0.01)"
      ],
      "execution_count": 74,
      "outputs": [
        {
          "output_type": "stream",
          "text": [
            "1: [<tf.Tensor: shape=(1, 1), dtype=float32, numpy=array([[0.03152907]], dtype=float32)>, <tf.Tensor: shape=(1, 1), dtype=float32, numpy=array([[-0.00871736]], dtype=float32)>, <tf.Tensor: shape=(1, 1), dtype=float32, numpy=array([[-0.22647953]], dtype=float32)>, <tf.Tensor: shape=(1, 1), dtype=float32, numpy=array([[-0.38061833]], dtype=float32)>, <tf.Tensor: shape=(1, 1), dtype=float32, numpy=array([[-0.32669002]], dtype=float32)>, <tf.Tensor: shape=(1, 1), dtype=float32, numpy=array([[0.32669002]], dtype=float32)>, <tf.Tensor: shape=(1, 1), dtype=float32, numpy=array([[0.32669002]], dtype=float32)>, <tf.Tensor: shape=(1, 1), dtype=float32, numpy=array([[0.3266899]], dtype=float32)>]\n",
            "2: tf.Tensor(\n",
            "[[ 0.03152907 -0.00871736 -0.22647953 -0.38061833 -0.32669002  0.32669002\n",
            "   0.32669002  0.3266899 ]], shape=(1, 8), dtype=float32)\n",
            "3: tf.Tensor(\n",
            "[[3.486247   6.187014   4.490873   4.0299993  5.8754673  2.493145\n",
            "  5.2590923  0.25225595]], shape=(1, 8), dtype=float32)\n",
            "4: tf.Tensor(\n",
            "[[3.4859319  6.1871014  4.493138   4.0338054  5.878734   2.4898782\n",
            "  5.2558255  0.24898905]], shape=(1, 8), dtype=float32)\n"
          ],
          "name": "stdout"
        },
        {
          "output_type": "execute_result",
          "data": {
            "text/plain": [
              "<tf.Tensor: shape=(1, 8), dtype=float32, numpy=\n",
              "array([[3.4859319 , 6.1871014 , 4.493138  , 4.0338054 , 5.878734  ,\n",
              "        2.4898782 , 5.2558255 , 0.24898905]], dtype=float32)>"
            ]
          },
          "metadata": {
            "tags": []
          },
          "execution_count": 74
        }
      ]
    },
    {
      "cell_type": "code",
      "metadata": {
        "id": "YIguzyHM5Cc8",
        "colab_type": "code",
        "colab": {}
      },
      "source": [
        "#for i in range (1,10):\n",
        "for i in range(100):\n",
        "  custom_gradient(params, target_state)\n",
        "  params = update_params(params, params_grads,0.01)"
      ],
      "execution_count": 76,
      "outputs": []
    },
    {
      "cell_type": "code",
      "metadata": {
        "id": "rIpqv_RZMc8g",
        "colab_type": "code",
        "colab": {}
      },
      "source": [
        "state = state_layer(qnn, symbol_names=params_names, symbol_values=params)"
      ],
      "execution_count": 77,
      "outputs": []
    },
    {
      "cell_type": "code",
      "metadata": {
        "id": "o8k7G_0NMhc0",
        "colab_type": "code",
        "colab": {
          "base_uri": "https://localhost:8080/",
          "height": 181
        },
        "outputId": "3e4d2b6e-543e-42ac-827b-f08c924039ba"
      },
      "source": [
        ""
      ],
      "execution_count": 27,
      "outputs": [
        {
          "output_type": "error",
          "ename": "AttributeError",
          "evalue": "ignored",
          "traceback": [
            "\u001b[0;31m---------------------------------------------------------------------------\u001b[0m",
            "\u001b[0;31mAttributeError\u001b[0m                            Traceback (most recent call last)",
            "\u001b[0;32m<ipython-input-27-fb3a2d1b5d97>\u001b[0m in \u001b[0;36m<module>\u001b[0;34m()\u001b[0m\n\u001b[0;32m----> 1\u001b[0;31m \u001b[0;32mfor\u001b[0m \u001b[0mx\u001b[0m\u001b[0;34m,\u001b[0m \u001b[0my\u001b[0m \u001b[0;32min\u001b[0m \u001b[0mparams\u001b[0m\u001b[0;34m.\u001b[0m\u001b[0mitems\u001b[0m\u001b[0;34m(\u001b[0m\u001b[0;34m)\u001b[0m\u001b[0;34m:\u001b[0m\u001b[0;34m\u001b[0m\u001b[0;34m\u001b[0m\u001b[0m\n\u001b[0m\u001b[1;32m      2\u001b[0m   \u001b[0mprint\u001b[0m\u001b[0;34m(\u001b[0m\u001b[0mx\u001b[0m\u001b[0;34m,\u001b[0m\u001b[0my\u001b[0m\u001b[0;34m)\u001b[0m\u001b[0;34m\u001b[0m\u001b[0;34m\u001b[0m\u001b[0m\n",
            "\u001b[0;31mAttributeError\u001b[0m: 'tensorflow.python.framework.ops.EagerTensor' object has no attribute 'items'"
          ]
        }
      ]
    }
  ]
}