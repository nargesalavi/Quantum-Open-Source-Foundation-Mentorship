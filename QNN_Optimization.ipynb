{
  "nbformat": 4,
  "nbformat_minor": 0,
  "metadata": {
    "kernelspec": {
      "display_name": "Python 3",
      "language": "python",
      "name": "python3"
    },
    "language_info": {
      "codemirror_mode": {
        "name": "ipython",
        "version": 3
      },
      "file_extension": ".py",
      "mimetype": "text/x-python",
      "name": "python",
      "nbconvert_exporter": "python",
      "pygments_lexer": "ipython3",
      "version": "3.7.3"
    },
    "colab": {
      "name": "QNN_Optimization.ipynb",
      "provenance": [],
      "include_colab_link": true
    }
  },
  "cells": [
    {
      "cell_type": "markdown",
      "metadata": {
        "id": "view-in-github",
        "colab_type": "text"
      },
      "source": [
        "<a href=\"https://colab.research.google.com/github/nargesalavi/Quantum-Open-Source-Foundation-Mentorship/blob/master/QNN_Optimization.ipynb\" target=\"_parent\"><img src=\"https://colab.research.google.com/assets/colab-badge.svg\" alt=\"Open In Colab\"/></a>"
      ]
    },
    {
      "cell_type": "markdown",
      "metadata": {
        "id": "j3J9uo-j_lkR",
        "colab_type": "text"
      },
      "source": [
        "### Task 1: Quantum Neural Network for State Approximation\n"
      ]
    },
    {
      "cell_type": "code",
      "metadata": {
        "id": "i9yO54UPnnjA",
        "colab_type": "code",
        "colab": {}
      },
      "source": [
        "!pip install tensorflow==2.1.0"
      ],
      "execution_count": null,
      "outputs": []
    },
    {
      "cell_type": "code",
      "metadata": {
        "id": "CW0AfQmbnuln",
        "colab_type": "code",
        "colab": {}
      },
      "source": [
        "!pip install tensorflow-quantum"
      ],
      "execution_count": null,
      "outputs": []
    },
    {
      "cell_type": "code",
      "metadata": {
        "id": "tfFL0mSXnlaT",
        "colab_type": "code",
        "colab": {}
      },
      "source": [
        "import tensorflow as tf\n",
        "import tensorflow_quantum as tfq\n",
        "import cirq\n",
        "import sympy\n",
        "import numpy as np\n",
        "\n",
        "# visualization tools\n",
        "%matplotlib inline\n",
        "import matplotlib.pyplot as plt"
      ],
      "execution_count": 1,
      "outputs": []
    },
    {
      "cell_type": "code",
      "metadata": {
        "id": "Yg8E22-X44Em",
        "colab_type": "code",
        "colab": {
          "base_uri": "https://localhost:8080/",
          "height": 34
        },
        "outputId": "4c74ec14-c4ae-4484-eb89-25339db727fd"
      },
      "source": [
        "from google.colab import drive\n",
        "drive.mount('/content/gdrive')"
      ],
      "execution_count": 2,
      "outputs": [
        {
          "output_type": "stream",
          "text": [
            "Mounted at /content/gdrive\n"
          ],
          "name": "stdout"
        }
      ]
    },
    {
      "cell_type": "code",
      "metadata": {
        "id": "iZasbSNq5E6C",
        "colab_type": "code",
        "colab": {}
      },
      "source": [
        "!ln -s \"/content/gdrive/My Drive\" \"/content/mydrive\""
      ],
      "execution_count": 3,
      "outputs": []
    },
    {
      "cell_type": "code",
      "metadata": {
        "id": "QK_gJw9Mnlac",
        "colab_type": "code",
        "colab": {}
      },
      "source": [
        "qubits = cirq.GridQubit.rect(1, 4)"
      ],
      "execution_count": 4,
      "outputs": []
    },
    {
      "cell_type": "code",
      "metadata": {
        "id": "nl8-yRRJnlak",
        "colab_type": "code",
        "colab": {}
      },
      "source": [
        "def generate_even_block(block_number):\n",
        "    \"\"\" Function for generating the even blocks\n",
        "        Arguments:\n",
        "          block_number: Block number, it has to be even.\n",
        "        return: ciq.Circuit \"\"\"\n",
        "    params = sympy.symbols(['theta_{}'.format(n) for n in range((block_number-1)*4,block_number*4)])\n",
        "\n",
        "    # create the parameterized circuit\n",
        "    circuit = cirq.Circuit(\n",
        "        cirq.rz(params[0])(qubits[0]),\n",
        "        cirq.rz(params[1])(qubits[1]),\n",
        "        cirq.rz(params[2])(qubits[2]),\n",
        "        cirq.rz(params[3])(qubits[3]),\n",
        "        cirq.CZ(qubits[0],qubits[1]),\n",
        "        cirq.CZ(qubits[0],qubits[2]),\n",
        "        cirq.CZ(qubits[0],qubits[3]),\n",
        "        cirq.CZ(qubits[1],qubits[2]),\n",
        "        cirq.CZ(qubits[1],qubits[3]),\n",
        "        cirq.CZ(qubits[2],qubits[3])\n",
        "    )\n",
        "    \n",
        "    return circuit"
      ],
      "execution_count": 5,
      "outputs": []
    },
    {
      "cell_type": "code",
      "metadata": {
        "id": "hvfGTPq-nlbk",
        "colab_type": "code",
        "colab": {}
      },
      "source": [
        "def generate_odd_block(block_number):\n",
        "    \"\"\" Function for generating the odd blocks\n",
        "        block_number: Block number, it has to be odd.\n",
        "        return: ciq.Circuit \"\"\"\n",
        "    params = sympy.symbols(['theta_{}'.format(n) for n in range((block_number-1)*4,block_number*4)])\n",
        "\n",
        "    # create the parameterized circuit\n",
        "    circuit = cirq.Circuit(\n",
        "        cirq.rx(params[0])(qubits[0]),\n",
        "        cirq.rx(params[1])(qubits[1]),\n",
        "        cirq.rx(params[2])(qubits[2]),\n",
        "        cirq.rx(params[3])(qubits[3])\n",
        "    )\n",
        "    \n",
        "    return circuit"
      ],
      "execution_count": 6,
      "outputs": []
    },
    {
      "cell_type": "code",
      "metadata": {
        "id": "o6oL_nZJnlb5",
        "colab_type": "code",
        "colab": {}
      },
      "source": [
        "def generate_qnn(l):\n",
        "    \"\"\" Function for generating qnn, containing l number of layers.\n",
        "        Arguments:\n",
        "          l: number of layers, each layer contains one odd and one even block.\n",
        "        return: ciq.Circuit \"\"\"\n",
        "    circuit = cirq.Circuit()\n",
        "    for i in range(1,2*l+1):\n",
        "        if i % 2 == 1:\n",
        "            circuit += generate_odd_block(i)\n",
        "        else:\n",
        "            circuit += generate_even_block(i)\n",
        "        \n",
        "    return circuit"
      ],
      "execution_count": 7,
      "outputs": []
    },
    {
      "cell_type": "code",
      "metadata": {
        "id": "PhEtWuC8nlb8",
        "colab_type": "code",
        "colab": {
          "base_uri": "https://localhost:8080/",
          "height": 170
        },
        "outputId": "59e4bfbf-3b73-403a-fecc-7ae3b98f6100"
      },
      "source": [
        "l=1\n",
        "qnn = generate_qnn(l)\n",
        "print(qnn)"
      ],
      "execution_count": 8,
      "outputs": [
        {
          "output_type": "stream",
          "text": [
            "                                               ┌──┐\n",
            "(0, 0): ───Rx(theta_0)───Rz(theta_4)───@───@────@─────────────\n",
            "                                       │   │    │\n",
            "(0, 1): ───Rx(theta_1)───Rz(theta_5)───@───┼────┼@────@───────\n",
            "                                           │    ││    │\n",
            "(0, 2): ───Rx(theta_2)───Rz(theta_6)───────@────┼@────┼───@───\n",
            "                                                │     │   │\n",
            "(0, 3): ───Rx(theta_3)───Rz(theta_7)────────────@─────@───@───\n",
            "                                               └──┘\n"
          ],
          "name": "stdout"
        }
      ]
    },
    {
      "cell_type": "code",
      "metadata": {
        "id": "wVqt1tdrnlb-",
        "colab_type": "code",
        "colab": {
          "base_uri": "https://localhost:8080/",
          "height": 68
        },
        "outputId": "caf0cd73-3fc4-472b-a060-44ff6c7824b5"
      },
      "source": [
        "params = tf.random.uniform(shape = (1,8*l), minval=0, maxval=2*np.pi) #tf.zeros([1,8*l ], tf.float32)\n",
        "print(params)\n",
        "params_names = sympy.symbols(['theta_{}'.format(n) for n in range(8*l)])"
      ],
      "execution_count": 9,
      "outputs": [
        {
          "output_type": "stream",
          "text": [
            "tf.Tensor(\n",
            "[[0.8488936  0.01440429 4.5239477  4.2941794  2.438894   0.19482155\n",
            "  5.517225   1.287356  ]], shape=(1, 8), dtype=float32)\n"
          ],
          "name": "stdout"
        }
      ]
    },
    {
      "cell_type": "code",
      "metadata": {
        "id": "_iYE0IgLnlcB",
        "colab_type": "code",
        "colab": {
          "base_uri": "https://localhost:8080/",
          "height": 258
        },
        "outputId": "8d0c1640-62bb-4a69-e970-2a06194e11d0"
      },
      "source": [
        "state_layer = tfq.layers.State()\n",
        "state = state_layer(qnn, symbol_names=params_names, symbol_values=params)\n",
        "print(qnn)\n",
        "print(state)"
      ],
      "execution_count": 10,
      "outputs": [
        {
          "output_type": "stream",
          "text": [
            "WARNING:tensorflow:From /usr/local/lib/python3.6/dist-packages/tensorflow_core/python/util/deprecation.py:507: calling count_nonzero (from tensorflow.python.ops.math_ops) with axis is deprecated and will be removed in a future version.\n",
            "Instructions for updating:\n",
            "reduction_indices is deprecated, use axis instead\n",
            "                                               ┌──┐\n",
            "(0, 0): ───Rx(theta_0)───Rz(theta_4)───@───@────@─────────────\n",
            "                                       │   │    │\n",
            "(0, 1): ───Rx(theta_1)───Rz(theta_5)───@───┼────┼@────@───────\n",
            "                                           │    ││    │\n",
            "(0, 2): ───Rx(theta_2)───Rz(theta_6)───────@────┼@────┼───@───\n",
            "                                                │     │   │\n",
            "(0, 3): ───Rx(theta_3)───Rz(theta_7)────────────@─────@───@───\n",
            "                                               └──┘\n",
            "<tf.RaggedTensor [[(0.002139464020729065+0.3165188431739807j), (-0.1393662542104721-0.46668529510498047j), (-0.27394235134124756+0.2670826017856598j), (-0.2897740602493286+0.5124556422233582j), (0.00223951181396842+0.0004261998110450804j), (0.0034919241443276405-0.0003340726834721863j), (-0.001505257561802864-0.002308071358129382j), (0.0032169946935027838+0.0027620585169643164j), (-0.1085292249917984+0.09318170696496964j), (-0.12023629993200302+0.1843637377023697j), (0.17211440205574036+0.016465909779071808j), (-0.2613571584224701+0.04973910003900528j), (-0.0005071032210253179-0.0008967916946858168j), (0.0011350744171068072+0.0011066478909924626j), (0.00035632518120110035-0.0011932059423997998j), (1.2949145457241684e-05-0.0019161058589816093j)]]>\n"
          ],
          "name": "stdout"
        }
      ]
    },
    {
      "cell_type": "code",
      "metadata": {
        "id": "YdriDgEinlcD",
        "colab_type": "code",
        "colab": {
          "base_uri": "https://localhost:8080/",
          "height": 207
        },
        "outputId": "ff940812-aea0-413b-f3b7-5165c1373570"
      },
      "source": [
        "random_circuit = cirq.testing.random_circuit(qubits = qubits,n_moments = np.random.randint(low=1,high=5),\\\n",
        "                                                                op_density = 0.99999999)\n",
        "print(random_circuit)\n",
        "target_state = tfq.layers.State()(random_circuit)\n",
        "print(target_state)"
      ],
      "execution_count": 11,
      "outputs": [
        {
          "output_type": "stream",
          "text": [
            "                   ┌──┐\n",
            "(0, 0): ───X───×────Z─────iSwap───\n",
            "               │          │\n",
            "(0, 1): ───@───┼─────@────iSwap───\n",
            "           │   │     │\n",
            "(0, 2): ───@───×────Y┼────X───────\n",
            "                     │\n",
            "(0, 3): ───────H─────X────────────\n",
            "                   └──┘\n",
            "<tf.RaggedTensor [[(3.3035794779146194e-15-3.0908619663705394e-08j), (5.2142649430793244e-15-3.0908619663705394e-08j), (1.1083170647907536e-07-0.7071067690849304j), (1.5454310187124065e-07-0.7071067690849304j), (6.195666538404837e-15-3.0908619663705394e-08j), (8.106351791811305e-15-3.0908619663705394e-08j), (-1.351058949605906e-15+1.3510583143311957e-15j), (-1.3510590554850245e-15+1.3510582084520772e-15j), (1.3510586319685509e-15+2.7082117417700954e-22j), (1.3510586319685509e-15+3.5433988507490094e-22j), (-5.905663278707993e-23-5.905666434151613e-23j), (-5.905663278707993e-23-5.905666434151613e-23j), 0j, 0j, 0j, 0j]]>\n"
          ],
          "name": "stdout"
        }
      ]
    },
    {
      "cell_type": "code",
      "metadata": {
        "id": "scCdJfzMBfwo",
        "colab_type": "code",
        "colab": {}
      },
      "source": [
        "def states_distance(state,target):\n",
        "  diff = state[0] - target[0]\n",
        "  diff = tf.reshape(diff, [16, 1])\n",
        "  conjugate_transposed_state = tf.transpose(diff,conjugate=True)\n",
        "  distance = tf.tensordot(conjugate_transposed_state, diff, axes = 1)\n",
        "  #print('distance:' , distance, 'state:', state)\n",
        "  return tf.dtypes.cast(distance, tf.float32)"
      ],
      "execution_count": 12,
      "outputs": []
    },
    {
      "cell_type": "code",
      "metadata": {
        "id": "HcIf9kRVCv3z",
        "colab_type": "code",
        "colab": {}
      },
      "source": [
        "# gradient(theta[i]) = function(theta)\n",
        "def custom_gradient(params, target_state, parameter_shift = True, h = np.pi/2):\n",
        "  \"\"\" This function calculates the gradients of the quantum circuit's parameters \n",
        "      using two methods: Parameter shift rules or Numerical differentiation.\n",
        "      In numerical differentiation method, for Pauli gates the shift value is pi/2 and the ratio is 1/2. \n",
        "      Arguments:\n",
        "        params: circuit's parameters, of which the gradient is calculated.\n",
        "        target_state: The target state, which the quantum NN trys to approximate.\n",
        "        parameter_shift: Determine which method is used to calculate the gradients. \n",
        "                         When it is True, the function uses parameter shift otherwise it uses numerical differentiation.\n",
        "        h: The shift value for parameter. When parameter shift method is used, it is pi/2.\"\"\"\n",
        "  param_length = len(params[0])\n",
        "  grad = [None]*param_length\n",
        "  if parameter_shift : \n",
        "    r = 1/2\n",
        "    h = np.pi/2\n",
        "  else:\n",
        "    r = 1/(2*h)\n",
        "  for i in range(param_length):\n",
        "    \n",
        "    params_plus_h = tf.convert_to_tensor([np.concatenate((params[0][0:i],[params[0][i]+h],params[0][i+1:]))])\n",
        "    params_minus_h = tf.convert_to_tensor([np.concatenate((params[0][0:i],[params[0][i]-h],params[0][i+1:]))])\n",
        "    state_plus_h = state_layer(qnn, symbol_names=params_names, symbol_values=params_plus_h)\n",
        "    state_minus_h = state_layer(qnn, symbol_names=params_names, symbol_values=params_minus_h)\n",
        "    #print('i', i, 'state_plus_h:', state_plus_h, 'state_minus_h:', state_minus_h) \n",
        "    grad[i] = r*(states_distance(state_plus_h,target_state)-states_distance(state_minus_h,target_state))\n",
        "\n",
        "  return grad"
      ],
      "execution_count": 13,
      "outputs": []
    },
    {
      "cell_type": "code",
      "metadata": {
        "id": "AcJOL6VvMNa_",
        "colab_type": "code",
        "colab": {}
      },
      "source": [
        "def update_params(params, gradients, learning_rate):\n",
        "  gradients = tf.reshape(gradients,[1,len(params[0])])\n",
        "  params -= learning_rate*gradients\n",
        "  #params = params % (2*np.pi)\n",
        "  return params\n"
      ],
      "execution_count": 14,
      "outputs": []
    },
    {
      "cell_type": "code",
      "metadata": {
        "id": "H7jZuIBVWWdn",
        "colab_type": "code",
        "colab": {}
      },
      "source": [
        "L = 10\n",
        "learning_rate = 0.01\n",
        "number_of_iteration = 1000"
      ],
      "execution_count": 15,
      "outputs": []
    },
    {
      "cell_type": "code",
      "metadata": {
        "id": "YIguzyHM5Cc8",
        "colab_type": "code",
        "colab": {
          "base_uri": "https://localhost:8080/",
          "height": 1000
        },
        "outputId": "c4b471d5-d47c-4e05-dd5d-253d62910e94"
      },
      "source": [
        "#for i in range (1,10):\n",
        "list_of_e =[]\n",
        "for l in range(1,L+1):\n",
        "  print('***** l:', l)\n",
        "  qnn = generate_qnn(l)\n",
        "  params = tf.random.uniform(shape = (1,8*l), minval=0, maxval=2*np.pi) #tf.zeros([1,8*l ], tf.float32)\n",
        "  params_names = sympy.symbols(['theta_{}'.format(n) for n in range(8*l)])\n",
        "  eValues = []\n",
        "  for i in range(number_of_iteration):\n",
        "    params_grads = custom_gradient(params, target_state,parameter_shift = False, h = np.pi/320)\n",
        "    params = update_params(params, params_grads,learning_rate)\n",
        "\n",
        "    approximation = state_layer(qnn, symbol_names=params_names, symbol_values=params)\n",
        "    e = states_distance(approximation,target_state)\n",
        "    eValues.append(e[0][0])\n",
        "\n",
        "    if i % 80 == 0:\n",
        "      print('i:', i, 'e:', e)\n",
        "  path = '/content/mydrive/layer_{}'.format(l)\n",
        "  np.savetxt(path, eValues, delimiter=',')\n",
        "  list_of_e.append(eValues)\n",
        "print(e)"
      ],
      "execution_count": 16,
      "outputs": [
        {
          "output_type": "stream",
          "text": [
            "***** l: 1\n",
            "i: 0 e: tf.Tensor([[1.8940599]], shape=(1, 1), dtype=float32)\n",
            "i: 80 e: tf.Tensor([[1.8389353]], shape=(1, 1), dtype=float32)\n",
            "i: 160 e: tf.Tensor([[1.7497419]], shape=(1, 1), dtype=float32)\n",
            "i: 240 e: tf.Tensor([[1.6071982]], shape=(1, 1), dtype=float32)\n",
            "i: 320 e: tf.Tensor([[1.3919888]], shape=(1, 1), dtype=float32)\n",
            "i: 400 e: tf.Tensor([[1.1029985]], shape=(1, 1), dtype=float32)\n",
            "i: 480 e: tf.Tensor([[0.7775721]], shape=(1, 1), dtype=float32)\n",
            "i: 560 e: tf.Tensor([[0.4810985]], shape=(1, 1), dtype=float32)\n",
            "i: 640 e: tf.Tensor([[0.26375493]], shape=(1, 1), dtype=float32)\n",
            "i: 720 e: tf.Tensor([[0.13207199]], shape=(1, 1), dtype=float32)\n",
            "i: 800 e: tf.Tensor([[0.06256713]], shape=(1, 1), dtype=float32)\n",
            "i: 880 e: tf.Tensor([[0.02878763]], shape=(1, 1), dtype=float32)\n",
            "i: 960 e: tf.Tensor([[0.0130609]], shape=(1, 1), dtype=float32)\n",
            "***** l: 2\n",
            "i: 0 e: tf.Tensor([[2.4219816]], shape=(1, 1), dtype=float32)\n",
            "i: 80 e: tf.Tensor([[1.8059202]], shape=(1, 1), dtype=float32)\n",
            "i: 160 e: tf.Tensor([[1.2686653]], shape=(1, 1), dtype=float32)\n",
            "i: 240 e: tf.Tensor([[0.816753]], shape=(1, 1), dtype=float32)\n",
            "i: 320 e: tf.Tensor([[0.514871]], shape=(1, 1), dtype=float32)\n",
            "i: 400 e: tf.Tensor([[0.3347248]], shape=(1, 1), dtype=float32)\n",
            "i: 480 e: tf.Tensor([[0.21649012]], shape=(1, 1), dtype=float32)\n",
            "i: 560 e: tf.Tensor([[0.1326925]], shape=(1, 1), dtype=float32)\n",
            "i: 640 e: tf.Tensor([[0.07563302]], shape=(1, 1), dtype=float32)\n",
            "i: 720 e: tf.Tensor([[0.04028901]], shape=(1, 1), dtype=float32)\n",
            "i: 800 e: tf.Tensor([[0.02034864]], shape=(1, 1), dtype=float32)\n",
            "i: 880 e: tf.Tensor([[0.00989045]], shape=(1, 1), dtype=float32)\n",
            "i: 960 e: tf.Tensor([[0.0046817]], shape=(1, 1), dtype=float32)\n",
            "***** l: 3\n",
            "i: 0 e: tf.Tensor([[2.0858393]], shape=(1, 1), dtype=float32)\n",
            "i: 80 e: tf.Tensor([[1.7810347]], shape=(1, 1), dtype=float32)\n",
            "i: 160 e: tf.Tensor([[1.4178871]], shape=(1, 1), dtype=float32)\n",
            "i: 240 e: tf.Tensor([[1.0327886]], shape=(1, 1), dtype=float32)\n",
            "i: 320 e: tf.Tensor([[0.7573248]], shape=(1, 1), dtype=float32)\n",
            "i: 400 e: tf.Tensor([[0.60547984]], shape=(1, 1), dtype=float32)\n",
            "i: 480 e: tf.Tensor([[0.5171435]], shape=(1, 1), dtype=float32)\n",
            "i: 560 e: tf.Tensor([[0.44853568]], shape=(1, 1), dtype=float32)\n",
            "i: 640 e: tf.Tensor([[0.37967297]], shape=(1, 1), dtype=float32)\n",
            "i: 720 e: tf.Tensor([[0.30552307]], shape=(1, 1), dtype=float32)\n",
            "i: 800 e: tf.Tensor([[0.23096256]], shape=(1, 1), dtype=float32)\n",
            "i: 880 e: tf.Tensor([[0.16500604]], shape=(1, 1), dtype=float32)\n",
            "i: 960 e: tf.Tensor([[0.1136944]], shape=(1, 1), dtype=float32)\n",
            "***** l: 4\n",
            "i: 0 e: tf.Tensor([[1.9274645]], shape=(1, 1), dtype=float32)\n",
            "i: 80 e: tf.Tensor([[1.4802706]], shape=(1, 1), dtype=float32)\n",
            "i: 160 e: tf.Tensor([[1.180054]], shape=(1, 1), dtype=float32)\n",
            "i: 240 e: tf.Tensor([[0.96109986]], shape=(1, 1), dtype=float32)\n",
            "i: 320 e: tf.Tensor([[0.8014478]], shape=(1, 1), dtype=float32)\n",
            "i: 400 e: tf.Tensor([[0.67429125]], shape=(1, 1), dtype=float32)\n",
            "i: 480 e: tf.Tensor([[0.56128806]], shape=(1, 1), dtype=float32)\n",
            "i: 560 e: tf.Tensor([[0.45529482]], shape=(1, 1), dtype=float32)\n",
            "i: 640 e: tf.Tensor([[0.35575843]], shape=(1, 1), dtype=float32)\n",
            "i: 720 e: tf.Tensor([[0.2663989]], shape=(1, 1), dtype=float32)\n",
            "i: 800 e: tf.Tensor([[0.19262394]], shape=(1, 1), dtype=float32)\n",
            "i: 880 e: tf.Tensor([[0.13718162]], shape=(1, 1), dtype=float32)\n",
            "i: 960 e: tf.Tensor([[0.0983263]], shape=(1, 1), dtype=float32)\n",
            "***** l: 5\n",
            "i: 0 e: tf.Tensor([[1.2243074]], shape=(1, 1), dtype=float32)\n",
            "i: 80 e: tf.Tensor([[0.583323]], shape=(1, 1), dtype=float32)\n",
            "i: 160 e: tf.Tensor([[0.23916781]], shape=(1, 1), dtype=float32)\n",
            "i: 240 e: tf.Tensor([[0.11155956]], shape=(1, 1), dtype=float32)\n",
            "i: 320 e: tf.Tensor([[0.06310157]], shape=(1, 1), dtype=float32)\n",
            "i: 400 e: tf.Tensor([[0.04055724]], shape=(1, 1), dtype=float32)\n",
            "i: 480 e: tf.Tensor([[0.0281576]], shape=(1, 1), dtype=float32)\n",
            "i: 560 e: tf.Tensor([[0.0206449]], shape=(1, 1), dtype=float32)\n",
            "i: 640 e: tf.Tensor([[0.01582294]], shape=(1, 1), dtype=float32)\n",
            "i: 720 e: tf.Tensor([[0.01259618]], shape=(1, 1), dtype=float32)\n",
            "i: 800 e: tf.Tensor([[0.01035844]], shape=(1, 1), dtype=float32)\n",
            "i: 880 e: tf.Tensor([[0.00875437]], shape=(1, 1), dtype=float32)\n",
            "i: 960 e: tf.Tensor([[0.00756787]], shape=(1, 1), dtype=float32)\n",
            "***** l: 6\n",
            "i: 0 e: tf.Tensor([[2.2149062]], shape=(1, 1), dtype=float32)\n",
            "i: 80 e: tf.Tensor([[1.1830527]], shape=(1, 1), dtype=float32)\n",
            "i: 160 e: tf.Tensor([[0.40901637]], shape=(1, 1), dtype=float32)\n",
            "i: 240 e: tf.Tensor([[0.1511479]], shape=(1, 1), dtype=float32)\n",
            "i: 320 e: tf.Tensor([[0.0788404]], shape=(1, 1), dtype=float32)\n",
            "i: 400 e: tf.Tensor([[0.051691]], shape=(1, 1), dtype=float32)\n",
            "i: 480 e: tf.Tensor([[0.03820245]], shape=(1, 1), dtype=float32)\n",
            "i: 560 e: tf.Tensor([[0.03017374]], shape=(1, 1), dtype=float32)\n",
            "i: 640 e: tf.Tensor([[0.02483774]], shape=(1, 1), dtype=float32)\n",
            "i: 720 e: tf.Tensor([[0.02102212]], shape=(1, 1), dtype=float32)\n",
            "i: 800 e: tf.Tensor([[0.01814562]], shape=(1, 1), dtype=float32)\n",
            "i: 880 e: tf.Tensor([[0.01588882]], shape=(1, 1), dtype=float32)\n",
            "i: 960 e: tf.Tensor([[0.01406362]], shape=(1, 1), dtype=float32)\n",
            "***** l: 7\n",
            "i: 0 e: tf.Tensor([[1.6543541]], shape=(1, 1), dtype=float32)\n",
            "i: 80 e: tf.Tensor([[0.7825605]], shape=(1, 1), dtype=float32)\n",
            "i: 160 e: tf.Tensor([[0.47306037]], shape=(1, 1), dtype=float32)\n",
            "i: 240 e: tf.Tensor([[0.31735831]], shape=(1, 1), dtype=float32)\n",
            "i: 320 e: tf.Tensor([[0.21926364]], shape=(1, 1), dtype=float32)\n",
            "i: 400 e: tf.Tensor([[0.15553375]], shape=(1, 1), dtype=float32)\n",
            "i: 480 e: tf.Tensor([[0.11339433]], shape=(1, 1), dtype=float32)\n",
            "i: 560 e: tf.Tensor([[0.08471514]], shape=(1, 1), dtype=float32)\n",
            "i: 640 e: tf.Tensor([[0.06462904]], shape=(1, 1), dtype=float32)\n",
            "i: 720 e: tf.Tensor([[0.05023313]], shape=(1, 1), dtype=float32)\n",
            "i: 800 e: tf.Tensor([[0.03972431]], shape=(1, 1), dtype=float32)\n",
            "i: 880 e: tf.Tensor([[0.03192981]], shape=(1, 1), dtype=float32)\n",
            "i: 960 e: tf.Tensor([[0.02605896]], shape=(1, 1), dtype=float32)\n",
            "***** l: 8\n",
            "i: 0 e: tf.Tensor([[1.7410808]], shape=(1, 1), dtype=float32)\n",
            "i: 80 e: tf.Tensor([[0.9954637]], shape=(1, 1), dtype=float32)\n",
            "i: 160 e: tf.Tensor([[0.4572194]], shape=(1, 1), dtype=float32)\n",
            "i: 240 e: tf.Tensor([[0.2057211]], shape=(1, 1), dtype=float32)\n",
            "i: 320 e: tf.Tensor([[0.1085519]], shape=(1, 1), dtype=float32)\n",
            "i: 400 e: tf.Tensor([[0.06844717]], shape=(1, 1), dtype=float32)\n",
            "i: 480 e: tf.Tensor([[0.04948258]], shape=(1, 1), dtype=float32)\n",
            "i: 560 e: tf.Tensor([[0.03915833]], shape=(1, 1), dtype=float32)\n",
            "i: 640 e: tf.Tensor([[0.03276172]], shape=(1, 1), dtype=float32)\n",
            "i: 720 e: tf.Tensor([[0.02834579]], shape=(1, 1), dtype=float32)\n",
            "i: 800 e: tf.Tensor([[0.02503604]], shape=(1, 1), dtype=float32)\n",
            "i: 880 e: tf.Tensor([[0.02240658]], shape=(1, 1), dtype=float32)\n",
            "i: 960 e: tf.Tensor([[0.02023271]], shape=(1, 1), dtype=float32)\n",
            "***** l: 9\n",
            "i: 0 e: tf.Tensor([[1.9163413]], shape=(1, 1), dtype=float32)\n",
            "i: 80 e: tf.Tensor([[0.61940825]], shape=(1, 1), dtype=float32)\n",
            "i: 160 e: tf.Tensor([[0.23349118]], shape=(1, 1), dtype=float32)\n",
            "i: 240 e: tf.Tensor([[0.13431893]], shape=(1, 1), dtype=float32)\n",
            "i: 320 e: tf.Tensor([[0.08994634]], shape=(1, 1), dtype=float32)\n",
            "i: 400 e: tf.Tensor([[0.06494771]], shape=(1, 1), dtype=float32)\n",
            "i: 480 e: tf.Tensor([[0.0494973]], shape=(1, 1), dtype=float32)\n",
            "i: 560 e: tf.Tensor([[0.03926581]], shape=(1, 1), dtype=float32)\n",
            "i: 640 e: tf.Tensor([[0.03206607]], shape=(1, 1), dtype=float32)\n",
            "i: 720 e: tf.Tensor([[0.02673497]], shape=(1, 1), dtype=float32)\n",
            "i: 800 e: tf.Tensor([[0.0226257]], shape=(1, 1), dtype=float32)\n",
            "i: 880 e: tf.Tensor([[0.0193608]], shape=(1, 1), dtype=float32)\n",
            "i: 960 e: tf.Tensor([[0.01670752]], shape=(1, 1), dtype=float32)\n",
            "***** l: 10\n",
            "i: 0 e: tf.Tensor([[2.5123599]], shape=(1, 1), dtype=float32)\n",
            "i: 80 e: tf.Tensor([[0.7133369]], shape=(1, 1), dtype=float32)\n",
            "i: 160 e: tf.Tensor([[0.2516332]], shape=(1, 1), dtype=float32)\n",
            "i: 240 e: tf.Tensor([[0.1116638]], shape=(1, 1), dtype=float32)\n",
            "i: 320 e: tf.Tensor([[0.05770757]], shape=(1, 1), dtype=float32)\n",
            "i: 400 e: tf.Tensor([[0.03298598]], shape=(1, 1), dtype=float32)\n",
            "i: 480 e: tf.Tensor([[0.02023844]], shape=(1, 1), dtype=float32)\n",
            "i: 560 e: tf.Tensor([[0.01310835]], shape=(1, 1), dtype=float32)\n",
            "i: 640 e: tf.Tensor([[0.00887265]], shape=(1, 1), dtype=float32)\n",
            "i: 720 e: tf.Tensor([[0.00622804]], shape=(1, 1), dtype=float32)\n",
            "i: 800 e: tf.Tensor([[0.00450289]], shape=(1, 1), dtype=float32)\n",
            "i: 880 e: tf.Tensor([[0.0033331]], shape=(1, 1), dtype=float32)\n",
            "i: 960 e: tf.Tensor([[0.0025127]], shape=(1, 1), dtype=float32)\n",
            "tf.Tensor([[0.00220099]], shape=(1, 1), dtype=float32)\n"
          ],
          "name": "stdout"
        }
      ]
    },
    {
      "cell_type": "code",
      "metadata": {
        "id": "s75F4WixVRV3",
        "colab_type": "code",
        "colab": {}
      },
      "source": [
        "eValues = tf.reshape(eValues,[1,1000])"
      ],
      "execution_count": null,
      "outputs": []
    },
    {
      "cell_type": "code",
      "metadata": {
        "id": "Efl8_DiPZivY",
        "colab_type": "code",
        "colab": {
          "base_uri": "https://localhost:8080/",
          "height": 34
        },
        "outputId": "3472fb8d-11c2-49f5-f035-8c418403f90d"
      },
      "source": [
        "print(len(params[0]))"
      ],
      "execution_count": 28,
      "outputs": [
        {
          "output_type": "stream",
          "text": [
            "16\n"
          ],
          "name": "stdout"
        }
      ]
    },
    {
      "cell_type": "code",
      "metadata": {
        "id": "rIpqv_RZMc8g",
        "colab_type": "code",
        "colab": {
          "base_uri": "https://localhost:8080/",
          "height": 500
        },
        "outputId": "6fbf2bff-d3a8-4520-f5a1-e889d85549b9"
      },
      "source": [
        "plt.figure(figsize=(12, 8))\n",
        "for l in range(L):\n",
        "  label='L = {}'.format(l+1)\n",
        "  #plt.plot(aliceboblosses[:steps], label='Alice_Bob')\n",
        "  plt.plot(list_of_e[l],label = label)\n",
        "plt.xlabel(\"Iterations\", fontsize=13)\n",
        "plt.ylabel(\"E Values\", fontsize=13)\n",
        "plt.legend(fontsize=13)\n",
        "plt.show()"
      ],
      "execution_count": 17,
      "outputs": [
        {
          "output_type": "display_data",
          "data": {
            "image/png": "[encoded data removed]",
            "text/plain": [
              "<Figure size 864x576 with 1 Axes>"
            ]
          },
          "metadata": {
            "tags": [],
            "needs_background": "light"
          }
        }
      ]
    },
    {
      "cell_type": "code",
      "metadata": {
        "id": "o8k7G_0NMhc0",
        "colab_type": "code",
        "colab": {
          "base_uri": "https://localhost:8080/",
          "height": 102
        },
        "outputId": "eac740c5-e0a5-420c-b6ec-083369de6fca"
      },
      "source": [
        "  approximation = state_layer(qnn, symbol_names=params_names, symbol_values=params)\n",
        "  e = states_distance(approximation,target_state)\n",
        "  print('params:', params, params% 2*np.pi, 'e:', e)"
      ],
      "execution_count": null,
      "outputs": [
        {
          "output_type": "stream",
          "text": [
            "params: tf.Tensor(\n",
            "[[5.8125076 3.082775  5.554178  3.536392  8.038719  1.7454691 3.7011755\n",
            "  0.5023185]], shape=(1, 8), dtype=float32) tf.Tensor(\n",
            "[[5.694161   3.4016385  4.882595   4.826718   0.12163989 5.483553\n",
            "  5.3444004  1.5780802 ]], shape=(1, 8), dtype=float32) e: tf.Tensor([[0.6126985]], shape=(1, 1), dtype=float32)\n"
          ],
          "name": "stdout"
        }
      ]
    }
  ]
}